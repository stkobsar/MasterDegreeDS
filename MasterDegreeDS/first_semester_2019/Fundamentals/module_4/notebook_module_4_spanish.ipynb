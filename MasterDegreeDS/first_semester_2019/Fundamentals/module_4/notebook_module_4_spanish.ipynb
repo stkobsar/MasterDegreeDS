{
 "cells": [
  {
   "cell_type": "markdown",
   "metadata": {},
   "source": [
    "Programación para *Data Science*\n",
    "============================\n",
    "\n",
    "Unidad 4: Librerías científicas en Python\n",
    "--------------------------------------\n",
    "\n",
    "\n",
    "En este Notebook encontraréis dos conjuntos de ejercicios: un primer conjunto de **ejercicios para practicar** y un segundo conjunto de **actividades evaluables** como PEC de la asignatura.\n",
    "\n",
    "En cuanto al conjunto de ejercicios para practicar, éstos no puntúan para la PEC, pero os recomendamos que los intentéis resolver como parte del proceso de aprendizaje. Encontraréis ejemplos de posibles soluciones a los ejercicios al propio notebook, pero es importante que intentéis resolverlos vosotros antes de consultar las soluciones. Las soluciones os permitirán validar vuestras respuestas, así como ver alternativas de resolución de las actividades. También os animamos a preguntar cualquier duda que surja sobre la resolución de los **ejercicios para practicar** en el foro del aula.\n",
    "\n",
    "En relación a las actividades evaluables, veréis que cada una de ellas tiene asociada una puntuación que indica el peso que tiene la actividad sobre la nota de la PEC. Adicionalmente, hay un ejercicio opcional, que no tiene puntuación dentro de la PEC, pero que se valora al final del semestre de cara a conceder las matrículas de honor y redondear las notas finales. Podéis sacar la máxima nota de la PEC sin necesidad de hacer este ejercicio! El objetivo de este ejercicio es que sirva como pequeño reto para los estudiantes que quieran profundizar en el contenido de la asignatura.\n",
    "\n",
    "Además, veréis que todas las actividades tienen una etiqueta que indica los recursos necesarios para llevarla a cabo. Hay tres posibles etiquetas:\n",
    "\n",
    "* <span style=\"font-family: Courier New; background-color: #82b74b; color: #000000; padding: 3px; \">NM</span> **Sólo materiales**: las herramientas necesarias para realizar la actividad se pueden encontrar en los materiales de la asignatura. \n",
    "\n",
    "* <span style=\"font-family: Courier New; background-color: #ffcc5c; color: #000000; padding: 3px; \">EG</span> **Consulta externa guiada**: la actividad puede requerir hacer uso de herramientas que no se encuentran en los materiales de la asignatura, pero el enunciado contiene indicaciones de dónde o cómo encontrar la información adicional necesaria para resolver la actividad.\n",
    "\n",
    "* <span style=\"font-family: Courier New; background-color: #f2ae72; color: #000000; padding: 3px; \">EI</span> **Consulta externa independente**: la actividad puede requerir hacer uso de herramientas que no se encuentran en los materiales de la asignatura, y el enunciado puede no incluir la descripción de dónde o cómo encontrar esta información adicional. Será necesario que el estudiante busque esta información utilizando los recursos que se han explicado en la asignatura.\n",
    "\n",
    "Es importante notar que estas etiquetas no indican el nivel de dificultad del ejercicio, sino únicamente la necesidad de consulta de documentación externa para su resolución. Además, recordad que las **etiquetas son informativas**, pero podréis consultar referencias externas en cualquier momento (aunque no se indique explícitamente) o puede ser que podáis hacer una actividad sin consultar ningún tipo de documentación. Por ejemplo, para resolver una actividad que sólo requiera los materiales de la asignatura, puedéis consultar referencias externas si queréis, ya sea tanto para ayudaros en la resolución como para ampliar el conocimiento!\n",
    "\n",
    "En cuanto a la consulta de documentación externa en la resolución de los ejercicios, recordad **citar siempre la bibliografía utilizada** para resolver cada actividad."
   ]
  },
  {
   "cell_type": "markdown",
   "metadata": {},
   "source": [
    "---"
   ]
  },
  {
   "cell_type": "markdown",
   "metadata": {},
   "source": [
    "## Ejercicios para practicar\n",
    "\n",
    "**Los siguientes 3 ejercicios no puntúan para la PEC**, pero os recomendamos que los intentéis resolver antes de pasar a los ejercicios propios de la PEC. También encontraréis las soluciones a estos ejercicios al final del Notebook."
   ]
  },
  {
   "cell_type": "markdown",
   "metadata": {},
   "source": [
    "### Ejercicio 1\n",
    "\n",
    "Definid una función que dadas dos matrices, devuelva el valor absoluto de la multiplicación de los determinantes ambas, es decir, dadas A y B, nuestra función devolverá `|det(A) * det(B)|`. \n",
    "\n",
    "**Nota:** Podéis consultar la documentación del módulo [linalg](https://docs.scipy.org/doc/numpy-1.15.0/reference/routines.linalg.html) para resolver este ejercicio. \n",
    "\n",
    "<span style=\"font-family: Courier New; background-color: #ffcc5c; color: #000000; padding: 3px; \">EG</span>"
   ]
  },
  {
   "cell_type": "code",
   "execution_count": null,
   "metadata": {},
   "outputs": [],
   "source": [
    "# Respuesta"
   ]
  },
  {
   "cell_type": "markdown",
   "metadata": {},
   "source": [
    "### Ejercicio 2 \n",
    "\n",
    "Cread una matriz 10x10 que corresponda con la [matriz identidad](https://es.wikipedia.org/wiki/Matriz_identidad) usando generadores básicos de arrays. Cread una matriz identidad 10x10 (esta vez usando generadores especificos de matrices identidad) y comprobad que ambas matrices son iguales. \n",
    "\n",
    "**Consideraciones:**\n",
    "\n",
    "- La primera matriz debe crearse usando constructores básicos de arrays, como los presentados en los Notebooks de teoría.\n",
    "- La segunda matriz debe generarse utilizando el generador de matrices identidad de numpy.\n",
    "- La comparación debe devolver True si las matrices son iguales (un único True), False de no ser así.\n",
    "\n",
    "**Nota:** Podéis consultar la documentación sobre [creación de matrices](https://docs.scipy.org/doc/numpy-1.15.1/reference/routines.array-creation.html) de Numpy para resolver este ejercicio.\n",
    "\n",
    "<span style=\"font-family: Courier New; background-color: #ffcc5c; color: #000000; padding: 3px; \">EG</span>"
   ]
  },
  {
   "cell_type": "code",
   "execution_count": null,
   "metadata": {},
   "outputs": [],
   "source": [
    "# Respuesta"
   ]
  },
  {
   "cell_type": "markdown",
   "metadata": {},
   "source": [
    "### Ejercicio 3\n",
    "\n",
    "Representad en un único gráfico las funciones f1 y f2 definidas más abajo, evaluadas en el intervalo [0, 7] y con paso (resolución) 0.1. <span style=\"font-family: Courier New; background-color: #82b74b; color: #000000; padding: 3px; \">NM</span>"
   ]
  },
  {
   "cell_type": "code",
   "execution_count": 46,
   "metadata": {},
   "outputs": [],
   "source": [
    "import numpy as np\n",
    "\n",
    "def f1(x):\n",
    "    return np.power(x, 2)\n",
    "\n",
    "def f2(x):\n",
    "    return np.power(2,x)\n"
   ]
  },
  {
   "cell_type": "code",
   "execution_count": 59,
   "metadata": {},
   "outputs": [
    {
     "name": "stdout",
     "output_type": "stream",
     "text": [
      "[1, 4, 9, 16, 25, 36, 49]\n",
      "[2, 4, 8, 16, 32, 64, 128]\n"
     ]
    },
    {
     "data": {
      "image/png": "[encoded data removed]",
      "text/plain": [
       "<Figure size 432x288 with 1 Axes>"
      ]
     },
     "metadata": {
      "needs_background": "light"
     },
     "output_type": "display_data"
    }
   ],
   "source": [
    "import matplotlib.pyplot as plt\n",
    "\n",
    "values=[1, 2, 3, 4, 5, 6, 7]\n",
    "\n",
    "f1_res = list(f1(values))\n",
    "f2_res = list(f2(values))\n",
    "\n",
    "print(f1_res)\n",
    "print(f2_res)\n",
    "\n",
    "plt.plot(f1_res, values)\n",
    "plt.plot(f2_res, values)\n",
    "\n",
    "plt.legend([\"f1\", \"f2\"])\n",
    "\n",
    "plt.show()\n",
    "\n"
   ]
  },
  {
   "cell_type": "markdown",
   "metadata": {},
   "source": [
    "---"
   ]
  },
  {
   "cell_type": "markdown",
   "metadata": {},
   "source": [
    "## Ejercicios y preguntas teóricas para la PEC\n",
    "\n",
    "A continuación, encontraréis los **ejercicios y preguntas teóricas que debéis completar en esta PEC** y que forman parte de la evaluación de esta unidad."
   ]
  },
  {
   "cell_type": "markdown",
   "metadata": {},
   "source": [
    "<span style=\"color: #1d17f4; padding: 3px; font-size: x-large\">NumPy - Ejercicios</span>"
   ]
  },
  {
   "cell_type": "markdown",
   "metadata": {},
   "source": [
    "### Ejercicio 1\n",
    "\n",
    "Cread dos matrices, A y B, de mida 5x5 con números enteros aleatorios entre 1 y 10. A continuación cread una tercera matriz, C, de mida 2x5 a partir de la última fila de la matriz A y la primera fila de la matriz B: la primera fila de la matriz C será la última de la matriz A, y la segunda fila de la matriz C será la primera fila de la matriz B. Mostrad por pantalla el resultado obtenido.\n",
    "\n",
    "**(0.5 punts)** <span style=\"font-family: Courier New; background-color: #82b74b; color: #000000; padding: 2px; \">NM</span>"
   ]
  },
  {
   "cell_type": "code",
   "execution_count": 1,
   "metadata": {},
   "outputs": [
    {
     "name": "stdout",
     "output_type": "stream",
     "text": [
      "Matriz A:\n",
      "[[5 8 9 7 5]\n",
      " [6 3 2 5 3]\n",
      " [8 1 4 5 8]\n",
      " [8 8 1 9 8]\n",
      " [7 4 5 6 2]]\n",
      "\n",
      "Matriz B\n",
      "[[9 8 5 3 7]\n",
      " [1 9 6 4 4]\n",
      " [1 5 1 5 8]\n",
      " [2 3 9 1 2]\n",
      " [8 5 9 2 8]]\n",
      "\n",
      "Matriz C\n",
      "[[7 4 5 6 2]\n",
      " [9 8 5 3 7]]\n"
     ]
    }
   ],
   "source": [
    "import numpy as np\n",
    "import math\n",
    "\n",
    "def create_matrix_random(start_number, finish_number, size):\n",
    "    matrix = np.random.randint(start_number, finish_number, size)\n",
    "    return matrix\n",
    "\n",
    "A = create_matrix_random(1, 10, (5,5))\n",
    "print(\"Matriz A:\")\n",
    "print((A))\n",
    "print()\n",
    "B = create_matrix_random(1, 10, (5,5))\n",
    "print(\"Matriz B\")\n",
    "print(B)\n",
    "# Matriz C 2x5\n",
    "print()\n",
    "C= np.array([A[4], B[0]])\n",
    "print(\"Matriz C\")\n",
    "print(C)\n",
    "\n",
    "\n",
    "# Check that everything is alright\n",
    "assert all(C[0, :]) == all(A[-1, :]), \"Wrong exercise\"\n",
    "assert all(C[1,:]) == all(B[0, :]), \"Wrong exercise\""
   ]
  },
  {
   "cell_type": "markdown",
   "metadata": {},
   "source": [
    "### Ejercicio 2\n",
    "\n",
    "Dadas las matrices A y B del ejercicio anterior, mostrad por pantalla el resultado de las siguientes operaciones:\n",
    "\n",
    "* Sumar las dos matrices\n",
    "* Restar la matriz B de la matriz A\n",
    "* Multiplicar las dos matrices\n",
    "\n",
    "Explicad brevemente cuál es el método de multiplicación escogido y porque.\n",
    "\n",
    "**(0.5 punts)** <span style=\"font-family: Courier New; background-color: #82b74b; color: #000000; padding: 2px; \">NM</span>"
   ]
  },
  {
   "cell_type": "code",
   "execution_count": 8,
   "metadata": {},
   "outputs": [
    {
     "data": {
      "text/plain": [
       "array([[ 9,  9, 12,  4,  6],\n",
       "       [ 9, 13, 15, 10,  9],\n",
       "       [13, 10, 10, 14, 11],\n",
       "       [15, 10, 15, 11,  5],\n",
       "       [10, 12,  9,  8,  8]])"
      ]
     },
     "execution_count": 8,
     "metadata": {},
     "output_type": "execute_result"
    }
   ],
   "source": [
    "A+B"
   ]
  },
  {
   "cell_type": "code",
   "execution_count": 9,
   "metadata": {},
   "outputs": [
    {
     "data": {
      "text/plain": [
       "array([[ 1,  3,  6,  0,  0],\n",
       "       [ 3,  5, -1, -8,  3],\n",
       "       [ 5, -4, -6, -4,  3],\n",
       "       [ 1, -6,  3,  1, -1],\n",
       "       [ 6,  4, -1, -4,  4]])"
      ]
     },
     "execution_count": 9,
     "metadata": {},
     "output_type": "execute_result"
    }
   ],
   "source": [
    "B-A"
   ]
  },
  {
   "cell_type": "code",
   "execution_count": 10,
   "metadata": {},
   "outputs": [
    {
     "name": "stdout",
     "output_type": "stream",
     "text": [
      "[[105  88  93  44  73]\n",
      " [207 120 164 110 125]\n",
      " [238 161 198 117 152]\n",
      " [201 166 188  88 139]\n",
      " [143  91 118  73  89]]\n",
      "\n",
      "[[ 94 130 162 173  81]\n",
      " [ 98 135 182 197  88]\n",
      " [102 121 132 130  73]\n",
      " [120 151 158 157  88]\n",
      " [ 98 124 162 170  82]]\n"
     ]
    }
   ],
   "source": [
    "\"\"\"\n",
    "Para la multiplicación se puede hacer elemento por elemento, o se puede hacer la multiplicación\n",
    "de matrices tradicional. La condición para realizar un producto matricial es que la matriz A tenga el mismo\n",
    "numero de columnas que filas tiene la matriz B. En este caso si se cumple y por eso haré el producto \n",
    "matricial en vez de la multiplicación elemento por elemento. No existe propiedad conmutativa en\n",
    "el producto matricial. \n",
    "\"\"\"\n",
    "\n",
    "mult=A.dot(B)\n",
    "print(mult)\n",
    "print()\n",
    "mult2=B.dot(A)\n",
    "print(mult2)"
   ]
  },
  {
   "cell_type": "markdown",
   "metadata": {},
   "source": [
    "### Ejercicio 3\n",
    "\n",
    "Ordenad la matriz bidimensional ```[[5,1,7], [0,7,4], [7,23,1]]``` por columnas utilizando como algoritmo de ordenación el [Heapsort](https://en.wikipedia.org/wiki/Heapsort). \n",
    "\n",
    "**Nota:** Para resolver este ejercicio os puede ser de ayuda la función [sort](https://docs.scipy.org/doc/numpy/reference/generated/numpy.sort.html#numpy.sort) de Numpy que nos permite ordenar los elementos de un array N-dimensional.\n",
    "\n",
    "**(0.5 punts)** <span style=\"font-family: Courier New; background-color: #ffcc5c; color: #000000; padding: 3px; \">EG</span>"
   ]
  },
  {
   "cell_type": "code",
   "execution_count": 2,
   "metadata": {},
   "outputs": [
    {
     "name": "stdout",
     "output_type": "stream",
     "text": [
      "[[ 5  1  7]\n",
      " [ 0  7  4]\n",
      " [ 7 23  1]] \n",
      "\n",
      "[[ 0  1  1]\n",
      " [ 5  7  4]\n",
      " [ 7 23  7]]\n"
     ]
    }
   ],
   "source": [
    "import numpy as np\n",
    "matrix = np.array([[5, 1, 7], [0,7,4], [7,23,1]])\n",
    "#How to set an enter at the end\n",
    "print(matrix, \"\\n\")\n",
    "matrix_order = np.sort(matrix, axis=0, kind=\"heapsort\")\n",
    "print(matrix_order)"
   ]
  },
  {
   "cell_type": "markdown",
   "metadata": {},
   "source": [
    "### Ejercicio 4\n",
    "\n",
    "Cread una matriz, I, de mida 10x10 donde todos sus elementos tendrán el valor `0` utilizando generadores de matrices de numpy. Modificad la matriz anterior de tal forma que ```I[i, j] = i * j``` para todo ```i``` y ```j``` pares, es decir, para todas las posiciones donde tanto `i` como `j` son pares.\n",
    "\n",
    "**(0.5 punts)** <span style=\"font-family: Courier New; background-color: #82b74b; color: #000000; padding: 2px; \">NM</span>"
   ]
  },
  {
   "cell_type": "code",
   "execution_count": 3,
   "metadata": {},
   "outputs": [],
   "source": [
    "import numpy as np\n",
    "\n",
    "I = np.zeros((10, 10))\n",
    "\n",
    "rows, columns = I.shape\n",
    "\n",
    "for column in range(columns):\n",
    "    for row in range(rows):\n",
    "        if column%2 == 0 and row%2 == 0:\n",
    "            I[row,column]=column*row\n",
    "\n",
    "            \n",
    "# Check everything is alright\n",
    "for column in range(columns):\n",
    "    for row in range(rows):\n",
    "        if column%2 == 0 and row%2 == 0:\n",
    "            assert I[row, column] == row*column, \"Column {}, Row {} wrong\".format(row, column)\n",
    "        "
   ]
  },
  {
   "cell_type": "code",
   "execution_count": 19,
   "metadata": {},
   "outputs": [
    {
     "data": {
      "text/plain": [
       "array([[ 0.,  0.,  0.,  0.,  0.,  0.,  0.,  0.,  0.,  0.],\n",
       "       [ 0.,  0.,  0.,  0.,  0.,  0.,  0.,  0.,  0.,  0.],\n",
       "       [ 0.,  0.,  4.,  0.,  8.,  0., 12.,  0., 16.,  0.],\n",
       "       [ 0.,  0.,  0.,  0.,  0.,  0.,  0.,  0.,  0.,  0.],\n",
       "       [ 0.,  0.,  8.,  0., 16.,  0., 24.,  0., 32.,  0.],\n",
       "       [ 0.,  0.,  0.,  0.,  0.,  0.,  0.,  0.,  0.,  0.],\n",
       "       [ 0.,  0., 12.,  0., 24.,  0., 36.,  0., 48.,  0.],\n",
       "       [ 0.,  0.,  0.,  0.,  0.,  0.,  0.,  0.,  0.,  0.],\n",
       "       [ 0.,  0., 16.,  0., 32.,  0., 48.,  0., 64.,  0.],\n",
       "       [ 0.,  0.,  0.,  0.,  0.,  0.,  0.,  0.,  0.,  0.]])"
      ]
     },
     "execution_count": 19,
     "metadata": {},
     "output_type": "execute_result"
    }
   ],
   "source": [
    "I"
   ]
  },
  {
   "cell_type": "markdown",
   "metadata": {},
   "source": [
    "### Ejercicio 5\n",
    "\n",
    "Una técnica que se aplica en muchos algoritmos de compresión de imagenes, como fase previa a la compresión, es asignar a cada píxel de la imagen el valor medio de sus N píxeles vecinos. Nosotros implementaremos una versión simplificada de esta técnica.\n",
    "\n",
    "Una imagen se puede ver como una matriz bidimensional donde cada elemento de la matriz corresponde a un valor de un píxel de la imagen. Por ejemplo, si generamos una imágen a partir de la matriz que os proporcionamos más abajo, veremos una imagen en escala de grises. Para probarlo podéis ejecutar la siguiente intrucción: ```generate_png(pixels)```. Esto os generará un fichero, ```generated.png```, en el directorio de la PAC.\n",
    "\n",
    "Cread una nueva matriz, ```pixels_transform```, a partir de la matriz ```pixels``` donde el valor de cada elemento de ```pixels_transform``` se calculará como la media de los valores de los 4 vecinos más próximos del correspondiente píxel en la matriz ```pixels```. Veámoslo formalmente:\n",
    "\n",
    "```\n",
    "pixels_transform[i, j] = (pixels[i, j-1] + pixels[i-1, j] + pixels[i, j+1] + pixels[i+1, j]) / 4\n",
    "```\n",
    "\n",
    "*Consideraciones:*\n",
    "\n",
    "* Consideramos como los 4 vecinos más próximos los píxeles anterior (izquierda), superior (arriba), posterior (derecha) e inferior (abajo) del píxel que estamos analizando.\n",
    "* Si no podemos acceder a alguno de estos vecinos (e.g. el píxel (0, 0) no tiene vecinos anterior y superior), asumimos que los valores que nos faltan son 0.\n",
    "\n",
    "Mostrad por pantalla el resultado obtenido.\n",
    "\n",
    "**Nota:** Para resolver este ejercicio necesitamos recorer todos los elementos de la matriz ```pixels``` y para cada elemento tenemos que comprobar los valores de sus 4 vecinos. Necesitaremos un bloque condicional (```if```) para cada uno de los elementos vecinos.\n",
    "\n",
    "**(1.5 punts)** <span style=\"font-family: Courier New; background-color: #82b74b; color: #000000; padding: 2px; \">NM</span>"
   ]
  },
  {
   "cell_type": "code",
   "execution_count": 10,
   "metadata": {},
   "outputs": [],
   "source": [
    "import matplotlib.pyplot as plt\n",
    "%matplotlib inline"
   ]
  },
  {
   "cell_type": "code",
   "execution_count": 11,
   "metadata": {},
   "outputs": [
    {
     "data": {
      "text/plain": [
       "<matplotlib.image.AxesImage at 0x10dea0e10>"
      ]
     },
     "execution_count": 11,
     "metadata": {},
     "output_type": "execute_result"
    },
    {
     "data": {
      "image/png": "[encoded data removed]",
      "text/plain": [
       "<Figure size 432x288 with 1 Axes>"
      ]
     },
     "metadata": {
      "needs_background": "light"
     },
     "output_type": "display_data"
    }
   ],
   "source": [
    "from PIL import Image\n",
    "import numpy as np\n",
    "pixels = [\n",
    "[54, 93, 71, 168],\n",
    "[122, 54, 167, 93],\n",
    "[71, 167, 54, 122],\n",
    "[167, 82, 23, 54]\n",
    "]\n",
    "\n",
    "plt.imshow(pixels)"
   ]
  },
  {
   "cell_type": "code",
   "execution_count": 12,
   "metadata": {},
   "outputs": [],
   "source": [
    "from PIL import Image\n",
    "import numpy as np\n",
    "\n",
    "pixels = [\n",
    "[54, 93, 71, 168],\n",
    "[122, 54, 167, 93],\n",
    "[71, 167, 54, 122],\n",
    "[167, 82, 23, 54]\n",
    "]\n",
    "\n",
    "pixels = np.array(pixels, dtype=float)\n",
    "\n",
    "rows, columns = pixels.shape\n",
    "\n",
    "for column in range(columns):\n",
    "    for row in range(rows):\n",
    "        if rows > row-1 > 0:\n",
    "            v1 = pixels[row-1][column]\n",
    "        else:\n",
    "            v1 = 0\n",
    "\n",
    "        if rows > column-1 > 0:\n",
    "            v2 = pixels[row][column-1]\n",
    "        else:\n",
    "            v2 = 0\n",
    "        \n",
    "        if rows > column+1 > 0:\n",
    "            v3 = pixels[row][column+1]\n",
    "        else:\n",
    "            v3 = 0\n",
    "        \n",
    "        if rows > row+1 > 0:\n",
    "            v4 = pixels[row+1][column]\n",
    "        else:\n",
    "            v4 = 0\n",
    "        pixels[row, column] = (v1 + v2+ v3 +v4)/4.0\n",
    "\n",
    "# Check the first pixel is alright\n",
    "assert pixels[0,0] == (122+93)/4.0, \"Wrong result\"\n",
    "        "
   ]
  },
  {
   "cell_type": "code",
   "execution_count": 13,
   "metadata": {},
   "outputs": [
    {
     "data": {
      "text/plain": [
       "<matplotlib.image.AxesImage at 0x11f270ed0>"
      ]
     },
     "execution_count": 13,
     "metadata": {},
     "output_type": "execute_result"
    },
    {
     "data": {
      "image/png": "[encoded data removed]",
      "text/plain": [
       "<Figure size 432x288 with 1 Axes>"
      ]
     },
     "metadata": {
      "needs_background": "light"
     },
     "output_type": "display_data"
    }
   ],
   "source": [
    "plt.imshow(pixels)"
   ]
  },
  {
   "cell_type": "markdown",
   "metadata": {},
   "source": [
    "<br>\n",
    "<span style=\"color: #1d17f4; padding: 3px; font-size: x-large\">Matplotlib - Ejercicios</span>"
   ]
  },
  {
   "cell_type": "markdown",
   "metadata": {},
   "source": [
    "### Ejercicio 1\n",
    "\n",
    "Representad en una única gráfica las funciones f1 y f2 definidas más abajo, evaluadas en el intervalo [0, 2] y con paso (resolución) 0.01. Haced que los rangos de valores mostrados sean `[0.25, 2.25]` para el eje de las X y `[-1, 1]` para el eje de las Y. Adicionalmente, mostrad la gráfica correspondiente a ```f1``` con color <span style=\"color: green\">verde</span> y la gráfica correspondiente a ```f2``` con color <span style=\"color: red\">rojo</span>.\n",
    "\n",
    "**(1 punt)** <span style=\"font-family: Courier New; background-color: #82b74b; color: #000000; padding: 2px; \">NM</span>"
   ]
  },
  {
   "cell_type": "code",
   "execution_count": 14,
   "metadata": {},
   "outputs": [
    {
     "data": {
      "text/plain": [
       "<matplotlib.legend.Legend at 0x11f37fd10>"
      ]
     },
     "execution_count": 14,
     "metadata": {},
     "output_type": "execute_result"
    },
    {
     "data": {
      "image/png": "[encoded data removed]",
      "text/plain": [
       "<Figure size 432x288 with 1 Axes>"
      ]
     },
     "metadata": {
      "needs_background": "light"
     },
     "output_type": "display_data"
    }
   ],
   "source": [
    "import numpy as np\n",
    "import matplotlib.pyplot as plt\n",
    "\n",
    "def f1(x):\n",
    "    return np.exp(-x)\n",
    "def f2(x):\n",
    "    return np.exp(-x) * np.sin(2 * np.pi * x)\n",
    "\n",
    "rango = np.arange(0,3, 0.01).tolist()\n",
    "\n",
    "\n",
    "ys = []\n",
    "for i in rango:\n",
    "    valor = f1(i)\n",
    "    ys.append(valor)\n",
    "\n",
    "    \n",
    "ys2 = []\n",
    "for i in rango:\n",
    "    valor2 = f2(i)\n",
    "    ys2.append(valor2)  \n",
    "\n",
    "plt.plot(rango, ys, color=\"green\", label = f1)\n",
    "plt.ylim((-1,1))\n",
    "plt.xlim((0.25,2.25))\n",
    "\n",
    "plt.plot(rango, ys2, color= \"red\", label= f2)\n",
    "plt.ylim((-1,1))\n",
    "plt.xlim((0.25,2.25))\n",
    "\n",
    "plt.legend(bbox_to_anchor=(1.05, 1), loc='upper left', borderaxespad=0.)"
   ]
  },
  {
   "cell_type": "markdown",
   "metadata": {},
   "source": [
    "### Ejercicio 2\n",
    "\n",
    "A continuación os facilitamos los resultados de las elecciones generales, que tuvieron lugar en España el pasado mes de abril del 2019, para los 10 partidos más votados. Mostrad dos gráficas de barras con los resultados del número de votos y del número de diputados para cada partido respectivamente.\n",
    "\n",
    "*Consideraciones:*\n",
    "\n",
    "* Debéis mostrar las dos gráficas una al lado de la otra (distribución horizontal).\n",
    "* Cada gráfica tiene que mostrar los datos de manera horizontal (barras horizontales).\n",
    "* El eje de las Y debe incluir las etiquetas con el nombre de los partidos.\n",
    "* Debeís incluir un texto con el número de votos para cada partido dentro del gráfico. El texto debería estar situado a la derecha de cada barra.\n",
    "\n",
    "**Nota:** En el Notebook de teoria hemos visto como mostrar gráficas lineares simples. Matplotlib nos ofrece muchos otros tipos de gráficas, siendo las gráficas de barra uno de ellos. Para resolver este ejercicio podéis consultar la documentación oficial de [Matplotlib](https://matplotlib.org/3.1.1/api/_as_gen/matplotlib.pyplot.bar.html) para ver como trabajar con este tipo de gráficas. También os pueden resultar útiles las funciones [text](https://matplotlib.org/3.1.1/api/_as_gen/matplotlib.pyplot.text.html) o [annotate](https://matplotlib.org/3.1.1/api/_as_gen/matplotlib.pyplot.annotate.html) para mostrar el nombre de votos.\n",
    "\n",
    "**(1.5 punts)** <span style=\"font-family: Courier New; background-color: #ffcc5c; color: #000000; padding: 3px; \">EG</span>"
   ]
  },
  {
   "cell_type": "markdown",
   "metadata": {},
   "source": [
    "| Partido | Votos | Diputados |\n",
    "|--------|------|----------|\n",
    "| PSOE | 7513142 | 123 |\n",
    "| PP | 4373653 | 66 |\n",
    "| Cs | 4155665 | 57 |\n",
    "| PODEMOS-IU-EQUO | 2897419 | 33 |\n",
    "| VOX | 2688092 | 24 |\n",
    "| ERC | 1020392 | 15 |\n",
    "| ECP-GUANYEM | 615665 | 7 |\n",
    "| JxCAT | 500787 | 7 |\n",
    "| EAJ-PNV | 395884 | 6 |\n",
    "| PACMA | 328299 | 0 |"
   ]
  },
  {
   "cell_type": "code",
   "execution_count": 36,
   "metadata": {},
   "outputs": [
    {
     "data": {
      "image/png": "[encoded data removed]",
      "text/plain": [
       "<Figure size 720x576 with 2 Axes>"
      ]
     },
     "metadata": {
      "needs_background": "light"
     },
     "output_type": "display_data"
    }
   ],
   "source": [
    "import numpy as np\n",
    "import matplotlib\n",
    "import matplotlib.pyplot as plt\n",
    "\n",
    "deputies = [123, 66, 57, 33, 24, 15, 7, 7, 6,0]\n",
    "votes = [7513142, 4373653, 4155665, 2897419, 2688092, 1020392, 615665, 500787, 395884, 328299]\n",
    "parties = [\"PSOE\", \"PP\", \"Cs\", \"Podemos\", \"VOX\", \"ERC\", \"ECP\", \"JC\", \"PNV\", \"PACMA\"]\n",
    "\n",
    "fig, axes = plt.subplots(nrows=1, ncols=2, figsize=(10, 8))\n",
    "axes[0].barh(parties, votes)\n",
    "\n",
    "axes[1].barh(parties, deputies)\n",
    "fig.tight_layout()\n",
    "\n",
    "for i in range(0,10):\n",
    "    axes[0].annotate(str(votes[i]), (6000000,i))"
   ]
  },
  {
   "cell_type": "markdown",
   "metadata": {},
   "source": [
    "<br>\n",
    "<span style=\"color: #1d17f4; padding: 3px; font-size: x-large\">pandas - Ejercicios</span>"
   ]
  },
  {
   "cell_type": "markdown",
   "metadata": {},
   "source": [
    "### Ejercicio 1\n",
    "\n",
    "Cargad los datos del fichero _amazon.csv_, que podéis encontrar en la carpeta `data`, en un _dataframe_. Este conjunto de datos recoge información sobre el número de [incendios en bosques de Brasil](https://www.kaggle.com/gustavomodelli/forest-fires-in-brazil) entre el 1998 y el 2017.\n",
    "\n",
    "Mostrad el número de filas del _dataframe_ y el nombre de las columnas.\n",
    "\n",
    "*Consideraciones:*\n",
    "\n",
    "* Debéis mostrar únicamente la información que os pedimos al enunciado.\n",
    "\n",
    "**(0.5 punts)** <span style=\"font-family: Courier New; background-color: #82b74b; color: #000000; padding: 3px; \">NM</span>"
   ]
  },
  {
   "cell_type": "code",
   "execution_count": 41,
   "metadata": {},
   "outputs": [],
   "source": [
    "import pandas as pd"
   ]
  },
  {
   "cell_type": "code",
   "execution_count": 38,
   "metadata": {},
   "outputs": [],
   "source": [
    "data = pd.read_csv(\"/Users/Stephi/Python/prog_datasci_4/data/amazon.csv\")"
   ]
  },
  {
   "cell_type": "code",
   "execution_count": 39,
   "metadata": {},
   "outputs": [],
   "source": [
    "nrows, ncols = data.shape"
   ]
  },
  {
   "cell_type": "code",
   "execution_count": 42,
   "metadata": {},
   "outputs": [
    {
     "name": "stdout",
     "output_type": "stream",
     "text": [
      "numero de filas: 6454\n",
      "numero de columnas: 5\n"
     ]
    }
   ],
   "source": [
    "print(\"numero de filas:\", nrows)\n",
    "print(\"numero de columnas:\", ncols)"
   ]
  },
  {
   "cell_type": "markdown",
   "metadata": {},
   "source": [
    "### Ejercicio 2\n",
    "\n",
    "Agrupad los datos cargados al ejercicio 1 por **año** y, para cada año, mostrad el número total de incendios que tuvierón lugar en todo el país.\n",
    "\n",
    "**Nota:** Al Notebook de teoria hemos visto como calcular la media de una agrupación de datos. Para resolver este ejercicio tendréis que investigar como sumar todos los valores de una columna en una agrupación. Os puede ser de utilidad la función [aggregate](https://pandas.pydata.org/pandas-docs/stable/reference/api/pandas.DataFrame.aggregate.html) de pandas, la cual nos permite aplicar diferentes funciones a una columna en un ```groupby```.\n",
    "\n",
    "**(0.5 punts)** <span style=\"font-family: Courier New; background-color: #ffcc5c; color: #000000; padding: 3px; \">EG</span>"
   ]
  },
  {
   "cell_type": "code",
   "execution_count": 43,
   "metadata": {},
   "outputs": [
    {
     "data": {
      "text/html": [
       "<div>\n",
       "<style scoped>\n",
       "    .dataframe tbody tr th:only-of-type {\n",
       "        vertical-align: middle;\n",
       "    }\n",
       "\n",
       "    .dataframe tbody tr th {\n",
       "        vertical-align: top;\n",
       "    }\n",
       "\n",
       "    .dataframe thead th {\n",
       "        text-align: right;\n",
       "    }\n",
       "</style>\n",
       "<table border=\"1\" class=\"dataframe\">\n",
       "  <thead>\n",
       "    <tr style=\"text-align: right;\">\n",
       "      <th></th>\n",
       "      <th>year</th>\n",
       "      <th>state</th>\n",
       "      <th>month</th>\n",
       "      <th>number</th>\n",
       "      <th>date</th>\n",
       "    </tr>\n",
       "  </thead>\n",
       "  <tbody>\n",
       "    <tr>\n",
       "      <td>0</td>\n",
       "      <td>1998</td>\n",
       "      <td>Acre</td>\n",
       "      <td>Janeiro</td>\n",
       "      <td>0.0</td>\n",
       "      <td>1998-01-01</td>\n",
       "    </tr>\n",
       "    <tr>\n",
       "      <td>1</td>\n",
       "      <td>1999</td>\n",
       "      <td>Acre</td>\n",
       "      <td>Janeiro</td>\n",
       "      <td>0.0</td>\n",
       "      <td>1999-01-01</td>\n",
       "    </tr>\n",
       "    <tr>\n",
       "      <td>2</td>\n",
       "      <td>2000</td>\n",
       "      <td>Acre</td>\n",
       "      <td>Janeiro</td>\n",
       "      <td>0.0</td>\n",
       "      <td>2000-01-01</td>\n",
       "    </tr>\n",
       "  </tbody>\n",
       "</table>\n",
       "</div>"
      ],
      "text/plain": [
       "   year state    month  number        date\n",
       "0  1998  Acre  Janeiro     0.0  1998-01-01\n",
       "1  1999  Acre  Janeiro     0.0  1999-01-01\n",
       "2  2000  Acre  Janeiro     0.0  2000-01-01"
      ]
     },
     "execution_count": 43,
     "metadata": {},
     "output_type": "execute_result"
    }
   ],
   "source": [
    "data.head(n=3)"
   ]
  },
  {
   "cell_type": "code",
   "execution_count": 44,
   "metadata": {},
   "outputs": [
    {
     "data": {
      "text/plain": [
       "[(1998, 20013.971),\n",
       " (1999, 26882.820999999996),\n",
       " (2000, 27351.251),\n",
       " (2001, 29071.612),\n",
       " (2002, 37390.600000000006),\n",
       " (2003, 42760.674),\n",
       " (2004, 38453.163),\n",
       " (2005, 35004.965),\n",
       " (2006, 33832.161),\n",
       " (2007, 33037.413),\n",
       " (2008, 29378.964),\n",
       " (2009, 39117.178),\n",
       " (2010, 37037.449),\n",
       " (2011, 34633.545),\n",
       " (2012, 40084.86),\n",
       " (2013, 35146.118),\n",
       " (2014, 39621.183000000005),\n",
       " (2015, 41208.292),\n",
       " (2016, 42212.229),\n",
       " (2017, 36685.623999999996)]"
      ]
     },
     "execution_count": 44,
     "metadata": {},
     "output_type": "execute_result"
    }
   ],
   "source": [
    "# How to filter by condition!!!!!\n",
    "condition1 = data[\"year\"] == 1998\n",
    "condition = (data[\"year\"] == 1998) & (data[\"month\"] == \"Janeiro\") \n",
    "data_2 = data[condition1]\n",
    "\n",
    "#Retrieve values\n",
    "years = data[\"year\"].unique() #coge solo un valor y no los repite.\n",
    "suma = []\n",
    "for i in years:\n",
    "    condition1 = data[\"year\"] == i\n",
    "    data_2 = data[condition1]\n",
    "    fires = data_2[\"number\"].values\n",
    "    suma.append(np.sum(fires))\n",
    "    \n",
    "table = []\n",
    "for i in range(len(years)):    \n",
    "    var = (years[i], suma[i])\n",
    "    table.append(var)\n",
    "table"
   ]
  },
  {
   "cell_type": "markdown",
   "metadata": {},
   "source": [
    "### Ejercicio 3\n",
    "\n",
    "Mostrad los estados de Brasil donde se registraron más de _800_ incendios al mes, contando los meses de _junio_, _julio_ y _agosto_. Debéis mostrar como resultado una lista de los estados **sin repetir**.\n",
    "\n",
    "**Nota:** Al Notebook de teoria hemos visto operaciones básicas de filtrado. Para resolver este ejercicio deberéis investigar como aplicar condiciones más complejas. Para extraer una lista de valores _únicos_ de una columna de un dataframe os puede ser útil la función [unique](https://pandas.pydata.org/pandas-docs/stable/reference/api/pandas.Series.unique.html) de pandas.\n",
    " \n",
    " **(1 punt)** <span style=\"font-family: Courier New; background-color: #ffcc5c; color: #000000; padding: 3px; \">EG</span>"
   ]
  },
  {
   "cell_type": "code",
   "execution_count": 45,
   "metadata": {},
   "outputs": [
    {
     "data": {
      "text/plain": [
       "array(['Janeiro', 'Fevereiro', 'Março', 'Abril', 'Maio', 'Junho', 'Julho',\n",
       "       'Agosto', 'Setembro', 'Outubro', 'Novembro', 'Dezembro'],\n",
       "      dtype=object)"
      ]
     },
     "execution_count": 45,
     "metadata": {},
     "output_type": "execute_result"
    }
   ],
   "source": [
    "data[\"month\"].unique()"
   ]
  },
  {
   "cell_type": "code",
   "execution_count": 47,
   "metadata": {},
   "outputs": [
    {
     "data": {
      "text/plain": [
       "array(['Acre', 'Alagoas', 'Amapa', 'Amazonas', 'Bahia', 'Ceara',\n",
       "       'Distrito Federal', 'Espirito Santo', 'Goias', 'Maranhao',\n",
       "       'Mato Grosso', 'Minas Gerais', 'Pará', 'Paraiba', 'Pernambuco',\n",
       "       'Piau', 'Rio', 'Rondonia', 'Roraima', 'Santa Catarina',\n",
       "       'Sao Paulo', 'Sergipe', 'Tocantins'], dtype=object)"
      ]
     },
     "execution_count": 47,
     "metadata": {},
     "output_type": "execute_result"
    }
   ],
   "source": [
    "condition = (data[\"number\"] > 800) & (data[\"month\"] == \"Junho\") | (data[\"month\"] == \"Julho\") | (data[\"month\"] == \"Agosto\")\n",
    "data_3 = data[condition]\n",
    "data_3[\"state\"].unique()"
   ]
  },
  {
   "cell_type": "markdown",
   "metadata": {},
   "source": [
    "### Ejercicio 4\n",
    "\n",
    "Queremos buscar aquellos estados donde, durante el año _2017_, tuvierón lugar _más de 800_ incendios al mes, a lo largo de cualquier mes del año. Debéis mostrar por pantalla el **estado**, el **mes** (o los meses si la condición se cumple en varios meses) y el **nombre total de incendios** registrados en el mes correspondiente.\n",
    "\n",
    "**Nota**: Además del contenido de los Notebook de teoria, podéis utilizar lo que habéis aprendido haciendo el ejercicio 2.\n",
    "\n",
    "**(0.5 punts)** <span style=\"font-family: Courier New; background-color: #82b74b; color: #000000; padding: 3px; \">NM</span>"
   ]
  },
  {
   "cell_type": "code",
   "execution_count": 48,
   "metadata": {},
   "outputs": [
    {
     "name": "stdout",
     "output_type": "stream",
     "text": [
      "      year        state     month  number\n",
      "698   2017        Amapa  Novembro   858.0\n",
      "1395  2017        Ceara   Outubro   949.0\n",
      "1415  2017        Ceara  Novembro   812.0\n",
      "2271  2017     Maranhao     Junho   885.0\n",
      "2490  2017  Mato Grosso      Maio   845.0\n",
      "2610  2017  Mato Grosso  Novembro   813.0\n",
      "3725  2017      Paraiba     Julho   891.0\n",
      "3745  2017      Paraiba    Agosto   987.0\n",
      "4920  2017          Rio     Julho   885.0\n",
      "4940  2017          Rio    Agosto   819.0\n",
      "5876  2017    Sao Paulo     Julho   802.0\n",
      "5896  2017    Sao Paulo    Agosto   981.0\n"
     ]
    },
    {
     "data": {
      "text/html": [
       "<div>\n",
       "<style scoped>\n",
       "    .dataframe tbody tr th:only-of-type {\n",
       "        vertical-align: middle;\n",
       "    }\n",
       "\n",
       "    .dataframe tbody tr th {\n",
       "        vertical-align: top;\n",
       "    }\n",
       "\n",
       "    .dataframe thead th {\n",
       "        text-align: right;\n",
       "    }\n",
       "</style>\n",
       "<table border=\"1\" class=\"dataframe\">\n",
       "  <thead>\n",
       "    <tr style=\"text-align: right;\">\n",
       "      <th></th>\n",
       "      <th>year</th>\n",
       "      <th>state</th>\n",
       "      <th>month</th>\n",
       "    </tr>\n",
       "  </thead>\n",
       "  <tbody>\n",
       "    <tr>\n",
       "      <td>698</td>\n",
       "      <td>2017</td>\n",
       "      <td>Amapa</td>\n",
       "      <td>Novembro</td>\n",
       "    </tr>\n",
       "    <tr>\n",
       "      <td>1395</td>\n",
       "      <td>2017</td>\n",
       "      <td>Ceara</td>\n",
       "      <td>Outubro</td>\n",
       "    </tr>\n",
       "    <tr>\n",
       "      <td>1415</td>\n",
       "      <td>2017</td>\n",
       "      <td>Ceara</td>\n",
       "      <td>Novembro</td>\n",
       "    </tr>\n",
       "    <tr>\n",
       "      <td>2271</td>\n",
       "      <td>2017</td>\n",
       "      <td>Maranhao</td>\n",
       "      <td>Junho</td>\n",
       "    </tr>\n",
       "    <tr>\n",
       "      <td>2490</td>\n",
       "      <td>2017</td>\n",
       "      <td>Mato Grosso</td>\n",
       "      <td>Maio</td>\n",
       "    </tr>\n",
       "    <tr>\n",
       "      <td>2610</td>\n",
       "      <td>2017</td>\n",
       "      <td>Mato Grosso</td>\n",
       "      <td>Novembro</td>\n",
       "    </tr>\n",
       "    <tr>\n",
       "      <td>3725</td>\n",
       "      <td>2017</td>\n",
       "      <td>Paraiba</td>\n",
       "      <td>Julho</td>\n",
       "    </tr>\n",
       "    <tr>\n",
       "      <td>3745</td>\n",
       "      <td>2017</td>\n",
       "      <td>Paraiba</td>\n",
       "      <td>Agosto</td>\n",
       "    </tr>\n",
       "    <tr>\n",
       "      <td>4920</td>\n",
       "      <td>2017</td>\n",
       "      <td>Rio</td>\n",
       "      <td>Julho</td>\n",
       "    </tr>\n",
       "    <tr>\n",
       "      <td>4940</td>\n",
       "      <td>2017</td>\n",
       "      <td>Rio</td>\n",
       "      <td>Agosto</td>\n",
       "    </tr>\n",
       "    <tr>\n",
       "      <td>5876</td>\n",
       "      <td>2017</td>\n",
       "      <td>Sao Paulo</td>\n",
       "      <td>Julho</td>\n",
       "    </tr>\n",
       "    <tr>\n",
       "      <td>5896</td>\n",
       "      <td>2017</td>\n",
       "      <td>Sao Paulo</td>\n",
       "      <td>Agosto</td>\n",
       "    </tr>\n",
       "  </tbody>\n",
       "</table>\n",
       "</div>"
      ],
      "text/plain": [
       "      year        state     month\n",
       "698   2017        Amapa  Novembro\n",
       "1395  2017        Ceara   Outubro\n",
       "1415  2017        Ceara  Novembro\n",
       "2271  2017     Maranhao     Junho\n",
       "2490  2017  Mato Grosso      Maio\n",
       "2610  2017  Mato Grosso  Novembro\n",
       "3725  2017      Paraiba     Julho\n",
       "3745  2017      Paraiba    Agosto\n",
       "4920  2017          Rio     Julho\n",
       "4940  2017          Rio    Agosto\n",
       "5876  2017    Sao Paulo     Julho\n",
       "5896  2017    Sao Paulo    Agosto"
      ]
     },
     "execution_count": 48,
     "metadata": {},
     "output_type": "execute_result"
    }
   ],
   "source": [
    "condition = (data[\"year\"] == 2017) & (data[\"number\"] > 800)\n",
    "data_4 = data[condition]\n",
    "\n",
    "data_4_2 = data_4.drop(['date'], axis=1)\n",
    "print(data_4_2)\n",
    "\n",
    "columns_to_view = [\"year\", \"state\", \"month\"]\n",
    "data_4[columns_to_view]"
   ]
  },
  {
   "cell_type": "markdown",
   "metadata": {},
   "source": [
    "### Ejercicio 5\n",
    "\n",
    "Cread una copia del dataframe original añadiendo una nueva columna que nos indicará para cada fila el nivel de riesgo de dicha fila. Definimos tres niveles de riesgo:\n",
    "\n",
    "- **high** : si se ha registrado una fila con más de 800 incendios \n",
    "- **medium** : si se ha registrado una fila con un nombre de incendios entre 400 y 800\n",
    "- **low** : si se ha registrado una fila con menos de 400 incendios\n",
    "\n",
    "Mostrad por pantalla aquellas filas que correspondan a un nivel de riesgo alto ( _high_ ).\n",
    "\n",
    "**Nota:** pandas nos ofrece principalmente tres maneras de añadir nuevas columnas a un dataframe existente. Cualquiera de las tres formas son válidas para resolver este ejercicio. Podéis buscar en Internet como añadir columnas a un dataframe de pandas, ya que la documentación presenta los tres métodos de forma separada.\n",
    "\n",
    "**(1.5 punts)** <span style=\"font-family: Courier New; background-color: #ffcc5c; color: #000000; padding: 3px; \">EG</span>"
   ]
  },
  {
   "cell_type": "code",
   "execution_count": 50,
   "metadata": {},
   "outputs": [
    {
     "data": {
      "text/html": [
       "<div>\n",
       "<style scoped>\n",
       "    .dataframe tbody tr th:only-of-type {\n",
       "        vertical-align: middle;\n",
       "    }\n",
       "\n",
       "    .dataframe tbody tr th {\n",
       "        vertical-align: top;\n",
       "    }\n",
       "\n",
       "    .dataframe thead th {\n",
       "        text-align: right;\n",
       "    }\n",
       "</style>\n",
       "<table border=\"1\" class=\"dataframe\">\n",
       "  <thead>\n",
       "    <tr style=\"text-align: right;\">\n",
       "      <th></th>\n",
       "      <th>year</th>\n",
       "      <th>state</th>\n",
       "      <th>month</th>\n",
       "      <th>number</th>\n",
       "      <th>date</th>\n",
       "      <th>risk</th>\n",
       "    </tr>\n",
       "  </thead>\n",
       "  <tbody>\n",
       "    <tr>\n",
       "      <td>0</td>\n",
       "      <td>1998</td>\n",
       "      <td>Acre</td>\n",
       "      <td>Janeiro</td>\n",
       "      <td>0.0</td>\n",
       "      <td>1998-01-01</td>\n",
       "      <td>low</td>\n",
       "    </tr>\n",
       "    <tr>\n",
       "      <td>1</td>\n",
       "      <td>1999</td>\n",
       "      <td>Acre</td>\n",
       "      <td>Janeiro</td>\n",
       "      <td>0.0</td>\n",
       "      <td>1999-01-01</td>\n",
       "      <td>low</td>\n",
       "    </tr>\n",
       "    <tr>\n",
       "      <td>2</td>\n",
       "      <td>2000</td>\n",
       "      <td>Acre</td>\n",
       "      <td>Janeiro</td>\n",
       "      <td>0.0</td>\n",
       "      <td>2000-01-01</td>\n",
       "      <td>low</td>\n",
       "    </tr>\n",
       "    <tr>\n",
       "      <td>3</td>\n",
       "      <td>2001</td>\n",
       "      <td>Acre</td>\n",
       "      <td>Janeiro</td>\n",
       "      <td>0.0</td>\n",
       "      <td>2001-01-01</td>\n",
       "      <td>low</td>\n",
       "    </tr>\n",
       "    <tr>\n",
       "      <td>4</td>\n",
       "      <td>2002</td>\n",
       "      <td>Acre</td>\n",
       "      <td>Janeiro</td>\n",
       "      <td>0.0</td>\n",
       "      <td>2002-01-01</td>\n",
       "      <td>low</td>\n",
       "    </tr>\n",
       "    <tr>\n",
       "      <td>...</td>\n",
       "      <td>...</td>\n",
       "      <td>...</td>\n",
       "      <td>...</td>\n",
       "      <td>...</td>\n",
       "      <td>...</td>\n",
       "      <td>...</td>\n",
       "    </tr>\n",
       "    <tr>\n",
       "      <td>6449</td>\n",
       "      <td>2012</td>\n",
       "      <td>Tocantins</td>\n",
       "      <td>Dezembro</td>\n",
       "      <td>128.0</td>\n",
       "      <td>2012-01-01</td>\n",
       "      <td>low</td>\n",
       "    </tr>\n",
       "    <tr>\n",
       "      <td>6450</td>\n",
       "      <td>2013</td>\n",
       "      <td>Tocantins</td>\n",
       "      <td>Dezembro</td>\n",
       "      <td>85.0</td>\n",
       "      <td>2013-01-01</td>\n",
       "      <td>low</td>\n",
       "    </tr>\n",
       "    <tr>\n",
       "      <td>6451</td>\n",
       "      <td>2014</td>\n",
       "      <td>Tocantins</td>\n",
       "      <td>Dezembro</td>\n",
       "      <td>223.0</td>\n",
       "      <td>2014-01-01</td>\n",
       "      <td>low</td>\n",
       "    </tr>\n",
       "    <tr>\n",
       "      <td>6452</td>\n",
       "      <td>2015</td>\n",
       "      <td>Tocantins</td>\n",
       "      <td>Dezembro</td>\n",
       "      <td>373.0</td>\n",
       "      <td>2015-01-01</td>\n",
       "      <td>low</td>\n",
       "    </tr>\n",
       "    <tr>\n",
       "      <td>6453</td>\n",
       "      <td>2016</td>\n",
       "      <td>Tocantins</td>\n",
       "      <td>Dezembro</td>\n",
       "      <td>119.0</td>\n",
       "      <td>2016-01-01</td>\n",
       "      <td>low</td>\n",
       "    </tr>\n",
       "  </tbody>\n",
       "</table>\n",
       "<p>6454 rows × 6 columns</p>\n",
       "</div>"
      ],
      "text/plain": [
       "      year      state     month  number        date risk\n",
       "0     1998       Acre   Janeiro     0.0  1998-01-01  low\n",
       "1     1999       Acre   Janeiro     0.0  1999-01-01  low\n",
       "2     2000       Acre   Janeiro     0.0  2000-01-01  low\n",
       "3     2001       Acre   Janeiro     0.0  2001-01-01  low\n",
       "4     2002       Acre   Janeiro     0.0  2002-01-01  low\n",
       "...    ...        ...       ...     ...         ...  ...\n",
       "6449  2012  Tocantins  Dezembro   128.0  2012-01-01  low\n",
       "6450  2013  Tocantins  Dezembro    85.0  2013-01-01  low\n",
       "6451  2014  Tocantins  Dezembro   223.0  2014-01-01  low\n",
       "6452  2015  Tocantins  Dezembro   373.0  2015-01-01  low\n",
       "6453  2016  Tocantins  Dezembro   119.0  2016-01-01  low\n",
       "\n",
       "[6454 rows x 6 columns]"
      ]
     },
     "execution_count": 50,
     "metadata": {},
     "output_type": "execute_result"
    }
   ],
   "source": [
    "# Add a column\n",
    "data_5 = data\n",
    "risk = []\n",
    "for index, row in data_5.iterrows():\n",
    "    fire=row['number']\n",
    "    if fire > 800:\n",
    "        risk.append(\"high\")\n",
    "    elif 800 > fire > 400:\n",
    "        risk.append(\"medium\")\n",
    "    else:\n",
    "        risk.append(\"low\")\n",
    "data_5[\"risk\"] = risk\n",
    "data_5"
   ]
  },
  {
   "cell_type": "markdown",
   "metadata": {},
   "source": [
    "---"
   ]
  },
  {
   "cell_type": "markdown",
   "metadata": {},
   "source": [
    "##  Soluciones ejercicios para practicar"
   ]
  },
  {
   "cell_type": "markdown",
   "metadata": {},
   "source": [
    "### Ejercicio 1\n",
    "\n",
    "Definid una función que dadas dos matrices, devuelva el valor absoluto de la multiplicación de los determinantes ambas, es decir, dadas A y B, nuestra función devolverá `|det(A) * det(B)|`. \n",
    "\n",
    "**Nota:** Podéis consultar la documentación del módulo [linalg](https://docs.scipy.org/doc/numpy-1.15.0/reference/routines.linalg.html) para resolver este ejercicio. \n",
    "\n",
    "<span style=\"font-family: Courier New; background-color: #ffcc5c; color: #000000; padding: 3px; \">EG</span>"
   ]
  },
  {
   "cell_type": "code",
   "execution_count": 51,
   "metadata": {},
   "outputs": [],
   "source": [
    "# El enunciado nos pide realizar dos operaciones: el determinante de matrices y el valor absoluto.\n",
    "# Ambas funciones se encuentran disponibles a numpy.\n",
    "from numpy.linalg import det\n",
    "from numpy import absolute\n",
    "\n",
    "# Definimos la función\n",
    "def abs_det(A, B):\n",
    "    return absolute(det(A) * det(B))"
   ]
  },
  {
   "cell_type": "markdown",
   "metadata": {},
   "source": [
    "### Ejercicio 2 \n",
    "\n",
    "Cread una matriz 10x10 que corresponda con la [matriz identidad](https://es.wikipedia.org/wiki/Matriz_identidad) usando generadores básicos de arrays. Cread una matriz identidad 10x10 (esta vez usando generadores especificos de matrices identidad) y comprobad que ambas matrices son iguales. \n",
    "\n",
    "**Consideraciones:**\n",
    "\n",
    "- La primera matriz debe crearse usando constructores básicos de arrays, como los presentados en los Notebooks de teoría.\n",
    "- La segunda matriz debe generarse utilizando el generador de matrices identidad de numpy.\n",
    "- La comparación debe devolver True si las matrices son iguales (un único True), False de no ser así.\n",
    "\n",
    "**Nota:** Podéis consultar la documentación sobre [creación de matrices](https://docs.scipy.org/doc/numpy-1.15.1/reference/routines.array-creation.html) de Numpy para resolver este ejercicio.\n",
    "\n",
    "<span style=\"font-family: Courier New; background-color: #ffcc5c; color: #000000; padding: 3px; \">EG</span>"
   ]
  },
  {
   "cell_type": "code",
   "execution_count": null,
   "metadata": {},
   "outputs": [],
   "source": [
    "import numpy as np\n",
    "\n",
    "# Podemos definir la matriz de forma manual como una lista de listas\n",
    "m0 = np.array([[1, 0, 0, 0, 0, 0, 0, 0, 0, 0,], [0, 1, 0, 0, 0, 0, 0, 0, 0, 0,], \n",
    "              [0, 0, 1, 0, 0, 0, 0, 0, 0, 0], [0, 0, 0, 1, 0, 0, 0, 0, 0, 0], \n",
    "              [0, 0, 0, 0, 1, 0, 0, 0, 0, 0], [0, 0, 0, 0, 0, 1, 0, 0, 0, 0],\n",
    "              [0, 0, 0, 0, 0, 0, 1, 0, 0, 0], [0, 0, 0, 0, 0, 0, 0, 1, 0, 0],\n",
    "              [0, 0, 0, 0, 0, 0, 0, 0, 1, 0], [0, 0, 0, 0, 0, 0, 0, 0, 0, 1]])\n",
    "\n",
    "# O empezando por una 10x10 con todos los elementos iguales a 0 y asignar 1s a la diagonal\n",
    "# recorriendo la matriz por filas y columnas\n",
    "m1 = np.zeros((10,10), dtype=int)\n",
    "for i, r in enumerate(m1):\n",
    "    r[i] = 1\n",
    "\n",
    "# Por otro lado, definimos la identidad 10x10 utilizando el constructor “built-in\"\n",
    "m2 = np.identity(10, dtype=int)\n",
    "\n",
    "# Y realizamos la comparación. Para hacerlo podemos utilizar el método array_equal de numpy \n",
    "# que nos compara si dos arrays son iguales\n",
    "print(np.array_equal(m0, m2))\n",
    "print(np.array_equal(m1, m2))\n",
    "\n",
    "# También podemos comprobar que la comparación falla si modificamos cualquier valor de la matriz\n",
    "m0[1, 2] = 1\n",
    "print(np.array_equal(m0, m2))"
   ]
  },
  {
   "cell_type": "markdown",
   "metadata": {},
   "source": [
    "### Ejercicio 3\n",
    "\n",
    "Representad en un único gráfico las funciones f1 y f2 definidas más abajo, evaluadas en el intervalo [0, 7] y con paso (resolución) 0.1. <span style=\"font-family: Courier New; background-color: #82b74b; color: #000000; padding: 3px; \">NM</span>"
   ]
  },
  {
   "cell_type": "code",
   "execution_count": null,
   "metadata": {},
   "outputs": [],
   "source": [
    "import numpy as np\n",
    "\n",
    "def f1(x):\n",
    "    return np.power(x, 2)\n",
    "\n",
    "def f2(x):\n",
    "    return np.power(2,x)"
   ]
  },
  {
   "cell_type": "code",
   "execution_count": null,
   "metadata": {},
   "outputs": [],
   "source": [
    "%matplotlib inline\n",
    "import matplotlib.pyplot as plt\n",
    "\n",
    "# El enunciado nos indica que el punto inicial es 0, el final es 7 y la resolució es 0.1\n",
    "start = 0\n",
    "end = 7\n",
    "res = 0.1\n",
    "\n",
    "\n",
    "# Definimos los arrays de valores con arange. Tenemo que sumar 0.1 al final dado que arange\n",
    "# funciona de forma análoga a range [inicio, final)\n",
    "\n",
    "# Ambas gráficas comparten el mismo eje x\n",
    "x = np.arange(start, end+res, res)\n",
    "\n",
    "# Y los arrays a y b corresponden a los ejes y para f1 y f2 respectivamente. Para calcularlos\n",
    "# simplemente evaluamos las dos funciones con los valores de x\n",
    "a = [f1(val) for val in x]\n",
    "b = [f2(val) for val in x]\n",
    "\n",
    "plt.plot(x, a)\n",
    "plt.plot(x, b)\n",
    "\n",
    "plt.legend([\"f1\", \"f2\"])\n",
    "plt.show()"
   ]
  },
  {
   "cell_type": "markdown",
   "metadata": {},
   "source": [
    "daniel.soler@nostrumbiodiscovery.com"
   ]
  },
  {
   "cell_type": "code",
   "execution_count": null,
   "metadata": {},
   "outputs": [],
   "source": []
  }
 ],
 "metadata": {
  "kernelspec": {
   "display_name": "Python 3",
   "language": "python",
   "name": "python3"
  },
  "language_info": {
   "codemirror_mode": {
    "name": "ipython",
    "version": 3
   },
   "file_extension": ".py",
   "mimetype": "text/x-python",
   "name": "python",
   "nbconvert_exporter": "python",
   "pygments_lexer": "ipython3",
   "version": "3.8.3"
  }
 },
 "nbformat": 4,
 "nbformat_minor": 1
}
