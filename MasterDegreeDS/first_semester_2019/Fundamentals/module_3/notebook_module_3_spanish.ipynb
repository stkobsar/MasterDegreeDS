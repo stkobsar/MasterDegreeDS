{
 "cells": [
  {
   "cell_type": "markdown",
   "metadata": {},
   "source": [
    "Programación para *Data Science*\n",
    "============================\n",
    "\n",
    "Unidad 3: Estructuras de control y funciones en Python\n",
    "--------------------------------------\n",
    "\n",
    "\n",
    "En este Notebook encontraréis un conjunto de **actividades evaluables** como PEC de la asignatura.\n",
    "\n",
    "Veréis que cada una de ellas tiene asociada una puntuación que indica el peso que tiene la actividad sobre la nota de la PEC. Adicionalmente, hay un ejercicio opcional, que no tiene puntuación dentro de la PEC, pero que se valora al final del semestre de cara a conceder las matrículas de honor y redondear las notas finales. Podéis sacar la máxima nota de la PEC sin necesidad de hacer este ejercicio! El objetivo de este ejercicio es que sirva como pequeño reto para los estudiantes que quieran profundizar en el contenido de la asignatura.\n",
    "\n",
    "Además, veréis que todas las actividades tienen una etiqueta que indica los recursos necesarios para llevarla a cabo. Hay tres posibles etiquetas:\n",
    "\n",
    "* <span style=\"font-family: Courier New; background-color: #82b74b; color: #000000; padding: 3px; \">NM</span> **Sólo materiales**: las herramientas necesarias para realizar la actividad se pueden encontrar en los materiales de la asignatura. \n",
    "\n",
    "* <span style=\"font-family: Courier New; background-color: #ffcc5c; color: #000000; padding: 3px; \">EG</span> **Consulta externa guiada**: la actividad puede requerir hacer uso de herramientas que no se encuentran en los materiales de la asignatura, pero el enunciado contiene indicaciones de dónde o cómo encontrar la información adicional necesaria para resolver la actividad.\n",
    "\n",
    "* <span style=\"font-family: Courier New; background-color: #f2ae72; color: #000000; padding: 3px; \">EI</span> **Consulta externa independente**: la actividad puede requerir hacer uso de herramientas que no se encuentran en los materiales de la asignatura, y el enunciado puede no incluir la descripción de dónde o cómo encontrar esta información adicional. Será necesario que el estudiante busque esta información utilizando los recursos que se han explicado en la asignatura.\n",
    "\n",
    "Es importante notar que estas etiquetas no indican el nivel de dificultad del ejercicio, sino únicamente la necesidad de consulta de documentación externa para su resolución. Además, recordad que las **etiquetas son informativas**, pero podréis consultar referencias externas en cualquier momento (aunque no se indique explícitamente) o puede ser que podáis hacer una actividad sin consultar ningún tipo de documentación. Por ejemplo, para resolver una actividad que sólo requiera los materiales de la asignatura, puedéis consultar referencias externas si queréis, ya sea tanto para ayudaros en la resolución como para ampliar el conocimiento!\n",
    "\n",
    "En cuanto a la consulta de documentación externa en la resolución de los ejercicios, recordad **citar siempre la bibliografía utilizada** para resolver cada actividad."
   ]
  },
  {
   "cell_type": "markdown",
   "metadata": {},
   "source": [
    "---\n",
    "\n",
    "## Ejercicios y preguntas teóricas para la PEC\n",
    "\n",
    "A continuación, encontraréis los **ejercicios y preguntas teóricas que debéis completar en esta PEC** y que forman parte de la evaluación de esta unidad."
   ]
  },
  {
   "cell_type": "markdown",
   "metadata": {},
   "source": [
    "### Ejercicio 1\n",
    "\n",
    "Un número primo es aquél que solo es divisible por él mismo y por 1.\n",
    "\n",
    "a) Escribe un código que compruebe si un número `x = 15` es solo divisible por 1 o por el mismo.  Escribe este código usando un iterador (un `for` o un `while`) que barra todos los valores desde `2` a `x-1`. Crea una variable `divisible`  que tenga por defecto valor `False` y asigne el valor `True` si a lo largo de la iteración encuentra un número natural divisible. Puedes usar el operador modulo `a % b` para saber si un numero `b` es divisible por `a`.\n",
    "\n",
    "**(1.5 puntos)**  <span style=\"font-family: Courier New; background-color: #82b74b; color: #000000; padding: 2px; \">NM</span>"
   ]
  },
  {
   "cell_type": "code",
   "execution_count": 1,
   "metadata": {},
   "outputs": [
    {
     "name": "stdout",
     "output_type": "stream",
     "text": [
      "[1, 2, 3, 1, 5, 4, 3, 2, 1]\n",
      "¿Es un numero primo?  True\n"
     ]
    }
   ],
   "source": [
    "x = 11\n",
    "\n",
    "module = []\n",
    "divisible = True\n",
    "\n",
    "for i in range(2,x):\n",
    "    module.append(x%i)\n",
    "    \n",
    "    if not x%i: #Residuo de la division igual a 0\n",
    "        divisible = False\n",
    "        break\n",
    "        \n",
    "print(module)\n",
    "print(\"¿Es un numero primo? \", divisible)\n",
    "        "
   ]
  },
  {
   "cell_type": "markdown",
   "metadata": {},
   "source": [
    "b) Convierte tu código anterior en una función que compruebe si el número del argumento es primo o no, devolviendo True is es primo y False si no es primo. Comprueba tu función con los valores 492366587, 492366585, 48947 y 2,\n",
    "\n",
    "**(0.5 puntos)**  <span style=\"font-family: Courier New; background-color: #82b74b; color: #000000; padding: 2px; \">NM</span>"
   ]
  },
  {
   "cell_type": "code",
   "execution_count": 10,
   "metadata": {},
   "outputs": [],
   "source": [
    "def prime_number(num):\n",
    "    divisible = True\n",
    "    for i in range(2,num):    \n",
    "        if not num%i: #Residuo de la division igual a 0\n",
    "            divisible = False\n",
    "            break\n",
    "    return (not divisible)\n"
   ]
  },
  {
   "cell_type": "code",
   "execution_count": 11,
   "metadata": {},
   "outputs": [
    {
     "data": {
      "text/plain": [
       "False"
      ]
     },
     "execution_count": 11,
     "metadata": {},
     "output_type": "execute_result"
    }
   ],
   "source": [
    "prime_number(492366587)\n",
    "prime_number(492366585)\n",
    "prime_number(48947)\n",
    "prime_number(2)"
   ]
  },
  {
   "cell_type": "markdown",
   "metadata": {},
   "source": [
    "\n",
    "c) En el cálculo de la función anterior, una vez se ha encontrado un número que es divisible dentro del rango ya no tiene sentido comprobar el resto de números del rango. Por ejemplo si 10 ya es divisble entre 2, ya no hace falta probar de 3 en adelante pues ya sabemos que el número no es primo. \n",
    "\n",
    "Modifica la función anterior de la siguiente forma: \n",
    "- Una vez se encuentra el divisor, la iteración se interrumpe para no probar el resto de enteros. \n",
    "- La función devuelve\n",
    "    - **Si es primo**: True\n",
    "    - **Si no es primo**, el primer divisor mayor que 1.\n",
    "    \n",
    "Puedes hacer uso del comando *break* dentro de un bucle para interrumpir este, puedes consultar más información sobre break en la documentación de python [aquí](https://docs.python.org/2/tutorial/controlflow.html).\n",
    "\n",
    "Comprueba tu función con los valores 492366585, 492366587, 48947 y 2,\n",
    "\n",
    "**(1.5 puntos)**  <span style=\"font-family: Courier New; background-color: #82b74b; color: #000000; padding: 2px; \">NM</span>"
   ]
  },
  {
   "cell_type": "code",
   "execution_count": 4,
   "metadata": {},
   "outputs": [],
   "source": [
    "def prime_number_2(num):\n",
    "    j = True\n",
    "    for i in range(2,num):    \n",
    "        if not num%i: #Residuo de la division igual a 0\n",
    "            j = False\n",
    "            break\n",
    "    if j:\n",
    "        return(True)\n",
    "    else:\n",
    "        return(i)"
   ]
  },
  {
   "cell_type": "code",
   "execution_count": 5,
   "metadata": {},
   "outputs": [
    {
     "data": {
      "text/plain": [
       "True"
      ]
     },
     "execution_count": 5,
     "metadata": {},
     "output_type": "execute_result"
    }
   ],
   "source": [
    "prime_number_2(67)"
   ]
  },
  {
   "cell_type": "markdown",
   "metadata": {},
   "source": [
    "### Ejercicio 2\n",
    "\n",
    "La Covid-19 es una enfermedad producida por la infección del virus SARS-CoV-2. La infección es transmisible de persona a persona y su contagiosidad depende de la cantidad del virus en las vías respiratorias. Si cada persona contagiada transmite la enfermedad a $\\beta$ contactos en promedio por periodo de tiempo $t$, es posible estimar la evolución del contagio con un modelo matemático sencillo.\n",
    "\n",
    "Para $t=1$día, las transmisiones en España se han estimado a partir de su histórico de las semanas de Febrero y Marzo del 2020 una $\\beta = 0.35$ transmissiones por día por infectado.\n",
    "\n",
    "Durante un periodo de tiempo (por ejempo un día $d$) la tasa de nuevos contagios se puede estimar como  una proporción al número de contagiados del periodo anterior $N$: \n",
    "\n",
    "$$ \\Delta N = N_{1} - N = \\beta \\cdot N$$ (1)\n",
    "\n",
    "Por tanto, podemos proyectar el número futuro de afectados como \n",
    "\n",
    "$$ N_{1} = N + \\beta \\cdot N = (1+\\beta) \\cdot N$$ (2) \n",
    "\n",
    "En dos días:\n",
    "\n",
    "$$ N_{2} = (1+\\beta) \\cdot N_{1} = (1+\\beta)^2 \\cdot N$$  (3)\n",
    "\n",
    "Y en general en D días tendremos \n",
    "\n",
    "$$N_{D} = (1+\\beta)^D \\cdot N$$  (4)\n",
    " \n",
    "Asumiendo este sencillo modelo: \n",
    "\n",
    "a) Implementa una función de dos parámetros (N: población infectada inicial, D: número de días), que devuelva el cálculo de afectados para D días siguiendo la ecuación (4). Suponiendo una población afectada de 4250 (población afectada en españa a día 13 de Marzo de 2020), usa la función para calcular la población estimada en 1, 2, 7 y 30 días. \n",
    "\n",
    "**(1.5 puntos)**   <span style=\"font-family: Courier New; background-color: #82b74b; color: #000000; padding: 2px; \">NM</span>"
   ]
  },
  {
   "cell_type": "code",
   "execution_count": 48,
   "metadata": {},
   "outputs": [],
   "source": [
    "def tasa_contagio(N, D):\n",
    "    beta = 0.35\n",
    "    futuros_casos = ((1+beta)**D)*N\n",
    "    futuros_casos = round(futuros_casos)\n",
    "    return futuros_casos\n",
    "                "
   ]
  },
  {
   "cell_type": "code",
   "execution_count": 52,
   "metadata": {},
   "outputs": [
    {
     "name": "stdout",
     "output_type": "stream",
     "text": [
      "[5738, 7746, 10457, 14116, 19057, 25727, 34732, 46888, 63298, 85453, 115361, 155738, 210246, 283832, 383173, 517284, 698334, 942750, 1272713, 1718163, 2319520, 3131352, 4227325, 5706888, 7704299, 10400804, 14041085, 18955465, 25589878]\n"
     ]
    }
   ],
   "source": [
    "pob_afectada = 4250\n",
    "dias = range(1,30)\n",
    "\n",
    "futuro_contagio = []\n",
    "for dia in dias: \n",
    "    contagio = tasa_contagio(pob_afectada, dia)\n",
    "    futuro_contagio.append(contagio)\n",
    "    \n",
    "\n",
    "print(futuro_contagio)\n"
   ]
  },
  {
   "cell_type": "code",
   "execution_count": 50,
   "metadata": {},
   "outputs": [
    {
     "data": {
      "image/png": "[encoded data removed]",
      "text/plain": [
       "<Figure size 432x288 with 1 Axes>"
      ]
     },
     "metadata": {
      "needs_background": "light"
     },
     "output_type": "display_data"
    }
   ],
   "source": [
    "import matplotlib.pyplot as plt\n",
    "\n",
    "dias = range(1,30)\n",
    "plt.plot(dias, futuro_contagio, marker='o', color='black');\n",
    "plt.xlabel(\"Días\")\n",
    "plt.ylabel(\"Contagios\");\n",
    "plt.show()"
   ]
  },
  {
   "cell_type": "markdown",
   "metadata": {},
   "source": [
    "\n",
    "b) Sabiendo que los Servicios de Medicina Intensiva (SMI) disponen de 3363 camas para enfermos graves, y suponiendo que un 10% de los afectados por el covid-19 requerirán de SMI y una supervivencia del 2,5% (Exitus), escribe un código que calcule:\n",
    "- El día en curso (Día)\n",
    "- El total de afectados por el virus para cada día d (Afectados)\n",
    "- El total de ingresados en SMI por el virus para cada día d (Críticos)\n",
    "- El total de Exitus por el virus para cada día d (Exitus)\n",
    "- Si los servicios de SMI no pueden aceptar los ingresados para cada día $d$ (Estado: indicando Saturación/No Saturación)\n",
    "\n",
    "Imprime en pantalla la información de cada día durante una simulación de tres semanas, suponiendo que no hay recuperaciones, con una población afectada inicial 4250 y una $\\beta = 0.35$ constante. \n",
    "\n",
    "\n",
    "**(1 punto)**   <span style=\"font-family: Courier New; background-color: #82b74b; color: #000000; padding: 2px; \">NM</span>"
   ]
  },
  {
   "cell_type": "code",
   "execution_count": 61,
   "metadata": {},
   "outputs": [
    {
     "name": "stdout",
     "output_type": "stream",
     "text": [
      "[5738, 7746, 10457, 14116, 19057, 25727, 34732, 46888, 63298, 85453, 115361, 155738, 210246, 283832, 383173, 517284, 698334, 942750, 1272713, 1718163, 2319520, 3131352, 4227325, 5706888, 7704299, 10400804, 14041085, 18955465, 25589878] [574, 775, 1046, 1412, 1906, 2573, 3473, 4689, 6330, 8545, 11536, 15574, 21025, 28383, 38317, 51728, 69833, 94275, 127271, 171816, 231952, 313135, 422732, 570689, 770430, 1040080, 1404108, 1895546, 2558988] [143, 194, 261, 353, 476, 643, 868, 1172, 1582, 2136, 2884, 3893, 5256, 7096, 9579, 12932, 17458, 23569, 31818, 42954, 57988, 78284, 105683, 142672, 192607, 260020, 351027, 473887, 639747] ['OK', 'OK', 'OK', 'OK', 'OK', 'OK', 'Saturación', 'Saturación', 'Saturación', 'Saturación', 'Saturación', 'Saturación', 'Saturación', 'Saturación', 'Saturación', 'Saturación', 'Saturación', 'Saturación', 'Saturación', 'Saturación', 'Saturación', 'Saturación', 'Saturación', 'Saturación', 'Saturación', 'Saturación', 'Saturación', 'Saturación', 'Saturación']\n"
     ]
    }
   ],
   "source": [
    "CAMAS = 3363\n",
    "PROP_ENFERMOS_SMI = 0.1\n",
    "PROP_SUPERVIVENCIA = 0.025\n",
    "\n",
    "pob_afectada = 4250\n",
    "dias = range(1,30)\n",
    "\n",
    "afectados = []\n",
    "ingresados_smi = []\n",
    "exitus = []\n",
    "capacidad_hospital = []\n",
    "\n",
    "\n",
    "for dia in dias:\n",
    "    \n",
    "    contagios = tasa_contagio(pob_afectada, dia)\n",
    "    afectados.append(contagios)\n",
    "    ingresados = round(PROP_ENFERMOS_SMI*contagios)\n",
    "    ingresados_smi.append(ingresados)\n",
    "    curados = round(PROP_SUPERVIVENCIA*contagios)\n",
    "    exitus.append(curados)\n",
    "    \n",
    "    if CAMAS > ingresados:\n",
    "        capacidad_hospital.append(\"OK\")\n",
    "    else:\n",
    "        capacidad_hospital.append(\"Saturación\")\n",
    "\n",
    "print(afectados, ingresados_smi, exitus, capacidad_hospital)\n",
    "\n",
    "\n"
   ]
  },
  {
   "cell_type": "markdown",
   "metadata": {},
   "source": [
    "\n",
    "c) Convierte el código anterior en una función que genere un archivo de texto con nombre `output.txt`, siguiendo este formato: \n",
    "```\n",
    "Dia, Afectados, Críticos, Exitus, Estado\n",
    "0, 4250, 425,  106, No Saturación\n",
    "1, 5737, 573,  143, No Saturación\n",
    "2, 7745, 774,  193, No Saturación\n",
    "...\n",
    "```\n",
    "Con los parámetros de entrada $N$, $D$, $\\beta$, camas SMI.\n",
    "\n",
    "**(1 punto)**   <span style=\"font-family: Courier New; background-color: #82b74b; color: #000000; padding: 2px; \">NM</span>"
   ]
  },
  {
   "cell_type": "code",
   "execution_count": 85,
   "metadata": {},
   "outputs": [],
   "source": [
    "def evolucion_contagio(N, D, beta, camas):\n",
    "    \"\"\"\n",
    "    Descripción: Evolución tasa de contagio\n",
    "    Variables: N(población infectada inicial), D(número de días), beta(transmisiones/dia/infectado), camas(camas de hospital).\n",
    "    Output: Dataframe con los valores de la evolución de los contagios en 30 días. \n",
    "    \"\"\"\n",
    "    \n",
    "    PROP_ENFERMOS_SMI = 0.1\n",
    "    PROP_SUPERVIVENCIA = 0.025\n",
    "    \n",
    "    dias = range(1,D)\n",
    "    afectados = []\n",
    "    ingresados_smi = []\n",
    "    exitus = []\n",
    "    capacidad_hospital = []\n",
    "\n",
    "    for dia in dias:\n",
    "\n",
    "        contagios = tasa_contagio(N, dia)\n",
    "        afectados.append(contagios)\n",
    "        ingresados = round(PROP_ENFERMOS_SMI*contagios)\n",
    "        ingresados_smi.append(ingresados)\n",
    "        curados = round(PROP_SUPERVIVENCIA*contagios)\n",
    "        exitus.append(curados)\n",
    "\n",
    "        if camas > ingresados:\n",
    "            capacidad_hospital.append(\"OK\")\n",
    "        else:\n",
    "            capacidad_hospital.append(\"Saturación\")\n",
    "    \n",
    "    df_coronavirus = pd.DataFrame (list(zip(dias, afectados, ingresados_smi, exitus, capacidad_hospital)), columns = ['Dia','Afectados', 'Críticos', 'Exitus', 'Estado'])\n",
    "\n",
    "    return df_coronavirus"
   ]
  },
  {
   "cell_type": "code",
   "execution_count": 86,
   "metadata": {},
   "outputs": [
    {
     "data": {
      "text/html": [
       "<div>\n",
       "<style scoped>\n",
       "    .dataframe tbody tr th:only-of-type {\n",
       "        vertical-align: middle;\n",
       "    }\n",
       "\n",
       "    .dataframe tbody tr th {\n",
       "        vertical-align: top;\n",
       "    }\n",
       "\n",
       "    .dataframe thead th {\n",
       "        text-align: right;\n",
       "    }\n",
       "</style>\n",
       "<table border=\"1\" class=\"dataframe\">\n",
       "  <thead>\n",
       "    <tr style=\"text-align: right;\">\n",
       "      <th></th>\n",
       "      <th>Dia</th>\n",
       "      <th>Afectados</th>\n",
       "      <th>Críticos</th>\n",
       "      <th>Exitus</th>\n",
       "      <th>Estado</th>\n",
       "    </tr>\n",
       "  </thead>\n",
       "  <tbody>\n",
       "    <tr>\n",
       "      <td>0</td>\n",
       "      <td>1</td>\n",
       "      <td>5738</td>\n",
       "      <td>574</td>\n",
       "      <td>143</td>\n",
       "      <td>OK</td>\n",
       "    </tr>\n",
       "    <tr>\n",
       "      <td>1</td>\n",
       "      <td>2</td>\n",
       "      <td>7746</td>\n",
       "      <td>775</td>\n",
       "      <td>194</td>\n",
       "      <td>OK</td>\n",
       "    </tr>\n",
       "    <tr>\n",
       "      <td>2</td>\n",
       "      <td>3</td>\n",
       "      <td>10457</td>\n",
       "      <td>1046</td>\n",
       "      <td>261</td>\n",
       "      <td>OK</td>\n",
       "    </tr>\n",
       "    <tr>\n",
       "      <td>3</td>\n",
       "      <td>4</td>\n",
       "      <td>14116</td>\n",
       "      <td>1412</td>\n",
       "      <td>353</td>\n",
       "      <td>OK</td>\n",
       "    </tr>\n",
       "    <tr>\n",
       "      <td>4</td>\n",
       "      <td>5</td>\n",
       "      <td>19057</td>\n",
       "      <td>1906</td>\n",
       "      <td>476</td>\n",
       "      <td>OK</td>\n",
       "    </tr>\n",
       "    <tr>\n",
       "      <td>5</td>\n",
       "      <td>6</td>\n",
       "      <td>25727</td>\n",
       "      <td>2573</td>\n",
       "      <td>643</td>\n",
       "      <td>OK</td>\n",
       "    </tr>\n",
       "    <tr>\n",
       "      <td>6</td>\n",
       "      <td>7</td>\n",
       "      <td>34732</td>\n",
       "      <td>3473</td>\n",
       "      <td>868</td>\n",
       "      <td>Saturación</td>\n",
       "    </tr>\n",
       "    <tr>\n",
       "      <td>7</td>\n",
       "      <td>8</td>\n",
       "      <td>46888</td>\n",
       "      <td>4689</td>\n",
       "      <td>1172</td>\n",
       "      <td>Saturación</td>\n",
       "    </tr>\n",
       "    <tr>\n",
       "      <td>8</td>\n",
       "      <td>9</td>\n",
       "      <td>63298</td>\n",
       "      <td>6330</td>\n",
       "      <td>1582</td>\n",
       "      <td>Saturación</td>\n",
       "    </tr>\n",
       "    <tr>\n",
       "      <td>9</td>\n",
       "      <td>10</td>\n",
       "      <td>85453</td>\n",
       "      <td>8545</td>\n",
       "      <td>2136</td>\n",
       "      <td>Saturación</td>\n",
       "    </tr>\n",
       "    <tr>\n",
       "      <td>10</td>\n",
       "      <td>11</td>\n",
       "      <td>115361</td>\n",
       "      <td>11536</td>\n",
       "      <td>2884</td>\n",
       "      <td>Saturación</td>\n",
       "    </tr>\n",
       "    <tr>\n",
       "      <td>11</td>\n",
       "      <td>12</td>\n",
       "      <td>155738</td>\n",
       "      <td>15574</td>\n",
       "      <td>3893</td>\n",
       "      <td>Saturación</td>\n",
       "    </tr>\n",
       "    <tr>\n",
       "      <td>12</td>\n",
       "      <td>13</td>\n",
       "      <td>210246</td>\n",
       "      <td>21025</td>\n",
       "      <td>5256</td>\n",
       "      <td>Saturación</td>\n",
       "    </tr>\n",
       "    <tr>\n",
       "      <td>13</td>\n",
       "      <td>14</td>\n",
       "      <td>283832</td>\n",
       "      <td>28383</td>\n",
       "      <td>7096</td>\n",
       "      <td>Saturación</td>\n",
       "    </tr>\n",
       "    <tr>\n",
       "      <td>14</td>\n",
       "      <td>15</td>\n",
       "      <td>383173</td>\n",
       "      <td>38317</td>\n",
       "      <td>9579</td>\n",
       "      <td>Saturación</td>\n",
       "    </tr>\n",
       "    <tr>\n",
       "      <td>15</td>\n",
       "      <td>16</td>\n",
       "      <td>517284</td>\n",
       "      <td>51728</td>\n",
       "      <td>12932</td>\n",
       "      <td>Saturación</td>\n",
       "    </tr>\n",
       "    <tr>\n",
       "      <td>16</td>\n",
       "      <td>17</td>\n",
       "      <td>698334</td>\n",
       "      <td>69833</td>\n",
       "      <td>17458</td>\n",
       "      <td>Saturación</td>\n",
       "    </tr>\n",
       "    <tr>\n",
       "      <td>17</td>\n",
       "      <td>18</td>\n",
       "      <td>942750</td>\n",
       "      <td>94275</td>\n",
       "      <td>23569</td>\n",
       "      <td>Saturación</td>\n",
       "    </tr>\n",
       "    <tr>\n",
       "      <td>18</td>\n",
       "      <td>19</td>\n",
       "      <td>1272713</td>\n",
       "      <td>127271</td>\n",
       "      <td>31818</td>\n",
       "      <td>Saturación</td>\n",
       "    </tr>\n",
       "    <tr>\n",
       "      <td>19</td>\n",
       "      <td>20</td>\n",
       "      <td>1718163</td>\n",
       "      <td>171816</td>\n",
       "      <td>42954</td>\n",
       "      <td>Saturación</td>\n",
       "    </tr>\n",
       "    <tr>\n",
       "      <td>20</td>\n",
       "      <td>21</td>\n",
       "      <td>2319520</td>\n",
       "      <td>231952</td>\n",
       "      <td>57988</td>\n",
       "      <td>Saturación</td>\n",
       "    </tr>\n",
       "    <tr>\n",
       "      <td>21</td>\n",
       "      <td>22</td>\n",
       "      <td>3131352</td>\n",
       "      <td>313135</td>\n",
       "      <td>78284</td>\n",
       "      <td>Saturación</td>\n",
       "    </tr>\n",
       "    <tr>\n",
       "      <td>22</td>\n",
       "      <td>23</td>\n",
       "      <td>4227325</td>\n",
       "      <td>422732</td>\n",
       "      <td>105683</td>\n",
       "      <td>Saturación</td>\n",
       "    </tr>\n",
       "    <tr>\n",
       "      <td>23</td>\n",
       "      <td>24</td>\n",
       "      <td>5706888</td>\n",
       "      <td>570689</td>\n",
       "      <td>142672</td>\n",
       "      <td>Saturación</td>\n",
       "    </tr>\n",
       "    <tr>\n",
       "      <td>24</td>\n",
       "      <td>25</td>\n",
       "      <td>7704299</td>\n",
       "      <td>770430</td>\n",
       "      <td>192607</td>\n",
       "      <td>Saturación</td>\n",
       "    </tr>\n",
       "    <tr>\n",
       "      <td>25</td>\n",
       "      <td>26</td>\n",
       "      <td>10400804</td>\n",
       "      <td>1040080</td>\n",
       "      <td>260020</td>\n",
       "      <td>Saturación</td>\n",
       "    </tr>\n",
       "    <tr>\n",
       "      <td>26</td>\n",
       "      <td>27</td>\n",
       "      <td>14041085</td>\n",
       "      <td>1404108</td>\n",
       "      <td>351027</td>\n",
       "      <td>Saturación</td>\n",
       "    </tr>\n",
       "    <tr>\n",
       "      <td>27</td>\n",
       "      <td>28</td>\n",
       "      <td>18955465</td>\n",
       "      <td>1895546</td>\n",
       "      <td>473887</td>\n",
       "      <td>Saturación</td>\n",
       "    </tr>\n",
       "    <tr>\n",
       "      <td>28</td>\n",
       "      <td>29</td>\n",
       "      <td>25589878</td>\n",
       "      <td>2558988</td>\n",
       "      <td>639747</td>\n",
       "      <td>Saturación</td>\n",
       "    </tr>\n",
       "  </tbody>\n",
       "</table>\n",
       "</div>"
      ],
      "text/plain": [
       "    Dia  Afectados  Críticos  Exitus      Estado\n",
       "0     1       5738       574     143          OK\n",
       "1     2       7746       775     194          OK\n",
       "2     3      10457      1046     261          OK\n",
       "3     4      14116      1412     353          OK\n",
       "4     5      19057      1906     476          OK\n",
       "5     6      25727      2573     643          OK\n",
       "6     7      34732      3473     868  Saturación\n",
       "7     8      46888      4689    1172  Saturación\n",
       "8     9      63298      6330    1582  Saturación\n",
       "9    10      85453      8545    2136  Saturación\n",
       "10   11     115361     11536    2884  Saturación\n",
       "11   12     155738     15574    3893  Saturación\n",
       "12   13     210246     21025    5256  Saturación\n",
       "13   14     283832     28383    7096  Saturación\n",
       "14   15     383173     38317    9579  Saturación\n",
       "15   16     517284     51728   12932  Saturación\n",
       "16   17     698334     69833   17458  Saturación\n",
       "17   18     942750     94275   23569  Saturación\n",
       "18   19    1272713    127271   31818  Saturación\n",
       "19   20    1718163    171816   42954  Saturación\n",
       "20   21    2319520    231952   57988  Saturación\n",
       "21   22    3131352    313135   78284  Saturación\n",
       "22   23    4227325    422732  105683  Saturación\n",
       "23   24    5706888    570689  142672  Saturación\n",
       "24   25    7704299    770430  192607  Saturación\n",
       "25   26   10400804   1040080  260020  Saturación\n",
       "26   27   14041085   1404108  351027  Saturación\n",
       "27   28   18955465   1895546  473887  Saturación\n",
       "28   29   25589878   2558988  639747  Saturación"
      ]
     },
     "execution_count": 86,
     "metadata": {},
     "output_type": "execute_result"
    }
   ],
   "source": [
    "evolucion_contagio(4250, 30, 0.35, 3363)"
   ]
  },
  {
   "cell_type": "markdown",
   "metadata": {},
   "source": [
    "### Ejercicio 3\n",
    "\n",
    "Dado el siguiente diccionario:"
   ]
  },
  {
   "cell_type": "code",
   "execution_count": null,
   "metadata": {},
   "outputs": [],
   "source": [
    "d = {\"Alex\":344334443, \"Eva\":5533443, \"Cristina\":443355, \"Jonas\":33223324}"
   ]
  },
  {
   "cell_type": "markdown",
   "metadata": {},
   "source": [
    "Escribid una función que pregunte al usuario que introduzca el nombre de una persona y muestre por pantalla el nombre de la persona y su teléfono. \n",
    "\n",
    "Tened en cuenta que:\n",
    "\n",
    "- La función debe controlar que el valor introducido por el usuario es un nombre que existe en el diccionario. En caso contrario, mostrará un mensaje de error (\"El nombre introducido no corresponde a ninguna persona\") y devolverá el valor False.\n",
    "- Debéis tener en cuenta que el nombre de las personas que nos pasan por parámetro puede ser en minúsculas, mayúsculas o una combinación de ambas, y que debemos encontrar el número de teléfono aunque la capitalización de la cadena entrada por el usuario no sea exactamente la misma que hemos almacenado en el diccionario.\n",
    "- Suponed que  no hay acentos en los nombres.\n",
    "\n",
    "Nota 1: Para realizar la actividad, tendréis que capturar un texto que entrará el usuario. Consultad la [documentación oficial de la función input](https://docs.python.org/3/library/functions.html#input) para ver cómo hacerlo.\n",
    "\n",
    "Nota 2: También tendréis que pensar cómo tratar el hecho de que el usuario pueda utilizar mayúsculas y minúsculas en la escritura del nombre en el diccionario. ¡Os animamos a usar un buscador para intentar encontrar alguna alternativa para resolver este subproblema! ¡Recordad citar las referencias que hayáis usado para resolverlo!\n",
    "\n",
    "**(1.5 puntos)** <span style=\"font-family: Courier New; background-color: #ffcc5c; color: #000000; padding: 3px; \">EG</span>"
   ]
  },
  {
   "cell_type": "code",
   "execution_count": 88,
   "metadata": {},
   "outputs": [],
   "source": [
    "d = {\"Alex\":344334443, \"Eva\":5533443, \"Cristina\":443355, \"Jonas\":33223324}\n",
    "\n",
    "def listin(d):\n",
    "    n = input(\"nombre? \")\n",
    "    if n.capitalize() in d:\n",
    "        print(\"El número de %s es %d\" % (n, d[n.capitalize()]))\n",
    "    else:\n",
    "        print(False)"
   ]
  },
  {
   "cell_type": "code",
   "execution_count": 89,
   "metadata": {},
   "outputs": [
    {
     "name": "stdout",
     "output_type": "stream",
     "text": [
      "nombre? Alex\n",
      "El número de Alex es 344334443\n"
     ]
    }
   ],
   "source": [
    "listin(d)"
   ]
  },
  {
   "cell_type": "markdown",
   "metadata": {},
   "source": [
    "###  Ejercicio 4\n",
    "\n",
    "Python dispone de un **idio** muy útil conocido como `list comprehension`. Utilizando este **idiom**, proporcionad una expresión que devuelva las listas siguientes.\n",
    "\n",
    "Nota: Para realizar esta actividad necesitaréis investigar qué son las `list comprehension` y qué sintaxis utilizan. Para ello, se recomienda en primer lugar que utilicéis un buscador para encontrar información genérica sobre esta construcción. Después, os recomendamos que consultéis stackoverflow para ver algunos ejemplos de problemas que se pueden resolver con esta construcción.\n",
    "\n",
    "\n",
    "[stackoverflow](https://stackoverflow.com/) es un sitio de preguntas-y-respuestas muy popular entre programadores. Veréis que para la gran mayoría de las dudas que tengáis, habrá alguien que ya les habrá tenido (y consultado) anteriormente! Así pues, más allá de preguntar vosotros mismos las dudas allí (nosotros ya tenemos el foro del aula para ello!), consultar esta web os permitirá ver qué soluciones proponen otros programadores a estas dudas. A menudo habrá más de una solución a un mismo problema, y podréis valorar cuál es la más adecuada para vuestro problema.\n",
    "\n",
    "Para ver ejemplos de problemas que son adecuados para resolver con **list comprehensions**, os recomendamos leer las siguientes páginas:\n",
    "* https://stackoverflow.com/questions/12555443/squaring-all-elements-in-a-list\n",
    "* https://stackoverflow.com/questions/18551458/how-to-frame-two-for-loops-in-list-comprehension-python\n",
    "* https://stackoverflow.com/questions/24442091/list-comprehension-with-condition\n",
    "* https://stackoverflow.com/questions/41676212/i-want-to-return-only-the-odd-numbers-in-a-list\n",
    "* https://stackoverflow.com/questions/4260280/if-else-in-a-list-comprehension\n",
    "\n",
    "**(1 punto)**  <span style=\"font-family: Courier New; background-color: #ffcc5c; color: #000000; padding: 3px; \">EG</span>\n"
   ]
  },
  {
   "cell_type": "markdown",
   "metadata": {},
   "source": [
    "a) Una lista con los valores $4 x^2$ donde $x$ es cada uno de los números de la lista `list_1`:"
   ]
  },
  {
   "cell_type": "code",
   "execution_count": 90,
   "metadata": {},
   "outputs": [
    {
     "data": {
      "text/plain": [
       "[4, 16, 36, 64, 100, 144, 196, 256, 324]"
      ]
     },
     "execution_count": 90,
     "metadata": {},
     "output_type": "execute_result"
    }
   ],
   "source": [
    "list_1 = [1, 2, 3, 4, 5, 6, 7, 8, 9]\n",
    "\n",
    "[4*i**2 for i in list_1]\n"
   ]
  },
  {
   "cell_type": "markdown",
   "metadata": {},
   "source": [
    "b) Una lista con los valores $x/(x+1)$ donde $x$ es cada uno de los números de la lista `list_1`:"
   ]
  },
  {
   "cell_type": "code",
   "execution_count": 91,
   "metadata": {},
   "outputs": [
    {
     "data": {
      "text/plain": [
       "[0.5,\n",
       " 0.6666666666666666,\n",
       " 0.75,\n",
       " 0.8,\n",
       " 0.8333333333333334,\n",
       " 0.8571428571428571,\n",
       " 0.875,\n",
       " 0.8888888888888888,\n",
       " 0.9]"
      ]
     },
     "execution_count": 91,
     "metadata": {},
     "output_type": "execute_result"
    }
   ],
   "source": [
    "list_1 = [1, 2, 3, 4, 5, 6, 7, 8, 9]\n",
    "\n",
    "[i/(i+1) for i in list_1]"
   ]
  },
  {
   "cell_type": "markdown",
   "metadata": {},
   "source": [
    "c) Una lista con los valores $4x^2/(4x^2-1)$ donde $x$ es cada uno de los números de la lista `list_1`:"
   ]
  },
  {
   "cell_type": "code",
   "execution_count": null,
   "metadata": {},
   "outputs": [],
   "source": [
    "list_1 = [1, 2, 3, 4, 5, 6, 7, 8, 9]\n",
    "\n",
    "[(4.*i**2)/(4.*i**2 -1) for i in list_1]"
   ]
  },
  {
   "cell_type": "markdown",
   "metadata": {},
   "source": [
    "### Ejercicio 5\n",
    "\n",
    "Las funciones `lambda` son formas de expresar y definir funciones pequeñas sin necesidad de usar el constructor `def funcion():`.\n",
    "\n",
    "Lee sobre las funciones lambda, por ejemplo [aquí](https://www.w3schools.com/python/python_lambda.asp) o [aquí](https://realpython.com/python-lambda/)\n",
    "\n",
    "Escribe una función $f$ con argumento $n$, $f(n)$, que **devuelva una función** lambda, que esta a su vez devuelva $n$ copias de una cadena de caracteres en su argumento: \n",
    "\n",
    "**(0.5 puntos)**  <span style=\"font-family: Courier New; background-color: #f2ae72; color: #000000; padding: 3px; \">EI</span>"
   ]
  },
  {
   "cell_type": "code",
   "execution_count": 93,
   "metadata": {},
   "outputs": [
    {
     "data": {
      "text/plain": [
       "'holaholaholaholahola'"
      ]
     },
     "execution_count": 93,
     "metadata": {},
     "output_type": "execute_result"
    }
   ],
   "source": [
    "# Respuesta\n",
    "def f(n):\n",
    "    return lambda x: x*n\n",
    "\n",
    "r = f(5)\n",
    "r(\"hola\")  # Donde deberíamos ver 5 copias del literal \"Hola \""
   ]
  },
  {
   "cell_type": "markdown",
   "metadata": {},
   "source": [
    "### Ejercicio Opcional\n",
    "\n",
    "Existe una expresión atribuida a John Wallis (1616) para la estimación del valor de $\\pi$, consistente en: \n",
    "\n",
    "$$\n",
    "\\frac{\\pi}{2} = \\prod_{n=1}^{N} (\\frac{4n^2}{4n^2 - 1})\n",
    "$$\n",
    "si $N$ es suficientemente grande  $N \\to \\infty$. \n",
    "\n",
    "Escribe una función que, dado una aproximación N, calcule una estimación de $\\pi$ siguiendo la fórmula de Wallis. \n",
    "\n",
    "\n",
    "\n",
    "**Consideraciones:**\n",
    "\n",
    "- Investigad las funciones map, reduce\n",
    "- También podéis usar una list comprehension\n",
    "- Las funciones lambda os pueden ser útiles\n",
    "\n",
    "<span style=\"font-family: Courier New; background-color: #f2ae72; color: #000000; padding: 3px; \">EI</span>"
   ]
  },
  {
   "cell_type": "code",
   "execution_count": null,
   "metadata": {
    "attributes": {
     "classes": [
      "sourceCode"
     ],
     "id": ""
    }
   },
   "outputs": [],
   "source": [
    "# Respuesta"
   ]
  }
 ],
 "metadata": {
  "kernelspec": {
   "display_name": "Python 3",
   "language": "python",
   "name": "python3"
  },
  "language_info": {
   "codemirror_mode": {
    "name": "ipython",
    "version": 3
   },
   "file_extension": ".py",
   "mimetype": "text/x-python",
   "name": "python",
   "nbconvert_exporter": "python",
   "pygments_lexer": "ipython3",
   "version": "3.7.4"
  }
 },
 "nbformat": 4,
 "nbformat_minor": 1
}
