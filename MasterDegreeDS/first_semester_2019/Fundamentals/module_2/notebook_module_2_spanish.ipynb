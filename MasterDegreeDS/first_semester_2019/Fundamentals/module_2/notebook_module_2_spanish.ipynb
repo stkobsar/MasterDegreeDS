{
 "cells": [
  {
   "cell_type": "markdown",
   "metadata": {},
   "source": [
    "Programación para *Data Science*\n",
    "============================\n",
    "\n",
    "Unidad 2: Breve introducción a la programación en Python\n",
    "-----------------------------------------------------\n",
    "\n",
    "# Introducción\n",
    "\n",
    "En este Notebook encontraréis dos conjuntos de ejercicios: un primer conjunto de **ejercicios para practicar** y un segundo conjunto de **actividades evaluables** como PEC de la asignatura.\n",
    "\n",
    "En cuanto al conjunto de ejercicios para practicar, éstos no puntúan para la PEC, pero os recomendamos que los intentéis resolver como parte del proceso de aprendizaje. Encontraréis ejemplos de posibles soluciones a los ejercicios al propio notebook, pero es importante que intentéis resolverlos vosotros antes de consultar las soluciones. Las soluciones os permitirán validar vuestras respuestas, así como ver alternativas de resolución de las actividades. También os animamos a preguntar cualquier duda que surja sobre la resolución de los **ejercicios para practicar** en el foro del aula.\n",
    "\n",
    "En relación a las actividades evaluables, veréis que cada una de ellas tiene asociada una puntuación que indica el peso que tiene la actividad sobre la nota de la PEC. Adicionalmente, hay un ejercicio opcional, que no tiene puntuación dentro de la PEC, pero que se valora al final del semestre de cara a conceder las matrículas de honor y redondear las notas finales. Podéis sacar la máxima nota de la PEC sin necesidad de hacer este ejercicio! El objetivo de este ejercicio es que sirva como pequeño reto para los estudiantes que quieran profundizar en el contenido de la asignatura.\n",
    "\n",
    "Además, veréis que todas las actividades tienen una etiqueta que indica los recursos necesarios para llevarla a cabo. Hay tres posibles etiquetas:\n",
    "\n",
    "* <span style=\"font-family: Courier New; background-color: #82b74b; color: #000000; padding: 3px; \">NM</span> **Sólo materiales**: las herramientas necesarias para realizar la actividad se pueden encontrar en los materiales de la asignatura. \n",
    "\n",
    "* <span style=\"font-family: Courier New; background-color: #ffcc5c; color: #000000; padding: 3px; \">EG</span> **Consulta externa guiada**: la actividad puede requerir hacer uso de herramientas que no se encuentran en los materiales de la asignatura, pero el enunciado contiene indicaciones de dónde o cómo encontrar la información adicional necesaria para resolver la actividad.\n",
    "\n",
    "* <span style=\"font-family: Courier New; background-color: #f2ae72; color: #000000; padding: 3px; \">EI</span> **Consulta externa independente**: la actividad puede requerir hacer uso de herramientas que no se encuentran en los materiales de la asignatura, y el enunciado puede no incluir la descripción de dónde o cómo encontrar esta información adicional. Será necesario que el estudiante busque esta información utilizando los recursos que se han explicado en la asignatura.\n",
    "\n",
    "Es importante notar que estas etiquetas no indican el nivel de dificultad del ejercicio, sino únicamente la necesidad de consulta de documentación externa para su resolución. Además, recordad que las **etiquetas son informativas**, pero podréis consultar referencias externas en cualquier momento (aunque no se indique explícitamente) o puede ser que podáis hacer una actividad sin consultar ningún tipo de documentación. Por ejemplo, para resolver una actividad que sólo requiera los materiales de la asignatura, puedéis consultar referencias externas si queréis, ya sea tanto para ayudaros en la resolución como para ampliar el conocimiento!\n",
    "\n",
    "En cuanto a la consulta de documentación externa en la resolución de los ejercicios, recordad **citar siempre la bibliografía utilizada** para resolver cada actividad.\n"
   ]
  },
  {
   "cell_type": "markdown",
   "metadata": {},
   "source": [
    "---"
   ]
  },
  {
   "cell_type": "markdown",
   "metadata": {},
   "source": [
    "## Ejercicios para practicar\n",
    "\n",
    "**Los siguientes 3 ejercicios no puntúan para la PEC**, pero os recomendamos que los intentéis resolver antes de pasar a los ejercicios propios de la PAC. También encontraréis las soluciones a estos ejercicios al final del Notebook."
   ]
  },
  {
   "cell_type": "markdown",
   "metadata": {},
   "source": [
    "### Ejercicio 1\n",
    "\n",
    "Escribir un programa que defina una lista los valores con los nombres de los días de la semana. Haz que muestre el primero y\n",
    "el penúltimo día de la semana. <span style=\"font-family: Courier New; background-color: #82b74b; color: #000000; padding: 3px; \">NM</span>"
   ]
  },
  {
   "cell_type": "code",
   "execution_count": 1,
   "metadata": {},
   "outputs": [],
   "source": [
    "# Respuesta"
   ]
  },
  {
   "cell_type": "markdown",
   "metadata": {},
   "source": [
    "### Ejercicio 2\n",
    "\n",
    "Escribir una expresión en Python que muestre la siguiente salida por pantalla:"
   ]
  },
  {
   "cell_type": "raw",
   "metadata": {},
   "source": [
    "Hello\n",
    "\n",
    "    Python"
   ]
  },
  {
   "cell_type": "markdown",
   "metadata": {},
   "source": [
    "(Tened en cuenta que hay un salto de línea entre las dos palabras y que la palabra \"Python\" está tabulada hacia la derecha) <span style=\"font-family: Courier New; background-color: #ffcc5c; color: #000000; padding: 3px; \">EG</span>\n",
    "\n",
    "**Nota**: En el notebook de teoría hemos visto cómo crear cadenas de caracteres. Para hacer la actividad, tendréis que investigar cómo incluir saltos de línea y tabulaciones en estas cadenas!"
   ]
  },
  {
   "cell_type": "code",
   "execution_count": null,
   "metadata": {},
   "outputs": [],
   "source": [
    "# Respuesta"
   ]
  },
  {
   "cell_type": "markdown",
   "metadata": {},
   "source": [
    "### Ejercicio 3\n",
    "\n",
    "A partir de las siguientes listas\n",
    "\n",
    "```\n",
    "l_1 = [Lunes, Martes, Miércoles, Jueves, Viernes, Sábado, Domingo]\n",
    "l_2 = [1, 2, 3, 4, 5, 6, 7, 8]\n",
    "```\n",
    "\n",
    "Escribe una expresión que devuelva:\n",
    "\n",
    "1. El último elemento de la primera lista\n",
    "2. Una nueva lista con el primer elemento de cada una de las listas\n",
    "3. Una nueva lista con los tres primeros elementos de la segunda lista\n",
    "4. Una cadena de caracteres con el valor \"Miércoles 8\"\n",
    "\n",
    "<span style=\"font-family: Courier New; background-color: #82b74b; color: #000000; padding: 3px; \">NM</span>"
   ]
  },
  {
   "cell_type": "code",
   "execution_count": 2,
   "metadata": {},
   "outputs": [],
   "source": [
    "l_1 = ['Lunes', 'Martes', 'Miércoles', 'Jueves', 'Viernes', 'Sábado', 'Domingo']\n",
    "l_2 = [1, 2, 3, 4, 5, 6, 7, 8]\n",
    "\n",
    "# Respuesta"
   ]
  },
  {
   "cell_type": "markdown",
   "metadata": {},
   "source": [
    "---"
   ]
  },
  {
   "cell_type": "markdown",
   "metadata": {},
   "source": [
    "## Ejercicios y preguntas teóricas para la PAC\n",
    "\n",
    "A continuación, los **ejercicios y preguntas teóricas que deberéis completar en esta PAC** y que forman parte de la evaluación de esta unidad.\n",
    "\n",
    "En el siguiente enlace podréis encontrar la documentación oficial de *string functions* que puede\n",
    "ser de ayuda para completar los ejercicios:\n",
    "<https://docs.python.org/2/library/string.html>."
   ]
  },
  {
   "cell_type": "markdown",
   "metadata": {},
   "source": [
    "### Pregunta 1 \n",
    "\n",
    "¿Cuál es el valor final de a, b y c (atención a los tipos de número decimal y entero)? **(1 punto)** <span style=\"font-family: Courier New; background-color: #82b74b; color: #000000; padding: 2px; \">NM</span>\n",
    "\n",
    "a = 5 / 11\n",
    "\n",
    "b = 6 / 2.\n",
    "\n",
    "c, a = b // 2, b + 1"
   ]
  },
  {
   "cell_type": "markdown",
   "metadata": {},
   "source": [
    "**Respuesta**"
   ]
  },
  {
   "cell_type": "code",
   "execution_count": 2,
   "metadata": {},
   "outputs": [],
   "source": [
    "a=5/11\n",
    "b=6/3\n",
    "c, a = b // 2, b + 1"
   ]
  },
  {
   "cell_type": "code",
   "execution_count": 3,
   "metadata": {},
   "outputs": [
    {
     "name": "stdout",
     "output_type": "stream",
     "text": [
      "3.0\n",
      "2.0\n",
      "1.0\n"
     ]
    }
   ],
   "source": [
    "print(a)\n",
    "print(b)\n",
    "print(c)"
   ]
  },
  {
   "cell_type": "markdown",
   "metadata": {},
   "source": [
    "### Ejercicio 1\n",
    "\n",
    "Proporciona una única expresión que asigne el valor `7.5` a la variable `a_number`, el valor `[42]` a la variable `a_list` y el valor `\"hello world\"` a la variable `a_string`. Es necesario que proporciones una única expresión que realice las tres asignaciones. **(1 punto)** <span style=\"font-family: Courier New; background-color: #82b74b; color: #000000; padding: 2px; \">NM</span>"
   ]
  },
  {
   "cell_type": "code",
   "execution_count": 4,
   "metadata": {},
   "outputs": [
    {
     "name": "stdout",
     "output_type": "stream",
     "text": [
      "7.5\n",
      "42\n",
      "Hello World!\n"
     ]
    }
   ],
   "source": [
    "a_number, a_list, a_string=7.5, 42, 'Hello World!'\n",
    "print(a_number)\n",
    "print(a_list)\n",
    "print(a_string)"
   ]
  },
  {
   "cell_type": "markdown",
   "metadata": {},
   "source": [
    "### Ejercicio 2\n",
    "\n",
    "Qué expresión en Python necesitamos para conseguir el _string_\n",
    "\"Learning Python\" utilizando sólo las variables `str1` y` str2` definidas? **(1 punto)** <span style=\"font-family: Courier New; background-color: #82b74b; color: #000000; padding: 2px; \">NM</span>"
   ]
  },
  {
   "cell_type": "code",
   "execution_count": 5,
   "metadata": {
    "attributes": {
     "classes": [
      "sourceCode"
     ],
     "id": ""
    }
   },
   "outputs": [],
   "source": [
    "str1 = \"I love Python, it's great!\"\n",
    "str2 = \"Learning\""
   ]
  },
  {
   "cell_type": "code",
   "execution_count": 6,
   "metadata": {},
   "outputs": [
    {
     "name": "stdout",
     "output_type": "stream",
     "text": [
      "Learning Python\n"
     ]
    }
   ],
   "source": [
    "str3=str2[:8]+\" \"+str1[7:13]\n",
    "print(str3)"
   ]
  },
  {
   "cell_type": "markdown",
   "metadata": {},
   "source": [
    "### Ejercicio 3\n",
    "\n",
    "Escribir un programa que asigne tres valores reales aleatorios a tres variables con nombre `a`,` b` y ` c`. Utiliza las variables definidas anteriormente para evaluar la siguiente expresión matemática:\n",
    "\n",
    "$\\frac{-b + \\sqrt {b^2-4ac}}{2a}$\n",
    "\n",
    "**(1 punto)** <span style=\"font-family: Courier New; background-color: #ffcc5c; color: #000000; padding: 3px; \">EG</span>\n",
    "\n",
    "**Nota**: En el notebook de teoría hemos visto como sumar, restar, multiplicar y dividir números reales. Para hacer la actividad, tendréis que investigar cómo calcular potencias y raíces cuadradas en Python! Necesitaréis utilizar la librería [`Random`](https://docs.python.org/3/library/random.html?highlight=random#module-random) para la generación de números aleatorios."
   ]
  },
  {
   "cell_type": "code",
   "execution_count": 10,
   "metadata": {
    "attributes": {
     "classes": [
      "sourceCode"
     ],
     "id": ""
    }
   },
   "outputs": [
    {
     "name": "stdout",
     "output_type": "stream",
     "text": [
      "A=16\n",
      "B=10\n",
      "C=10\n",
      "\n",
      "Solución a la ecuación de segundo grado con los números generados:\n",
      "\n",
      "La solución es con numeros complejos\n"
     ]
    }
   ],
   "source": [
    "import random\n",
    "a=(random.randrange(1,20))\n",
    "b=(random.randrange(0,20))\n",
    "c=(random.randrange(0,20))\n",
    "print(\"A=%d\" % (a))\n",
    "print(\"B=%d\" % (b))\n",
    "print(\"C=%d\" % (c))\n",
    "print()\n",
    "print(\"Solución a la ecuación de segundo grado con los números generados:\\n\")\n",
    "from math import sqrt\n",
    "if((b**2-4*a*c)<0):\n",
    "    print(\"La solución es con numeros complejos\")\n",
    "else:\n",
    "    x1=(-b+sqrt(b**2-(4*a*c)))/(2*a)\n",
    "    x2=(-b-sqrt(b**2-(4*a*c)))/(2*a)\n",
    "    print(\"Solución para x1:\")\n",
    "    print(\"%6.4f\" % (x1))\n",
    "    print(\"Solución para x2:\")\n",
    "    print(\"%6.4f\" % (x2))"
   ]
  },
  {
   "cell_type": "markdown",
   "metadata": {},
   "source": [
    "### Ejercicio 4\n",
    "\n",
    "Escribir un programa que calcule el diámetro de una esfera de radio 5. **(1 punto)** <span style=\"font-family: Courier New; background-color: #82b74b; color: #000000; padding: 2px; \">NM</span>"
   ]
  },
  {
   "cell_type": "code",
   "execution_count": 14,
   "metadata": {
    "attributes": {
     "classes": [
      "sourceCode"
     ],
     "id": ""
    }
   },
   "outputs": [
    {
     "name": "stdout",
     "output_type": "stream",
     "text": [
      "diámetro de la esfera = 10\n"
     ]
    }
   ],
   "source": [
    "r=5\n",
    "d=r*2\n",
    "print(\"diámetro de la esfera =\", d)"
   ]
  },
  {
   "cell_type": "markdown",
   "metadata": {},
   "source": [
    "### Ejercicio 5\n",
    "\n",
    "Escribir un programa que defina una lista con los 10 primeros números primos. Mostrad por pantalla los tres últimos números de la lista. **(1 punto)** <span style=\"font-family: Courier New; background-color: #82b74b; color: #000000; padding: 2px; \">NM</span>"
   ]
  },
  {
   "cell_type": "code",
   "execution_count": 28,
   "metadata": {
    "attributes": {
     "classes": [
      "sourceCode"
     ],
     "id": ""
    }
   },
   "outputs": [
    {
     "name": "stdout",
     "output_type": "stream",
     "text": [
      "[3, 5, 7, 11, 13, 17, 19, 23, 29, 31]\n",
      "\n",
      "In this list there are  10  prime numbers.\n"
     ]
    }
   ],
   "source": [
    "start = 1\n",
    "end = 31\n",
    "\n",
    "list_prime_numbers = []\n",
    "\n",
    "for val in range(start, end + 1): \n",
    "    if val > 1: \n",
    "        for n in range(2, val//2 + 2): \n",
    "            if (val % n) == 0: \n",
    "                break\n",
    "            else: \n",
    "                if n == val//2 + 1: \n",
    "                    list_prime_numbers.append(val)\n",
    "\n",
    "print(list_prime_numbers)\n",
    "len_list = len(list_prime_numbers)\n",
    "print()\n",
    "print(\"In this list there are \", len_list, \" prime numbers.\")"
   ]
  },
  {
   "cell_type": "markdown",
   "metadata": {},
   "source": [
    "### Ejercicio 6\n",
    "\n",
    "Escribir un programa en el que se definan los precios de una frutería utilizando un _diccionario_. Deberéis incluir, como mínimo, 5 tipos de fruta diferentes. Por cada fruta, deberá indicarse el precio por kilo.\n",
    "\n",
    "Por ejemplo: Fresas de Huelva con precio 5.9, Fresas del Maresme con precio 10, Manzanas con precio 3.5, etc.\n",
    "\n",
    "Muestra el precio por kilo de cualquiera de las frutas que has incluido en el diccionario, utilizando cualquiera de los métodos de acceso a elementos de un diccionario. **(1 punto)** <span style=\"font-family: Courier New; background-color: #82b74b; color: #000000; padding: 2px; \">NM</span>"
   ]
  },
  {
   "cell_type": "code",
   "execution_count": 30,
   "metadata": {},
   "outputs": [
    {
     "name": "stdout",
     "output_type": "stream",
     "text": [
      "el precio de chirimoya  es de: 1.79 euro/kilo\n"
     ]
    }
   ],
   "source": [
    "fru_pr={'melocotón':2.65, 'ciruela roja':1.90, 'chirimoya':1.79, 'higos negros':4.75, 'manzana':1.59, 'paraguayo':4.89}\n",
    "fruta=\"chirimoya\"\n",
    "precio=fru_pr[fruta]\n",
    "print('el precio de', fruta, \" es de:\", precio, \"euro/kilo\")"
   ]
  },
  {
   "cell_type": "markdown",
   "metadata": {},
   "source": [
    "### Ejercicio 7\n",
    "\n",
    "Escribir un código que muestre por pantalla el precio de todas las frutas incluidas en el diccionario creado en el ejercicio anterior (accediendo al diccionario que acabas de definir). **(1 punto)** <span style=\"font-family: Courier New; background-color: #82b74b; color: #000000; padding: 2px; \">NM</span>\n",
    "\n",
    "El formato de la cadena de caracteres que muestra el precio debe ser el siguiente:\n",
    "\n",
    "```Las frutas tienen un precio de: {precios} euros```\n",
    "\n",
    "Siguiendo con el ejemplo del ejercicio anterior, habría que mostrar por pantalla:\n",
    "\n",
    "```Las frutas tienen un precio de: [5.9, 10, 3.5] euros```\n",
    "\n",
    "**Nota**: recordad que los diccionarios no tienen orden. Por lo tanto, otras ordenaciones de los precios también serían soluciones válidas, por ejemplo:\n",
    "\n",
    "```Las frutas tienen un precio de: [10, 5.9, 3.5] euros```"
   ]
  },
  {
   "cell_type": "code",
   "execution_count": 34,
   "metadata": {},
   "outputs": [
    {
     "name": "stdout",
     "output_type": "stream",
     "text": [
      "las frutas tienen un precio de: [2.65, 1.9, 1.79, 4.75, 1.59, 4.89] euros\n"
     ]
    }
   ],
   "source": [
    "fru_pr={'melocotón':2.65, 'ciruela roja':1.90, 'chirimoya':1.79, 'higos negros':4.75, 'manzana':1.59, 'paraguayo':4.89}\n",
    "precios = list(fru_pr.values())\n",
    "\n",
    "print(\"las frutas tienen un precio de:\", precios, \"euros\")"
   ]
  },
  {
   "cell_type": "markdown",
   "metadata": {},
   "source": [
    "### Ejercicio 8\n",
    "\n",
    "Ordenad la siguiente lista de cadenas de caracteres: **(1 punto)** <span style=\"font-family: Courier New; background-color: #ffcc5c; color: #000000; padding: 3px; \">EG</span>\n",
    "\n",
    "1. Invirtiendo el orden original\n",
    "2. En orden alfabético inverso\n",
    "\n",
    "**Nota**: Puedes consultar la documentación oficial de la función [`sorted`](https://docs.python.org/3/library/functions.html#sorted) para ver qué parámetros puedes utilizar para resolver la segunda parte de la actividad.\n",
    "\n"
   ]
  },
  {
   "cell_type": "code",
   "execution_count": 35,
   "metadata": {},
   "outputs": [],
   "source": [
    "st_chars = [\"Benjamin Sisko\", \"Kira Nerys\", \"Odo\", \"Quark\", \"Jadzia Dax\"]"
   ]
  },
  {
   "cell_type": "code",
   "execution_count": 36,
   "metadata": {},
   "outputs": [
    {
     "name": "stdout",
     "output_type": "stream",
     "text": [
      "['Jadzia Dax', 'Quark', 'Odo', 'Kira Nerys', 'Benjamin Sisko']\n"
     ]
    }
   ],
   "source": [
    "print(st_chars[::-1])"
   ]
  },
  {
   "cell_type": "code",
   "execution_count": 37,
   "metadata": {},
   "outputs": [
    {
     "name": "stdout",
     "output_type": "stream",
     "text": [
      "['Quark', 'Odo', 'Kira Nerys', 'Jadzia Dax', 'Benjamin Sisko']\n"
     ]
    }
   ],
   "source": [
    "print(sorted(st_chars,reverse=True))"
   ]
  },
  {
   "cell_type": "markdown",
   "metadata": {},
   "source": [
    "### Ejercicio 9\n",
    "\n",
    "A partir de la siguiente lista,\n",
    "\n",
    "```a_list = [42, 7.5,\" Answer to the Ultimate Question \",\" Dave \", 7.5]```\n",
    "\n",
    "proporcionad expresiones que devuelvan:\n",
    "\n",
    "1. El número de veces que aparece el elemento 7.5 en la lista.\n",
    "2. La posición de la primera aparición del valor 7.5\n",
    "3. La misma lista sin el último elemento\n",
    "\n",
    "**Nota**: En el notebook de teoría hemos visto qué son las listas y algunas operaciones sobre ellas. Para hacer la actividad, necesitaréis investigar algunas operaciones adicionales que podemos realizar sobre listas. Para ello podéis consultar la documentación oficial de Python sobre listas ([intro](https://docs.python.org/3/tutorial/introduction.html#lists) y [more on lists](https://docs.python.org/3/tutorial/datastructures.html#more-on-lists)).\n",
    "\n",
    "**(1 punto)** <span style=\"font-family: Courier New; background-color: #ffcc5c; color: #000000; padding: 3px; \">EG</span>"
   ]
  },
  {
   "cell_type": "code",
   "execution_count": 1,
   "metadata": {},
   "outputs": [
    {
     "name": "stdout",
     "output_type": "stream",
     "text": [
      "veces que aparece:\n",
      "2\n",
      "lista sin último elemento:\n",
      "[42, 7.5, ' Answer to the Ultimate Question ', ' Dave ']\n",
      "primera vez que sale:\n",
      "1\n"
     ]
    }
   ],
   "source": [
    "a_list = [42, 7.5,\" Answer to the Ultimate Question \",\" Dave \", 7.5]\n",
    "print(\"veces que aparece:\")\n",
    "print(a_list.count(7.5))\n",
    "print(\"lista sin último elemento:\")\n",
    "print(a_list[:-1])\n",
    "print(\"primera vez que sale:\")\n",
    "print(a_list.index(7.5))"
   ]
  },
  {
   "cell_type": "markdown",
   "metadata": {},
   "source": [
    "### Ejercicio Opcional\n",
    "\n",
    "Escribir un programa que genere una lista de números aleatorios y calcule el producto de todos los números de la lista. Los números de la lista deberán cumplir la siguiente condición: deben ser números impares entre 0 y 100. Además, el programa tendrá que preguntar al usuario cuántos elementos debe tener la lista (el usuario introducirá el número de elementos usando el teclado) y mostrar un mensaje de error si el usuario pide generar una lista de más de 50 elementos. Haz que el programa muestre la lista generada y el producto de sus elementos. <span style=\"font-family: Courier New; background-color: #f2ae72; color: #000000; padding: 3px; \">EI</span>"
   ]
  },
  {
   "cell_type": "code",
   "execution_count": 1,
   "metadata": {},
   "outputs": [
    {
     "name": "stdout",
     "output_type": "stream",
     "text": [
      "Numero de elementos de la lista: 35\n",
      "\n",
      "La lista de numeros impares y primos aleatoria es:  [9, 37, 71, 7, 39, 37, 13, 79, 71, 47, 85, 1, 65, 85, 49, 53, 19, 29, 5, 33, 85, 93, 49, 9, 91, 5, 69, 7, 43, 23, 73, 67, 79, 75, 77]\n",
      "\n",
      "El producto de los elementos de la lista es:  153434961881074486440170633407392811726332226850390625\n"
     ]
    }
   ],
   "source": [
    "import random\n",
    "import operator\n",
    "import functools\n",
    "\n",
    "len_list = input(\"Numero de elementos de la lista: \")\n",
    "print()\n",
    "len_list = int(len_list)\n",
    "\n",
    "list_random_odd = []\n",
    "contador = 0\n",
    "\n",
    "if len_list <= 50:\n",
    "    while contador < len_list:\n",
    "        random_odd_numbers = random.randrange(1, 100, 2)\n",
    "        list_random_odd.append(random_odd_numbers)\n",
    "        contador = contador + 1\n",
    "\n",
    "    print(\"La lista de numeros impares y primos aleatoria es: \", list_random_odd)\n",
    "    print()\n",
    "    product = functools.reduce(operator.mul, list_random_odd, 1)\n",
    "    print(\"El producto de los elementos de la lista es: \", product)\n",
    "\n",
    "else:\n",
    "    print(\"La lista no puede tener más de 50 elementos\")"
   ]
  },
  {
   "cell_type": "markdown",
   "metadata": {},
   "source": [
    "---\n",
    "\n",
    "## Soluciones de Ejercicios para practicar"
   ]
  },
  {
   "cell_type": "markdown",
   "metadata": {},
   "source": [
    "### Ejercicio 1\n",
    "\n",
    "La forma más fácil de definir un array en Python es utilizando [ ]:"
   ]
  },
  {
   "cell_type": "code",
   "execution_count": 8,
   "metadata": {},
   "outputs": [],
   "source": [
    "dias = ['Lunes', 'Martes', 'Miércoles', 'Jueves', 'Viernes', 'Sábado', 'Domingo']"
   ]
  },
  {
   "cell_type": "markdown",
   "metadata": {},
   "source": [
    "Para acceder a los elementos de un array utilizaremos el mismo operador [ ], pero especificaremos la posición o índice del elemento al que queremos acceder. Debemos tener en cuenta que en Python, el primer elemento de una lista tiene índice 0."
   ]
  },
  {
   "cell_type": "code",
   "execution_count": 10,
   "metadata": {},
   "outputs": [
    {
     "name": "stdout",
     "output_type": "stream",
     "text": [
      "Lunes\n",
      "Sábado\n"
     ]
    }
   ],
   "source": [
    "# Primer día de la setmana\n",
    "print (dias[0])\n",
    "\n",
    "# Penúltimo día de la setmana \n",
    "print (dias[-2])"
   ]
  },
  {
   "cell_type": "markdown",
   "metadata": {},
   "source": [
    "Python nos permite utilizar un índice negativo que contaría desde el final del array hacia el principio."
   ]
  },
  {
   "cell_type": "markdown",
   "metadata": {},
   "source": [
    "### Ejercicio 2\n",
    "\n",
    "Hay diferentes maneras de conseguir el mismo resultado y después veremos algunas de ellas.\n",
    "\n",
    "La primera opción, y quizás la más simple, sería utilizar las triples comillas dobles ( \"\"\"  \"\"\"). En Python, las triples comillas dobles se interpretan de forma literal y cualquier carácter que incluya nuestra cadena será renderizado tal y como aparece en la cadena. Esto nos puede resultar útil si por ejemplo nuestra cadena incluye comillas simples y comillas dobles. Vemos el código:"
   ]
  },
  {
   "cell_type": "code",
   "execution_count": 11,
   "metadata": {},
   "outputs": [
    {
     "name": "stdout",
     "output_type": "stream",
     "text": [
      "Hello\n",
      "\n",
      "    Python\n"
     ]
    }
   ],
   "source": [
    "print(\"\"\"Hello\n",
    "\n",
    "    Python\"\"\")"
   ]
  },
  {
   "cell_type": "markdown",
   "metadata": {},
   "source": [
    "La segunda opción incluye el uso de caracteres especiales como \"\\ n\" y \"\\ t\". El primero genera un salto de línea en la salida por pantalla, mientras que el segundo genera un tabulado (TAB). Por lo tanto, nuestro código quedaría de la siguiente manera:"
   ]
  },
  {
   "cell_type": "code",
   "execution_count": 13,
   "metadata": {},
   "outputs": [
    {
     "name": "stdout",
     "output_type": "stream",
     "text": [
      "Hello\n",
      "\n",
      "\tPython\n"
     ]
    }
   ],
   "source": [
    "print(\"Hello\\n\\n\\tPython\")"
   ]
  },
  {
   "cell_type": "markdown",
   "metadata": {},
   "source": [
    "En este caso, podemos ver que la indentación de la palabra \"Python\" es superior que en el caso anterior. Esto es debido a que, por defecto, el carácter \\t genera 8 espacios en blanco para \"simular\" la tabulación.\n",
    "\n",
    "Alternativamente, podemos utilizar el siguiente código (podemos poner nosotros mismos los espacios en blanco al principio de la línea):"
   ]
  },
  {
   "cell_type": "code",
   "execution_count": 14,
   "metadata": {},
   "outputs": [
    {
     "name": "stdout",
     "output_type": "stream",
     "text": [
      "Hello\n",
      "\n",
      "    Python\n"
     ]
    }
   ],
   "source": [
    "print(\"Hello\\n\\n    Python\")"
   ]
  },
  {
   "cell_type": "markdown",
   "metadata": {},
   "source": [
    "### Ejercicio 3"
   ]
  },
  {
   "cell_type": "code",
   "execution_count": 15,
   "metadata": {},
   "outputs": [],
   "source": [
    "l_1 = ['Lunes', 'Martes', 'Miércoles', 'Jueves', 'Viernes', 'Sábado', 'Domingo']\n",
    "l_2 = [1, 2, 3, 4, 5, 6, 7, 8]"
   ]
  },
  {
   "cell_type": "code",
   "execution_count": 16,
   "metadata": {},
   "outputs": [
    {
     "name": "stdout",
     "output_type": "stream",
     "text": [
      "Domingo\n"
     ]
    }
   ],
   "source": [
    "# 1. El último elemento de la primera lista\n",
    "print(l_1[-1])"
   ]
  },
  {
   "cell_type": "markdown",
   "metadata": {},
   "source": [
    "Utilizamos un índice negativo para indicar que queremos la última posición."
   ]
  },
  {
   "cell_type": "code",
   "execution_count": 17,
   "metadata": {},
   "outputs": [
    {
     "name": "stdout",
     "output_type": "stream",
     "text": [
      "['Lunes', 1]\n"
     ]
    }
   ],
   "source": [
    "# 2. Una nueva lista con el primer elemento de cada una de las listas\n",
    "print([l_1[0], l_2[0]])"
   ]
  },
  {
   "cell_type": "markdown",
   "metadata": {},
   "source": [
    "Creamos una nueva lista utilizando `[` y `]`. Dentro de la lista ponemos los elementos indicados, accediendo a partir de su índice."
   ]
  },
  {
   "cell_type": "code",
   "execution_count": 18,
   "metadata": {},
   "outputs": [
    {
     "name": "stdout",
     "output_type": "stream",
     "text": [
      "[1, 2, 3]\n",
      "[1, 2, 3]\n"
     ]
    }
   ],
   "source": [
    "# 3. Una nueva lista con los tres primeros elementos de la segunda lista\n",
    "print(l_2[0:3])\n",
    "\n",
    "# o equivalentmente:\n",
    "print(l_2[:3])"
   ]
  },
  {
   "cell_type": "markdown",
   "metadata": {},
   "source": [
    "Indicamos que queremos los tres primeros elementos, especificando el rango `0: 3`. El cero se puede omitir, obteniendo la expresión `[: 3]` que también es válida para recuperar los mismos elementos."
   ]
  },
  {
   "cell_type": "code",
   "execution_count": 19,
   "metadata": {},
   "outputs": [
    {
     "name": "stdout",
     "output_type": "stream",
     "text": [
      "Miércoles 8\n"
     ]
    }
   ],
   "source": [
    "# 4. Una cadena de caracteres con el valor \"Miércoles 8\"\n",
    "print(l_1[2] + \" \" + str(l_2[-1]))"
   ]
  },
  {
   "cell_type": "markdown",
   "metadata": {},
   "source": [
    "Creamos la cadena concatenando el tercer elemento de la primera lista, un espacio, y el último elemento de la segunda lista."
   ]
  }
 ],
 "metadata": {
  "kernelspec": {
   "display_name": "Python 3",
   "language": "python",
   "name": "python3"
  },
  "language_info": {
   "codemirror_mode": {
    "name": "ipython",
    "version": 3
   },
   "file_extension": ".py",
   "mimetype": "text/x-python",
   "name": "python",
   "nbconvert_exporter": "python",
   "pygments_lexer": "ipython3",
   "version": "3.7.4"
  }
 },
 "nbformat": 4,
 "nbformat_minor": 1
}
