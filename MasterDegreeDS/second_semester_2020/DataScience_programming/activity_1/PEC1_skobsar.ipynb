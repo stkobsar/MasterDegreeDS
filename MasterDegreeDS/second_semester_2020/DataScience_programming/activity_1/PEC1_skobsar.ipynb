{
 "cells": [
  {
   "cell_type": "markdown",
   "metadata": {},
   "source": [
    "<div style=\"width: 100%; clear: both;\">\n",
    "    <div style=\"float: left; width: 50%;\">\n",
    "       <img src=\"http://www.uoc.edu/portal/_resources/common/imatges/marca_UOC/UOC_Masterbrand.jpg\", align=\"left\">\n",
    "    </div>\n",
    "</div>\n",
    "\n",
    "<div style=\"float: right; width: 50%;\">\n",
    "    <p style=\"margin: 0; padding-top: 22px; text-align:right;\">22.503 · Programación para la ciencia de datos</p>\n",
    "    <p style=\"margin: 0; text-align:right;\">Grado de Ciencia de Datos Aplicada</p>\n",
    "    <p style=\"margin: 0; text-align:right; padding-button: 100px;\">Estudios de Informática, Multimedia y Telecomunicación</p>\n",
    "</div>\n",
    "\n",
    "</div>\n",
    "<div style=\"width: 100%; clear: both;\">\n",
    "<div style=\"width:100%;\">&nbsp;</div>"
   ]
  },
  {
   "cell_type": "markdown",
   "metadata": {},
   "source": [
    "Programación para la ciencia de datos - PEC1\n",
    "============================\n",
    "\n",
    "En este Notebook encontraréis un conjunto de ejercicios que suponen la primera prueba de evaluación continua (PEC) de la asignatura.\n",
    "\n",
    "Para cada ejercicio, tened en cuenta que:\n",
    "* **Es necesario incluir comentarios** de vuestro código que expliquen como habéis implementado la solución del problema planteado.\n",
    "* **Es imprescindible** citar las referencias que habéis consultado para realizar la actividad.\n",
    "* Se valorará que el código proporcionado solucione el problema propuesto así como su calidad (comentarios, legibilidad, claridad, uso de las estructuras de datos adecuadas, buena nomenclatura de las variables y funciones, seguimiento del PEP8, etc.).\n",
    "\n",
    "Veréis que cada una de las actividades tiene asociada una puntuación que indica el peso que tiene la actividad sobre la nota de la PEC.\n",
    "\n",
    "Además, veréis que todas las actividades tienen una etiqueta que indica los recursos necesarios para llevarla a cabo. Hay tres posibles etiquetas:\n",
    "\n",
    "* <span style=\"font-family: Courier New; background-color: #82b74b; color: #000000; padding: 3px; \">SM</span> **Solo materiales**: las herramientas necesarias para realizar la actividad se pueden encontrar en los materiales de la asignatura (consideraremos también los materiales de la asignatura Fundamentos de Programación, así como las lecturas obligatorias de material externo que se indiquen en los notebooks).\n",
    "\n",
    "* <span style=\"font-family: Courier New; background-color: #ffcc5c; color: #000000; padding: 3px; \">EG</span> **Consulta externa guiada**: la actividad puede requerir el uso de herramientas que no se encuentren en los materiales de la asignatura, pero el enunciado contiene indicaciones de dónde o cómo encontrar la información adicional necesaria para resolver la actividad.\n",
    "\n",
    "* <span style=\"font-family: Courier New; background-color: #f2ae72; color: #000000; padding: 3px; \">EI</span> **Consulta externa independiente**: la actividad puede requerir el uso de herramientas que no se encuentren en los materiales de la asignatura, y el enunciado puede no incluir la descripción de dónde o cómo encontrar esta información adicional. Será necesario que el estudiante busque esta información usando los recursos explicados en la asignatura.\n",
    "\n",
    "Es importante notar que estas etiquetas no indican el nivel de dificultad del ejercicio, sino únicamente la necesidad de consulta de documentación externa para su resolución. Además, recordad que las **etiquetas son informativas**, pero podréis consultar referencias externas siempre que queráis (aunque no se indique explícitamente) o puede que podáis hacer una actividad sin consultar ningún tipo de documentación. Por ejemplo, para resolver una actividad que solo requiera los materiales de la asignatura, podéis consultar referencias externas si queréis, ¡ya sea tanto para ayudaros en su resolución como para ampliar conocimiento! \n",
    "\n",
    "\n",
    "---"
   ]
  },
  {
   "cell_type": "code",
   "execution_count": 1,
   "metadata": {},
   "outputs": [],
   "source": [
    "%load_ext pycodestyle_magic"
   ]
  },
  {
   "cell_type": "code",
   "execution_count": 2,
   "metadata": {},
   "outputs": [],
   "source": [
    "# Activamos las alertas de estilo\n",
    "%pycodestyle_on"
   ]
  },
  {
   "cell_type": "markdown",
   "metadata": {},
   "source": [
    "## Ejercicio 1\n",
    "\n",
    "Durante los últimos 3 años hemos ido acumulando libros de temáticas distintas que no hemos tenido tiempo de leer. Como propósito de año nuevo nos hemos propuesto ponerle solución y, como primer paso, hemos decidido crear una **pila** con los libros, ordenados según el orden en el que nos proponemos leerlos.\n",
    "\n",
    "En una primera fase hemos separado los libros por temáticas en cuatro **pilas**: Ciencia ficción (sci_fi), Fantasía (fantasy), Novela negra (crime_fiction) y cómics (comics).\n",
    "\n",
    "Ahora, queremos crear una única **pila** con el orden que utilizaremos para leer los libros siguiendo el siguiente criterio:\n",
    "\n",
    "1. No queremos leer dos libros de la misma temática seguidos (si se puede evitar).\n",
    "2. Queremos ir leyendo los libros en el siguiente orden de temáticas: sci_fi, crime_fiction, fantasy, y comics.\n",
    "3. ¡Los cómics son una excepción a la primera regla! Si hay más de uno, leeremos dos seguidos.\n",
    "4. Queremos mantener el orden relativo de los libros de cada una de las 4 pilas temáticas. Es decir, si un libro está sobre otro en la pila de ciencia ficción, tendrá que seguir estándolo en la pila final.\n",
    "\n",
    "<span style=\"font-family: Courier New; background-color: #82b74b; color: #000000; padding: 3px; \">SM</span> **(1 punto)**"
   ]
  },
  {
   "cell_type": "code",
   "execution_count": 4,
   "metadata": {},
   "outputs": [],
   "source": [
    "# Las siguientes variables muestran el contenido de las 4 pilas temáticas de\n",
    "# libros\n",
    "sci_fi = [\"Dune\", \"Fahrenheit 451\", \"Ender's Game\", \"Hyperion\",\n",
    "          \"The Foundation Vol.3\", \"The Foundation Vol.2\",\n",
    "          \"The Foundation Vol.1\", \"1984\"]\n",
    "fantasy = [\"The Wise Man's Fear\", \"A Clash of Kings\",\n",
    "           \"Malazan Book of the Fallen\", \"The Name of the Wind\",\n",
    "           \"Lord of the Rings\", \"A Game of Thrones\"]\n",
    "crime_fiction = [\"Murder on the Orient Express\", \"The Cartel\",\n",
    "                 \"The Girl with the Dragon Tattoo\", \"The Cuckoo's Calling\",\n",
    "                 \"The Godfather\"]\n",
    "comics = [\"The Avengers vol. 3\", \"Spiderman vol. 16\", \"Ghost Rider vol. 2\",\n",
    "          \"Spiderman vol. 15\", \"John Constantine vol. 5\", \"Batman vol. 13\",\n",
    "          \"Green Arrow vol. 1\"]"
   ]
  },
  {
   "cell_type": "code",
   "execution_count": 5,
   "metadata": {},
   "outputs": [
    {
     "name": "stdout",
     "output_type": "stream",
     "text": [
      "|                                     |\n",
      "| Dune                                |\n",
      "|_____________________________________|\n",
      "\n",
      "\n",
      "| Fahrenheit 451                      |\n",
      "|_____________________________________|\n",
      "\n",
      "\n",
      "| The Wise Man's Fear                 |\n",
      "|_____________________________________|\n",
      "\n",
      "\n",
      "| Ender's Game                        |\n",
      "|_____________________________________|\n",
      "\n",
      "\n",
      "| A Clash of Kings                    |\n",
      "|_____________________________________|\n",
      "\n",
      "\n",
      "| Murder on the Orient Express        |\n",
      "|_____________________________________|\n",
      "\n",
      "\n",
      "| Hyperion                            |\n",
      "|_____________________________________|\n",
      "\n",
      "\n",
      "| The Avengers vol. 3                 |\n",
      "|_____________________________________|\n",
      "\n",
      "\n",
      "| Malazan Book of the Fallen          |\n",
      "|_____________________________________|\n",
      "\n",
      "\n",
      "| The Cartel                          |\n",
      "|_____________________________________|\n",
      "\n",
      "\n",
      "| The Foundation Vol.3                |\n",
      "|_____________________________________|\n",
      "\n",
      "\n",
      "| Spiderman vol. 16                   |\n",
      "|_____________________________________|\n",
      "\n",
      "\n",
      "| Ghost Rider vol. 2                  |\n",
      "|_____________________________________|\n",
      "\n",
      "\n",
      "| The Name of the Wind                |\n",
      "|_____________________________________|\n",
      "\n",
      "\n",
      "| The Girl with the Dragon Tattoo     |\n",
      "|_____________________________________|\n",
      "\n",
      "\n",
      "| The Foundation Vol.2                |\n",
      "|_____________________________________|\n",
      "\n",
      "\n",
      "| Spiderman vol. 15                   |\n",
      "|_____________________________________|\n",
      "\n",
      "\n",
      "| John Constantine vol. 5             |\n",
      "|_____________________________________|\n",
      "\n",
      "\n",
      "| Lord of the Rings                   |\n",
      "|_____________________________________|\n",
      "\n",
      "\n",
      "| The Cuckoo's Calling                |\n",
      "|_____________________________________|\n",
      "\n",
      "\n",
      "| The Foundation Vol.1                |\n",
      "|_____________________________________|\n",
      "\n",
      "\n",
      "| Batman vol. 13                      |\n",
      "|_____________________________________|\n",
      "\n",
      "\n",
      "| Green Arrow vol. 1                  |\n",
      "|_____________________________________|\n",
      "\n",
      "\n",
      "| A Game of Thrones                   |\n",
      "|_____________________________________|\n",
      "\n",
      "\n",
      "| The Godfather                       |\n",
      "|_____________________________________|\n",
      "\n",
      "\n",
      "| 1984                                |\n",
      "|_____________________________________|\n",
      "\n",
      "\n"
     ]
    }
   ],
   "source": [
    "def print_stack(s, msg_bef=None, msg_after=None):\n",
    "    # Definimos la función auxiliar print_stack, que nos permitirá\n",
    "    # visualizar una pila\n",
    "    if msg_bef:\n",
    "        print(msg_bef)\n",
    "    if len(s) == 0:\n",
    "        max_len = 10\n",
    "    else:\n",
    "        max_len = max([len(e) for e in s]) + 4\n",
    "    print(\"|\" + \" \" * (max_len + 2) + \"|\")\n",
    "    for e in s[::-1]:\n",
    "        print(\"| \" + e + \" \" * (max_len - len(e)) + \" |\")\n",
    "        print(\"|\" + \"_\" * (max_len + 2) + \"|\")\n",
    "        print(msg_after + \"\\n\" if msg_after else \"\\n\")\n",
    "\n",
    "\n",
    "def final_stack(sci_fi, crime_fiction, fantasy, comics):\n",
    "\n",
    "    final_pila = []\n",
    "\n",
    "    clase_stack = [sci_fi, crime_fiction, fantasy, comics, comics]\n",
    "\n",
    "\n",
    "    while True:\n",
    "\n",
    "        #Each iteration until exit condition is met\n",
    "        for pila in clase_stack:\n",
    "            if pila:\n",
    "                final_pila.append(pila.pop(-1))\n",
    "\n",
    "         #exit condition\n",
    "        if not sci_fi and not crime_fiction and not fantasy and not comics:\n",
    "            break\n",
    "\n",
    "    return final_pila\n",
    "\n",
    "\n",
    "\n",
    "pila1 = final_stack(sci_fi, crime_fiction, fantasy, comics)\n",
    "print_stack(pila1)\n",
    "\n"
   ]
  },
  {
   "cell_type": "markdown",
   "metadata": {},
   "source": [
    "## Ejercicio 2\n",
    "\n",
    "Utilizando **list comprehensions**, cread:\n",
    "1. Una lista, partiendo de la pila de libros resultante del ejercicio anterior, con los libros que tienen más de un espacio en su nombre.\n",
    "2. Una lista con los libros que tienen un número en su nombre. **Pista: recordad que podéis usar expresiones regulares**.\n",
    "\n",
    "Utilizando **list slicing**, cread:\n",
    "3. Una lista con los 4 primeros elementos de la lista que habéis obtenido en el punto 1.\n",
    "4. Una lista con los elementos en posiciones senares (1, 3, 5, etc.) de la lista que habéis obtenido en el punto 1.\n",
    "\n",
    "<span style=\"font-family: Courier New; background-color: #82b74b; color: #000000; padding: 3px; \">SM</span> **(1 punto)**"
   ]
  },
  {
   "cell_type": "code",
   "execution_count": 11,
   "metadata": {},
   "outputs": [
    {
     "name": "stdout",
     "output_type": "stream",
     "text": [
      "['The Godfather', 'A Game of Thrones', 'Green Arrow vol. 1', 'Batman vol. 13', 'The Foundation Vol.1', \"The Cuckoo's Calling\", 'Lord of the Rings', 'John Constantine vol. 5', 'Spiderman vol. 15', 'The Foundation Vol.2', 'The Girl with the Dragon Tattoo', 'The Name of the Wind', 'Ghost Rider vol. 2', 'Spiderman vol. 16', 'The Foundation Vol.3', 'The Cartel', 'Malazan Book of the Fallen', 'The Avengers vol. 3', 'Murder on the Orient Express', 'A Clash of Kings', \"Ender's Game\", \"The Wise Man's Fear\", 'Fahrenheit 451']\n"
     ]
    }
   ],
   "source": [
    "# Respuesta 2.1\n",
    "\n",
    "new_list_1 = [element for element in pila1 if \" \" in element]\n",
    "print(new_list_1)"
   ]
  },
  {
   "cell_type": "code",
   "execution_count": 13,
   "metadata": {},
   "outputs": [
    {
     "name": "stdout",
     "output_type": "stream",
     "text": [
      "['1984', 'Green Arrow vol. 1', 'Batman vol. 13', 'The Foundation Vol.1', 'John Constantine vol. 5', 'Spiderman vol. 15', 'The Foundation Vol.2', 'Ghost Rider vol. 2', 'Spiderman vol. 16', 'The Foundation Vol.3', 'The Avengers vol. 3', 'Fahrenheit 451']\n"
     ]
    }
   ],
   "source": [
    "# Respuesta 2.2\n",
    "\n",
    "def hasNumbers(inputString):\n",
    "    return any(char.isdigit() for char in inputString)\n",
    "\n",
    "new_list_2 = [element for element in pila1 if hasNumbers(element)]\n",
    "print(new_list_2)\n"
   ]
  },
  {
   "cell_type": "code",
   "execution_count": 17,
   "metadata": {},
   "outputs": [
    {
     "name": "stdout",
     "output_type": "stream",
     "text": [
      "['1984', 'The Godfather', 'A Game of Thrones', 'Green Arrow vol. 1']\n"
     ]
    }
   ],
   "source": [
    "# Respuesta 2.3\n",
    "\n",
    "new_list_3 = pila1[0:4]\n",
    "print(new_list_3)"
   ]
  },
  {
   "cell_type": "code",
   "execution_count": 18,
   "metadata": {},
   "outputs": [
    {
     "name": "stdout",
     "output_type": "stream",
     "text": [
      "['The Godfather', 'Green Arrow vol. 1', 'The Foundation Vol.1', 'Lord of the Rings', 'Spiderman vol. 15', 'The Girl with the Dragon Tattoo', 'Ghost Rider vol. 2', 'The Foundation Vol.3', 'Malazan Book of the Fallen', 'Hyperion', 'A Clash of Kings', \"The Wise Man's Fear\", 'Dune']\n"
     ]
    }
   ],
   "source": [
    "# Respuesta 2.4\n",
    "\n",
    "new_list_4 = pila1[1::2]\n",
    "print(new_list_4)"
   ]
  },
  {
   "cell_type": "markdown",
   "metadata": {},
   "source": [
    "## Ejercicio 3\n",
    "\n",
    "Los siguientes ejercicios se realizarán utilizando el dataset `earth-meteorite-landings.json` proporcionado junto con la PEC. El dataset original se puede encontrar aquí en la [siguiente URL](https://data.nasa.gov/resource/y77d-th95.json).\n",
    "\n",
    "Cargad el dataset y mostrad las cabeceras por pantalla.\n",
    "\n",
    "**Pista**: recordad que podemos utilizar librerías científicas como podría ser `pandas` para cargar conjuntos de datos de forma sencilla. \n",
    "\n",
    "<span style=\"font-family: Courier New; background-color: #ffcc5c; color: #000000; padding: 3px; \">EG</span> **(1 punto)**"
   ]
  },
  {
   "cell_type": "code",
   "execution_count": 38,
   "metadata": {
    "scrolled": true
   },
   "outputs": [
    {
     "name": "stdout",
     "output_type": "stream",
     "text": [
      "       name   id nametype     recclass      mass  fall  \\\n",
      "0    Aachen    1    Valid           L5      21.0  Fell   \n",
      "1    Aarhus    2    Valid           H6     720.0  Fell   \n",
      "2      Abee    6    Valid          EH4  107000.0  Fell   \n",
      "3  Acapulco   10    Valid  Acapulcoite    1914.0  Fell   \n",
      "4   Achiras  370    Valid           L6     780.0  Fell   \n",
      "\n",
      "                      year    reclat    reclong  \\\n",
      "0  1880-01-01T00:00:00.000  50.77500    6.08333   \n",
      "1  1951-01-01T00:00:00.000  56.18333   10.23333   \n",
      "2  1952-01-01T00:00:00.000  54.21667 -113.00000   \n",
      "3  1976-01-01T00:00:00.000  16.88333  -99.90000   \n",
      "4  1902-01-01T00:00:00.000 -33.16667  -64.95000   \n",
      "\n",
      "                                         geolocation  \\\n",
      "0  {'type': 'Point', 'coordinates': [6.08333, 50....   \n",
      "1  {'type': 'Point', 'coordinates': [10.23333, 56...   \n",
      "2  {'type': 'Point', 'coordinates': [-113, 54.216...   \n",
      "3  {'type': 'Point', 'coordinates': [-99.9, 16.88...   \n",
      "4  {'type': 'Point', 'coordinates': [-64.95, -33....   \n",
      "\n",
      "   :@computed_region_cbhk_fwbd  :@computed_region_nnqa_25f4  \n",
      "0                          NaN                          NaN  \n",
      "1                          NaN                          NaN  \n",
      "2                          NaN                          NaN  \n",
      "3                          NaN                          NaN  \n",
      "4                          NaN                          NaN  \n"
     ]
    }
   ],
   "source": [
    "import pandas as pd\n",
    "\n",
    "json_data = \"https://data.nasa.gov/resource/y77d-th95.json\"\n",
    "df_nasa = pd.read_json(json_data)\n",
    "\n",
    "head = pd.DataFrame.head(df_nasa)\n",
    "print(head)"
   ]
  },
  {
   "cell_type": "markdown",
   "metadata": {},
   "source": [
    "## Ejercicio 4\n",
    "\n",
    "Cread una lista de **enteros** con todos los años del dataset. Es decir, cread una lista con todos los años (solo el año, un entero de cuatro dígitos) que aparecen en el campo **year**.\n",
    "\n",
    "<span style=\"font-family: Courier New; background-color: #82b74b; color: #000000; padding: 3px; \">SM</span> **(1 punto)**"
   ]
  },
  {
   "cell_type": "code",
   "execution_count": 39,
   "metadata": {},
   "outputs": [
    {
     "name": "stdout",
     "output_type": "stream",
     "text": [
      "[1880, 1951, 1952, 1976, 1902, 1919, 1949, 1814, 1930, 1920, 1974, 1925, 1769, 1949, 1838, 1959, 1981, 1957, 2001, 1806, 1766, 1949, 2002, 1835, 1873, 1860, 1900, 1883, 1899, 1969, 2008, 1977, 1895, 1880, 1898, 1969, 1939, 1822, 1869, 1942, 1971, 1984, 1914, 1803, 1954, 1932, 1950, 1805, 2009, 1923, 1886, 1920, 1896, 1933, 1945, 1836, 1865, 1842, 1858, 1952, 1908, 1855, 1968, 1938, 1814, 1934, 1929, 1922, 1907, 1993, 1871, 1892, 1913, 1933, 1790, 1704, 1842, 1904, 1886, 1910, 1965, 2006, 1994, 1892, 1902, 2012, 1989, 1916, 1929, 1893, 1949, 1961, 1937, 1798, 2004, 2001, 1938, 1943, 2002, 1949, 2008, 1924, 1811, 2004, 1859, 1859, 1921, 1877, 2002, 1893, 1940, 1905, 1827, 1887, 1999, 1984, 1923, 1843, 1895, 1796, 1899, 1941, 1906, 1909, 1833, 1938, 1977, 1804, 1962, 1916, 1808, 1894, 1930, 1852, 1812, 1823, 2003, 2011, 1969, 1886, 1847, 1956, 1855, 1933, 1960, 2001, 1964, 2007, 1942, 1919, 1990, 1946, 1863, 1852, 1861, 2008, 1870, 1886, 1919, 2007, 1916, 1991, 1964, 1861, 1866, 1973, 1846, 1934, 2007, 1902, 1874, 1791, 1848, 1583, 1810, 1988, 1956, 1840, 1998, 1814, 1907, 1933, 1838, 1885, 1977, 1812, 1835, 1810, 1834, 1815, 1841, 1925, 1988, 2013, 2007, 1964, 1933, 1901, 1939, 1880, 1981, 1938, 1988, 1966, 1978, 1979, 1984, 1822, 1917, 1838, 1994, 1890, 1965, 1844, 1917, 1936, 1877, 1892, 1902, 1919, 1877, 1981, 1878, 1868, 1868, 1804, 1998, 2008, 1887, 1829, 1897, 1911, 1967, 2001, 1962, 2001, 1994, 1976, 1848, 1860, 2007, 1906, 1957, 1884, 1961, 1999, 1903, 1864, 1907, 1995, 1899, 1970, 1805, 1962, 1932, 1976, 1827, 1939, 1951, 1999, 1865, 1976, 1815, 1853, 1943, 1970, 1872, 1933, 1947, 1961, 1785, 1939, 1916, 1989, 1977, 1993, 1998, 1400, 1951, 1925, 1900, 1974, 1492, 1822, 1940, 1911, 1889, 1812, 1837, 1957, 1879, 1890, 1934, 1844, 1934, 1875, 1900, 1924, 1889, 1996, 1894, 1922, 1890, 1942, 1924, 1900, 1829, 1944, 1868, 1945, 1882, 1654, 1822, 1977, 1826, 1952, 1952, 1995, 1897, 1960, 1917, 1950, 1984, 2000, 1950, 1909, 1853, 1947, 1990, 1939, 1918, 1991, 1879, 1865, 1974, 1964, 1976, 2009, 1861, 1837, 1881, 1841, 1910, 1932, 1996, 1983, 1980, 1892, 1891, 1972, 1949, 1982, 1984, 1904, 1814, 1981, 1851, 1930, 1817, 1934, 1944, 1959, 1878, 1921, 1961, 1859, 1910, 1890, 1628, 1971, 1922, 1910, 1857, 1869, 1897, 1804, 2003, 2003, 1954, 1912, 1923, 1875, 1825, 1956, 1963, 1751, 2010, 1877, 1901, 1870, 1957, 1949, 1936, 1956, 1977, 1975, 1891, 1917, 1963, 1977, 1972, 1954, 1928, 1879, 1990, 1938, 1903, 1926, 1990, 1621, 1866, 1979, 1889, 1901, 2009, 1873, 1964, 1890, 1976, 2006, 1877, 1924, 1974, 1819, 1997, 1876, 1984, 1976, 1968, 1821, 1857, 1971, 1822, 1838, 1908, 1980, 1937, 1890, 1858, 1951, 1879, 1942, 1913, 1902, 1959, 1908, 1897, 1942, 2004, 1937, 1840, 1963, 1949, 1905, 1955, 1930, 1938, 2003, 1999, 2006, 1961, 1940, 2008, 1939, 2003, 1874, 1869, 1850, 1873, 1932, 1787, 1860, 1867, 1929, 1910, 1932, 1983, 1962, 1970, 1906, 1809, 2002, 1911, 1844, 1967, 1906, 1914, 1998, 1843, 1866, 1999, 1986, 1926, 1931, 2010, 1869, 1829, 1946, 1906, 1946, 1938, 1961, 1811, 1906, 1949, 1998, 1920, 1860, 1977, 1914, 1932, 1886, 1879, 1878, 1924, 1985, 1871, 1955, 1803, 2003, 1910, 1887, 1872, 1897, 1947, 1986, 1925, 1987, 1830, 1938, 1845, 1845, 1943, 1912, 1999, 1907, 1900, 1857, 1896, 1973, 1930, 1813, 1854, 1978, 1808, 1839, 1820, 1868, 1994, 2010, 1894, 1970, 1977, 1935, 1926, 1768, 1869, 1980, 1889, 1813, 1753, 1951, 1937, 1836, 1981, 1936, 1950, 1935, 1896, 1941, 1899, 1990, 2007, 2004, 1933, 1970, 1930, 1931, 1933, 1927, 1863, 1843, 1934, 1951, 1948, 1925, 1898, 2009, 1941, 1971, 1847, 1902, 1848, 2002, 1983, 1836, 2010, 1803, 1768, 1801, 1974, 1885, 1942, 1992, 1953, 1861, 1915, 1862, 1903, 1878, 1945, 1920, 1955, 1897, 1949, 1852, 1827, 1980, 1881, 2010, 1889, 1992, 1944, 1842, 1960, 1930, 1632, 1826, 1952, 1905, 1910, 1890, 1898, 1882, 1905, 1908, 1858, 1953, 1998, 1849, 1950, 1846, 1923, 1838, 1950, 1913, 1810, 1930, 1808, 2000, 1875, 2006, 1868, 1868, 1902, 1991, 1637, 1944, 1865, 1795, 1924, 1969, 1950, 1964, 1842, 1956, 1922, 1875, 1895, 1911, 1923, 1886, 1917, 1825, 1984, 1928, 1974, 1928, 921, 1936, 1973, 1890, 1995, 1870, 1970, 1864, 2002, 1860, 1994, 2003, 1883, 1900, 1750, 1967, 1967, 1935, 1954, 1975, 1983, 1897, 1912, 1823, 1991, 861, 1879, 1918, 1948, 1971, 1886, 1662, 1908, 1933, 1978, 1851, 1925, 1939, 1914, 1887, 1927, 1855, 1900, 1741, 1857, 1963, 1926, 1958, 1904, 1834, 1930, 1520, 1924, 1929, 1981, 1864, 2004, 1868, 1671, 1872, 1928, 1867, 1896, 2003, 1986, 2003, 1998, 1900, 1856, 1775, 1881, 1929, 1910, 1910, 1988, 1914, 1926, 1949, 2002, 1859, 1938, 1930, 1967, 1956, 2003, 1857, 1942, 1933, 1969, 1950, 1922, 1935, 1966, 1938, 1826, 1882, 1989, 1963, 1953, 1992, 1946, 1899, 1935, 1830, 1933, 1933, 1995, 1855, 1779, 1901, 1887, 1933, 1941, 1968, 1843, 1863, 1996, 1881, 1882, 1884, 1921, 1930, 2008, 1723, 1868, 2002, 1819, 1866, 1942, 1931, 1998, 1796, 1933, 1932, 1959, 1893, 2007, 1863, 1868, 1811, 1937, 1982, 1976, 1925, 1857, 1898, 1990, 1851, 1957, 1986, 1983, 1878, 1940, 1916, 1958, 1917, 1899, 1937, 1919, 1961, 1740, 1880, 2007, 1947, 1919, 1824, 1925, 1916, 1933, 1965, 1929, 1903, 1948, 1918, 1980, 1828, 1934, 1491, 1876, 1895, 1871, 1775, 1921, 1876, 1976, 1934, 1949, 1914, 1855, 1999, 1636, 1914, 1966, 1913, 1981, 1798, 1985, 1921, 1973, 2002, 1956, 1968, 1873, 1939, 1924, 2008, 1962, 1918, 1688, 1868, 1894, 1986, 1934, 1715, 1968, 1846, 1871, 1917, 1853, 1939, 1947, 1940, 1773, 1993, 1966, 1818, 1923, 1908, 1862, 1874, 1989, 1850, 1921, 1904, 1865, 1976, 1921, 1971, 1912, 1863, 1794, 1947, 1995, 1917, 1920, 1916, 1901, 1956, 1933, 1875, 1989, 1989, 1848, 1868, 1818, 1960, 1877, 1860, 2011, 1866, 1993, 1927, 1945, 1883, 1841, 1855, 1890, 1950, 1903, 1919, 1866, 1910, 1959, 1876, 1808, 1857, 1962, 1990, 1647, 1974, 1917, 1623, 1994, 1924, 1969, 1986, 2008, 1916, 1935, 1865, 2012, 1954, 1753, 1867, 2000, 1991, 1880, 1995, 1975, 2008, 1918, 1965, 1931, 1967, 1929, 1937, 1879, 1872, 1950, 2011, 2002, 1986, 1878, 1927, 1970, 1807, 1934, 2011, 1869, 1922, 1905]\n"
     ]
    }
   ],
   "source": [
    "df_nasa_year = df_nasa[\"year\"].dropna()\n",
    "year_list = df_nasa_year.tolist()\n",
    "\n",
    "new_list_year = [ int(str(year)[:4]) for year in year_list]\n",
    "\n",
    "print(new_list_year)\n",
    "\n"
   ]
  },
  {
   "cell_type": "markdown",
   "metadata": {},
   "source": [
    "## Ejercicio 5\n",
    "\n",
    "Basándonos en la lista de años anterior:\n",
    "\n",
    "1. Encontrad cuantos años no repetidos existen.\n",
    "2. Encontrad la diferencia entre el año más antiguo y el más nuevo.\n",
    "\n",
    "Mostrad el resultado por pantalla debidamente formateado (usando el método `format()`), incluyendo un mensaje explicativo de los valores que mostráis.\n",
    "\n",
    "<span style=\"font-family: Courier New; background-color: #82b74b; color: #000000; padding: 3px; \">SM</span> **(1 punto)**"
   ]
  },
  {
   "cell_type": "code",
   "execution_count": 40,
   "metadata": {},
   "outputs": [
    {
     "name": "stdout",
     "output_type": "stream",
     "text": [
      "El numero de años no repetidos es: 53\n",
      "La diferencia de años entre el más antiguo y el más nuevo es: 1152\n"
     ]
    }
   ],
   "source": [
    "#how many of them are repeated\n",
    "\n",
    "list_repeated = [ rep for rep in new_list_year if new_list_year.count(rep) == 1]\n",
    "len_list = len(list_repeated)\n",
    "print(\"El numero de años no repetidos es: {}\".format(len_list))\n",
    "\n",
    "#difference\n",
    "\n",
    "difference = max(new_list_year) - min(new_list_year)\n",
    "\n",
    "print(\"La diferencia de años entre el más antiguo y el más nuevo es: {}\".format(difference))\n",
    "\n",
    "\n"
   ]
  },
  {
   "cell_type": "markdown",
   "metadata": {},
   "source": [
    "## Ejercicio 6\n",
    "\n",
    "Calculad la diferencia, en segundos, desde el **1 de enero del primer año** del dataset al **1 de enero de este año**.\n",
    "\n",
    "<span style=\"font-family: Courier New; background-color: #82b74b; color: #000000; padding: 3px; \">SM</span> **(1 punto)**"
   ]
  },
  {
   "cell_type": "code",
   "execution_count": 41,
   "metadata": {},
   "outputs": [
    {
     "name": "stdout",
     "output_type": "stream",
     "text": [
      "Los años totales son:  250\n",
      "El tiempo en segundos de esos años es:  7884000000\n"
     ]
    }
   ],
   "source": [
    "#Respuesta\n",
    "\n",
    "first_year = list_repeated[0]\n",
    "years_to_count = 2019 - first_year\n",
    "print(\"Los años totales son: \", years_to_count)\n",
    "seconds = years_to_count*365*24*60*60\n",
    "print(\"El tiempo en segundos de esos años es: \", seconds)"
   ]
  },
  {
   "cell_type": "markdown",
   "metadata": {},
   "source": [
    "## Ejercicio 7\n",
    "\n",
    "Usando **expresiones regulares**:\n",
    "\n",
    "1. Encontrad todos los nombres de meteoritos que empiecen por vocal y tengan más de 5 letras.\n",
    "2. Encontrad todos los nombres de meteoritos que empiecen por consonante y acaben por vocal.\n",
    "\n",
    "<span style=\"font-family: Courier New; background-color: #82b74b; color: #000000; padding: 3px; \">SM</span> **(1 punto)**"
   ]
  },
  {
   "cell_type": "code",
   "execution_count": 42,
   "metadata": {},
   "outputs": [
    {
     "name": "stdout",
     "output_type": "stream",
     "text": [
      "['Aachen', 'Aarhus', 'Acapulco', 'Achiras', 'Adhi Kot', 'Adzhi-Bogdo (stone)', 'Aguada', 'Aguila Blanca', 'Aioun el Atrouss', 'Aire-sur-la-Lys', 'Akbarpur', 'Akwanga', 'Akyumak', 'Al Rais', 'Al Zarnkh', 'Albareto', 'Alberta', 'Alby sur Chéran', 'Aldsworth', 'Aleppo', 'Alessandria', 'Alexandrovsky', 'Alfianello', 'Allegan', 'Allende', 'Almahata Sitta', \"Alta'ameem\", 'Ambapur Nagla', 'Andhara', 'Andover', 'Andreevka', 'Andura', 'Angers', 'Angra dos Reis (stone)', 'Ankober', 'Anlong', 'Aomori', 'Appley Bridge', 'Arbol Solo', 'Archie', 'Arroyo Aguiar', 'Ash Creek', 'Ashdon', 'Assisi', 'Atarra', 'Atemajac', 'Athens', 'Aubres', 'Aumale', 'Aumieres', 'Ausson', 'Avanhandava', 'Avilez', 'Eichstädt', 'Ekh Khera', 'El Idrissia', 'El Paso de Aguila', 'El Tigre', 'Elbert', 'Elbogen', 'Elenovka', 'Ellemeet', 'Emmaville', 'Ensisheim', 'Erakot', 'Erevan', 'Ergheo', 'Erxleben', 'Esnandes', 'Essebi', 'Estherville', 'Ibbenbüren', 'Ibitira', 'Ibrisim', 'Ichkala', 'Idutywa', 'Iguaracu', 'Ijopega', 'Indarch', 'Independence', 'Inner Mongolia', 'Innisfree', 'Ipiranga', 'Ishinga', 'Isthilart', 'Itapicuru-Mirim', 'Ochansk', 'Oesede', 'Ofehértó', 'Ojuelos Altos', 'Okniny', 'Oldenburg (1930)', 'Oliva-Gandia', 'Olivenza', 'Olmedilla de Alarcón', 'Omolon', 'Orgueil', 'Orlando', 'Ornans', 'Ortenau', 'Orvinio', 'Oterøy', 'Ottawa', 'Ouadangou', 'Oued el Hadjar', 'Oum Dreyga', 'Ourique', 'Ovambo', 'Oviedo', 'Owrucz', 'Uzcudun']\n"
     ]
    }
   ],
   "source": [
    "# Respuesta 7.1\n",
    "import re\n",
    "\n",
    "regex = '^[aeiouAEIOU][A-Za-z0-9_]*'\n",
    "\n",
    "names = df_nasa[\"name\"]\n",
    "valid = [name for name in names if(re.search(regex, name) and len(name) > 5 )]\n",
    "print(valid)\n"
   ]
  },
  {
   "cell_type": "code",
   "execution_count": 11,
   "metadata": {},
   "outputs": [],
   "source": [
    "# Respuesta 7.2\n",
    "\n"
   ]
  },
  {
   "cell_type": "markdown",
   "metadata": {},
   "source": [
    "## Ejercicio 8\n",
    "\n",
    "Cread un diccionario ordenado con los datos del dataset. El diccionario debe de estar indexado \n",
    "y ordenado por el campo **id**.\n",
    "\n",
    "La estructura debe de ser {id0: dict_con_datos_de_id0, id1: dict_con_datos_de_id1, ...}\n",
    "\n",
    "**Pista**: podéis usar el método `.to_dict()` de una columna del dataset para convertirla en un diccionario.\n",
    "\n",
    "<span style=\"font-family: Courier New; background-color: #ffcc5c; color: #000000; padding: 3px; \">EG</span> **(1 punto)**"
   ]
  },
  {
   "cell_type": "code",
   "execution_count": 53,
   "metadata": {},
   "outputs": [],
   "source": [
    "# Respuesta\n",
    "dict_nasa = df_nasa.to_dict(orient=\"index\")"
   ]
  },
  {
   "cell_type": "markdown",
   "metadata": {},
   "source": [
    "## Ejercicio 9\n",
    "\n",
    "Definid una **función** que reciba como parámetro el diccionario del ejercicio anterior y:\n",
    "1. Muestre por pantalla las masas de todos los asteroides de clase (`recclass`) H6 con identificador mayor a 5000.\n",
    "2. Devuelva la media de los valores mostrados por pantalla.\n",
    "\n",
    "La función debe de estar preparada para trabajar con diccionarios muy grandes. Por lo tanto, se debe evitar guardar los valores individuales mostrados por pantalla en una lista.\n",
    "\n",
    "Llamad a la función definida con el diccionario del ejercicio anterior como parámetro.\n",
    "\n",
    "<span style=\"font-family: Courier New; background-color: #82b74b; color: #000000; padding: 3px; \">SM</span> **(1 punto)**"
   ]
  },
  {
   "cell_type": "code",
   "execution_count": 54,
   "metadata": {},
   "outputs": [
    {
     "name": "stdout",
     "output_type": "stream",
     "text": [
      "97     1770.5\n",
      "98       3880\n",
      "120      1850\n",
      "125       470\n",
      "155     29000\n",
      "        ...  \n",
      "945      4000\n",
      "968      7235\n",
      "987       342\n",
      "995       230\n",
      "997     20000\n",
      "Name: mass, Length: 73, dtype: object\n",
      "11952.820547945206\n"
     ]
    }
   ],
   "source": [
    "# Respuesta\n",
    "\n",
    "def asteroid_mass(dictionary):\n",
    "    df_nasa = pd.DataFrame(dictionary)\n",
    "    df_nasa = df_nasa.T\n",
    "    condition = (df_nasa[\"recclass\"] == \"H6\") & (df_nasa[\"id\"] > 5000)\n",
    "    asteroids_H6 = df_nasa[condition]\n",
    "    print(asteroids_H6[\"mass\"])\n",
    "    print(asteroids_H6[\"mass\"].mean())\n",
    "\n",
    "asteroid_mass(dict_nasa)\n",
    "\n"
   ]
  },
  {
   "cell_type": "markdown",
   "metadata": {},
   "source": [
    "## Ejercicio 10\n",
    "\n",
    "\n",
    "Cread una **única expresión** que calcule el mismo valor que se pide en el ejercicio anterior. Es decir, calculad la media de las masas de los asteroides con identificador mayor que 5000 y classe H6 usando como información de entrada un diccionario. En este caso, podéis suponer que los diccionarios serán más pequeños y, por lo tanto, podéis guardar en memoria todos los valores auxiliares que necesitéis para hacer el cálculo.\n",
    "\n",
    "<span style=\"font-family: Courier New; background-color: #82b74b; color: #000000; padding: 3px; \">SM</span> **(1 punto)**"
   ]
  },
  {
   "cell_type": "code",
   "execution_count": 59,
   "metadata": {},
   "outputs": [
    {
     "name": "stdout",
     "output_type": "stream",
     "text": [
      "51552.989425675674\n"
     ]
    }
   ],
   "source": [
    "# Respuesta\n",
    "import numpy as np\n",
    "\n",
    "mass_mean =  np.mean([ mean[\"mass\"] for mean in dict_nasa.values() if mean[\"id\"] > 5000 and not np.isnan(mean[\"mass\"] and)])\n",
    "\n",
    "print(mass_mean)"
   ]
  }
 ],
 "metadata": {
  "kernelspec": {
   "display_name": "Python 3",
   "language": "python",
   "name": "python3"
  },
  "language_info": {
   "codemirror_mode": {
    "name": "ipython",
    "version": 3
   },
   "file_extension": ".py",
   "mimetype": "text/x-python",
   "name": "python",
   "nbconvert_exporter": "python",
   "pygments_lexer": "ipython3",
   "version": "3.7.4"
  }
 },
 "nbformat": 4,
 "nbformat_minor": 2
}
