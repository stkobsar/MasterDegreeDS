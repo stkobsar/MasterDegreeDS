{
 "cells": [
  {
   "cell_type": "markdown",
   "metadata": {},
   "source": [
    "<div style=\"width: 100%; clear: both;\">\n",
    "    <div style=\"float: left; width: 50%;\">\n",
    "       <img src=\"http://www.uoc.edu/portal/_resources/common/imatges/marca_UOC/UOC_Masterbrand.jpg\", align=\"left\">\n",
    "    </div>\n",
    "</div>\n",
    "\n",
    "<div style=\"float: right; width: 50%;\">\n",
    "    <p style=\"margin: 0; padding-top: 22px; text-align:right;\">22.503 · Programación para la ciencia de datos</p>\n",
    "    <p style=\"margin: 0; text-align:right;\">Grado en Ciencia de Datos Aplicada</p>\n",
    "    <p style=\"margin: 0; text-align:right; padding-button: 100px;\">Estudios de Informática, Multimedia y Telecomunicación</p>\n",
    "</div>\n",
    "\n",
    "</div>\n",
    "<div style=\"width: 100%; clear: both;\">\n",
    "<div style=\"width:100%;\">&nbsp;</div>"
   ]
  },
  {
   "cell_type": "markdown",
   "metadata": {},
   "source": [
    "Programación para la ciencia de datos - PEC3\n",
    "============================\n",
    "\n",
    "En este Notebook encontraréis un conjunto de ejercicios que suponen la tercera actividad de evaluación continua (PEC) de la asignatura.\n",
    "\n",
    "Para cada ejercicio, tened en cuenta que: \n",
    "* **Es necesario añadir comentarios** de vuestro código que expliquen como habéis implementado la solución del problema planteado.\n",
    "* **Es imprescindible** citar las referencias que habéis consultado para realizar la actividad.\n",
    "* Se valorará que el código proporcionado solucione el problema propuesto y también la calidad del código (comentarios, legibilidad, claridad, uso de las estructuras de datos adecuadas, buena nomenclatura de las variables y funciones, seguimiento del PEP8, etc. ).\n",
    "\n",
    "Veréis que cada una de las actividades tiene asociada una puntuación, que indica el peso que tiene esa actividad sobre la nota de la PEC. Adicionalmente, hay una puntuación asociada a aspectos globales de la PEC (*docstring*, modularidad y estilo), que se evaluarán sobre la totalidad del código entregado. \n",
    "\n",
    "Además, veréis que todas las actividades tienen una etiqueta, que indica los recursos necesarios para llevarla a término. Hay tres posibles etiquetas: \n",
    "\n",
    "* <span style=\"font-family: Courier New; background-color: #82b74b; color: #000000; padding: 3px; \">SM</span> **Solo materiales**: las herramientas necesarias para realizar la actividad se pueden encontrar en los materiales de la asignatura (consideraremos también los materiales de la asignatura Fundamentos de Programación, así como las lecturas obligatorias de material externo que se indiquen en los notebooks).\n",
    "\n",
    "* <span style=\"font-family: Courier New; background-color: #ffcc5c; color: #000000; padding: 3px; \">EG</span> **Consulta externa guiada**: la actividad puede requerir el uso de herramientas que no se encuentren en los materiales de la asignatura, pero el enunciado contiene indicaciones de dónde o cómo encontrar la información adicional necesaria para resolver la actividad.\n",
    "\n",
    "* <span style=\"font-family: Courier New; background-color: #f2ae72; color: #000000; padding: 3px; \">EI</span> **Consulta externa independiente**: la actividad puede requerir el uso de herramientas que no se encuentren en los materiales de la asignatura, y el enunciado puede no incluir la descripción de dónde o cómo encontrar esta información adicional. Será necesario que el estudiante busque esta información usando los recursos explicados en la asignatura.\n",
    "\n",
    "Es importante notar que estas etiquetas no indican el nivel de dificultad del ejercicio, sino únicamente la necesidad de consulta de documentación externa para su resolución. Además, recordad que las **etiquetas son informativas**, pero podréis consultar referencias externas siempre que queráis (aunque no se indique explícitamente) o puede que podáis hacer una actividad sin consultar ningún tipo de documentación. Por ejemplo, para resolver una actividad que solo requiera los materiales de la asignatura, podéis consultar referencias externas si queréis, ¡ya sea tanto para ayudaros en su resolución como para ampliar conocimiento! "
   ]
  },
  {
   "cell_type": "markdown",
   "metadata": {},
   "source": [
    "## Ejercicio 1\n",
    "\n",
    "Indicad la complejidad algorítmica $\\Theta$ en relación al tiempo de ejecución de los siguientes fragmentos de código, justificando vuestra respuesta.\n",
    "\n",
    "<span style=\"font-family: Courier New; background-color: #82b74b; color: #000000; padding: 3px; \">NM</span> **(2 puntos)**\n",
    "\n",
    "**Ejercicio 1.1 (0.75 puntos):**\n",
    "\n",
    "Nota: podéis asumir que los tres parámetros tienen siempre el mismo tamaño."
   ]
  },
  {
   "cell_type": "code",
   "execution_count": 5,
   "metadata": {
    "pycharm": {
     "name": "#%%\n"
    }
   },
   "outputs": [],
   "source": [
    "def foo(l, s, d):\n",
    "    \"\"\"\n",
    "    Args:\n",
    "        l (:obj:`list`): a list of integers.\n",
    "        s (:obj:`list`): a list of integers behaving as a stack.\n",
    "        d (:obj:`dict`): a dictionary with integer values.\n",
    "    \"\"\"\n",
    "\n",
    "    r = 0\n",
    "    while len(s) > 0:\n",
    "        s_item = s.pop()\n",
    "        for i in l:\n",
    "            for k,v in d.items():\n",
    "                r += v + i * s_item\n",
    "\n",
    "    return r"
   ]
  },
  {
   "cell_type": "code",
   "execution_count": 7,
   "metadata": {},
   "outputs": [
    {
     "data": {
      "text/plain": [
       "[<matplotlib.lines.Line2D at 0x7ff0080bf810>]"
      ]
     },
     "execution_count": 7,
     "metadata": {},
     "output_type": "execute_result"
    },
    {
     "data": {
      "image/png": "[encoded data removed]",
      "text/plain": [
       "<Figure size 432x288 with 1 Axes>"
      ]
     },
     "metadata": {
      "needs_background": "light"
     },
     "output_type": "display_data"
    }
   ],
   "source": [
    "%matplotlib inline\n",
    "import time\n",
    "import matplotlib.pyplot as plt\n",
    "import numpy as np\n",
    "\n",
    "l=np.linspace(0, 1000000, 6)\n",
    "s= 10\n",
    "m = 5\n",
    "\n",
    "times = []\n",
    "for numbers in l: \n",
    "    list_1 = list(range(int(numbers)))\n",
    "    list_2 = list(range(s))\n",
    "    dict = {num:num for num in range(m)}\n",
    "    start = time.time()\n",
    "    foo(list_1, list_2, dict)\n",
    "    end = time.time()\n",
    "    times.append(end - start)\n",
    "\n",
    "\n",
    "plt.plot(l, times, marker=\"o\")"
   ]
  },
  {
   "cell_type": "markdown",
   "metadata": {},
   "source": [
    "O = N \n",
    "\n",
    "La complejidad algoritmica en relación al tiempo respecto a la variable l es N. Se observa en el gráfico una claro incremento lineal. \n"
   ]
  },
  {
   "cell_type": "code",
   "execution_count": 8,
   "metadata": {},
   "outputs": [
    {
     "data": {
      "text/plain": [
       "[<matplotlib.lines.Line2D at 0x7ff008ce3350>]"
      ]
     },
     "execution_count": 8,
     "metadata": {},
     "output_type": "execute_result"
    },
    {
     "data": {
      "image/png": "[encoded data removed]",
      "text/plain": [
       "<Figure size 432x288 with 1 Axes>"
      ]
     },
     "metadata": {
      "needs_background": "light"
     },
     "output_type": "display_data"
    }
   ],
   "source": [
    "s=np.linspace(0, 1000000, 6)\n",
    "l= 10\n",
    "m = 5\n",
    "\n",
    "times = []\n",
    "for numbers in s: \n",
    "    list_1 = list(range(l))\n",
    "    list_2 = list(range(int(numbers)))\n",
    "    dict = {num:num for num in range(m)}\n",
    "    start = time.time()\n",
    "    foo(list_1, list_2, dict)\n",
    "    end = time.time()\n",
    "    times.append(end - start)\n",
    "\n",
    "\n",
    "plt.plot(s, times, marker=\"o\")"
   ]
  },
  {
   "cell_type": "markdown",
   "metadata": {},
   "source": [
    "La complejidad algoritmica en relación al tiempo respecto a la variable s es N. Se observa en el gráfico una claro incremento lineal."
   ]
  },
  {
   "cell_type": "code",
   "execution_count": 9,
   "metadata": {},
   "outputs": [
    {
     "data": {
      "text/plain": [
       "[<matplotlib.lines.Line2D at 0x7ff00be48a50>]"
      ]
     },
     "execution_count": 9,
     "metadata": {},
     "output_type": "execute_result"
    },
    {
     "data": {
      "image/png": "[encoded data removed]",
      "text/plain": [
       "<Figure size 432x288 with 1 Axes>"
      ]
     },
     "metadata": {
      "needs_background": "light"
     },
     "output_type": "display_data"
    }
   ],
   "source": [
    "m=np.linspace(0, 1000000, 6)\n",
    "l= 10\n",
    "s = 10\n",
    "\n",
    "times = []\n",
    "for numbers in m: \n",
    "    list_1 = list(range(l))\n",
    "    list_2 = list(range(s))\n",
    "    dict = {num:num for num in range(int(numbers))}\n",
    "    start = time.time()\n",
    "    foo(list_1, list_2, dict)\n",
    "    end = time.time()\n",
    "    times.append(end - start)\n",
    "\n",
    "\n",
    "plt.plot(m, times, marker=\"o\")"
   ]
  },
  {
   "cell_type": "markdown",
   "metadata": {},
   "source": [
    "La complejidad algoritmica en relación al tiempo respecto a la variable m es N. Se observa en el gráfico una claro incremento lineal."
   ]
  },
  {
   "cell_type": "markdown",
   "metadata": {},
   "source": [
    "**Ejercicio 1.2 (0.75 puntos):**"
   ]
  },
  {
   "cell_type": "code",
   "execution_count": 10,
   "metadata": {
    "pycharm": {
     "name": "#%%\n"
    }
   },
   "outputs": [],
   "source": [
    "from copy import deepcopy\n",
    "\n",
    "def foo2(l):\n",
    "    \"\"\"\n",
    "    Args:\n",
    "        l (:obj:`list`): a list of integers.\n",
    "    \"\"\"\n",
    "\n",
    "    r = 0\n",
    "\n",
    "    for i in l:\n",
    "        l2 = deepcopy(l)\n",
    "        while len(l2) > 0:\n",
    "            r += i**2\n",
    "            l2 = l2[:len(l2)//2]\n",
    "\n",
    "    return r\n"
   ]
  },
  {
   "cell_type": "code",
   "execution_count": 11,
   "metadata": {},
   "outputs": [
    {
     "data": {
      "text/plain": [
       "[<matplotlib.lines.Line2D at 0x7ff008c63450>]"
      ]
     },
     "execution_count": 11,
     "metadata": {},
     "output_type": "execute_result"
    },
    {
     "data": {
      "image/png": "[encoded data removed]",
      "text/plain": [
       "<Figure size 432x288 with 1 Axes>"
      ]
     },
     "metadata": {
      "needs_background": "light"
     },
     "output_type": "display_data"
    }
   ],
   "source": [
    "def create_lists(n): \n",
    "    list_total = []\n",
    "    for num in range(int(n)):\n",
    "        list1 = [100] * num\n",
    "        list_total.append(list1)\n",
    "    return list_total\n",
    "    \n",
    "        \n",
    "    \n",
    "\n",
    "list_total = create_lists(100)\n",
    "\n",
    "time_foo2 = []\n",
    "for list in list_total:\n",
    "    start_foo2 = time.time()\n",
    "    foo2(list)\n",
    "    end_foo2 = time.time()\n",
    "    time_foo2.append(end_foo2 - start_foo2)\n",
    "\n",
    "time_to_plot = np.sqrt(time_foo2)\n",
    "plt.plot(time_foo2, color=\"darkgreen\",marker=\"o\", linestyle = 'None')\n",
    "\n",
    "#O(log(t)) = log(N); O(t)=N ?????"
   ]
  },
  {
   "cell_type": "code",
   "execution_count": 16,
   "metadata": {},
   "outputs": [
    {
     "data": {
      "text/plain": [
       "[<matplotlib.lines.Line2D at 0x7feff35e8690>]"
      ]
     },
     "execution_count": 16,
     "metadata": {},
     "output_type": "execute_result"
    },
    {
     "data": {
      "image/png": "[encoded data removed]",
      "text/plain": [
       "<Figure size 432x288 with 1 Axes>"
      ]
     },
     "metadata": {
      "needs_background": "light"
     },
     "output_type": "display_data"
    }
   ],
   "source": [
    "time_to_plot = np.sqrt(time_foo2)\n",
    "plt.plot(time_to_plot, color=\"darkgreen\",marker=\"o\", linestyle = 'None')"
   ]
  },
  {
   "cell_type": "markdown",
   "metadata": {},
   "source": [
    "La complejidad algoritmica en relación al tiempo respecto a la variable n es N^2. Se observa en el gráfico una tendencia cuadrática, ya que al represetar la raiz cuadrada del tiempo, obtenemos una recta. "
   ]
  },
  {
   "cell_type": "markdown",
   "metadata": {},
   "source": [
    "**Ejercicio 1.3 (0.5 puntos):**"
   ]
  },
  {
   "cell_type": "code",
   "execution_count": 12,
   "metadata": {
    "pycharm": {
     "name": "#%%\n"
    }
   },
   "outputs": [],
   "source": [
    "def foo3(n):\n",
    "    \"\"\"\n",
    "    Args:\n",
    "        n (:obj:`int`): an integer value\n",
    "    \"\"\"\n",
    "\n",
    "    r=0\n",
    "    for i in range(abs(n)):\n",
    "        if i < 0:\n",
    "            for j in range(abs(n)):\n",
    "                r += i+j\n",
    "        else:\n",
    "            r += 2*i\n",
    "    return r"
   ]
  },
  {
   "cell_type": "code",
   "execution_count": 13,
   "metadata": {},
   "outputs": [],
   "source": [
    "integer_value_list = [foo3(100), foo3(200), foo3(400), foo3(800), foo3(1600), foo3(3200)]\n"
   ]
  },
  {
   "cell_type": "code",
   "execution_count": 14,
   "metadata": {},
   "outputs": [
    {
     "data": {
      "text/plain": [
       "[<matplotlib.lines.Line2D at 0x7feff3695190>]"
      ]
     },
     "execution_count": 14,
     "metadata": {},
     "output_type": "execute_result"
    },
    {
     "data": {
      "image/png": "[encoded data removed]",
      "text/plain": [
       "<Figure size 432x288 with 1 Axes>"
      ]
     },
     "metadata": {
      "needs_background": "light"
     },
     "output_type": "display_data"
    }
   ],
   "source": [
    "time_foo3 = []\n",
    "for list3 in integer_value_list:\n",
    "    start_foo3 = time.time()\n",
    "    foo3(list3)\n",
    "    end_foo2 = time.time()\n",
    "    time_foo3.append(end_foo2 - start_foo2)\n",
    "\n",
    "\n",
    "plt.plot(time_foo3, color=\"darkgreen\",marker=\"o\", linestyle = 'None')"
   ]
  },
  {
   "cell_type": "markdown",
   "metadata": {},
   "source": [
    "**Respuesta:**\n",
    "\n",
    "La complejidad algoritmica en relación al tiempo respecto a la variable n es log(N). Se observa en el gráfico una tendencia exponencial.\n"
   ]
  },
  {
   "cell_type": "markdown",
   "metadata": {},
   "source": [
    "## Ejercicio 2\n",
    "\n",
    "En este ejercicio analizaréis un fragmento de código con el objetivo de detectar las ineficiencias y, después, mejorarlo.\n",
    "\n",
    "1. Utilizando las herramientas de *profiling* que hemos visto en el Notebook de teoría, analizad el siguiente fragmento de código ineficiente y encontrad cual es el cuello de botella. Explicad las ineficiencias que habéis detectado, relacionándolas con los resultados obtenidos en el *profiling*.\n",
    "\n",
    "2. Mejorad el código con el objetivo de reducir el tiempo de ejecución.\n",
    "\n",
    "<span style=\"font-family: Courier New; background-color: #82b74b; color: #000000; padding: 3px; \">NM</span> **(2 puntos)**\n",
    "\n"
   ]
  },
  {
   "cell_type": "code",
   "execution_count": 79,
   "metadata": {
    "pycharm": {
     "name": "#%%\n"
    }
   },
   "outputs": [],
   "source": [
    "\n",
    "def accumulate_list_while(l):\n",
    "    result = 0\n",
    "    #while len(l) > 0:\n",
    "    while True:\n",
    "        try:\n",
    "            result += l.pop()\n",
    "        except IndexError:\n",
    "            break\n",
    "    return result\n",
    "\n",
    "l = list(range(100000))\n",
    "#accumulate_list_while(l)"
   ]
  },
  {
   "cell_type": "code",
   "execution_count": 80,
   "metadata": {},
   "outputs": [
    {
     "name": "stdout",
     "output_type": "stream",
     "text": [
      "The line_profiler extension is already loaded. To reload it, use:\n",
      "  %reload_ext line_profiler\n"
     ]
    }
   ],
   "source": [
    "%load_ext line_profiler"
   ]
  },
  {
   "cell_type": "code",
   "execution_count": 81,
   "metadata": {},
   "outputs": [],
   "source": [
    "%lprun -f accumulate_list_while accumulate_list_while(l)"
   ]
  },
  {
   "cell_type": "markdown",
   "metadata": {},
   "source": [
    "Timer unit: 1e-06 s\n",
    "\n",
    "Total time: 7.43339 s\n",
    "File: <ipython-input-25-f7353e6aab2a>\n",
    "Function: accumulate_list_while at line 1\n",
    "\n",
    "Line #      Hits         Time  Per Hit   % Time  Line Contents\n",
    "==============================================================\n",
    "     1                                           def accumulate_list_while(l):\n",
    "     2         1          2.0      2.0      0.0      result = 0\n",
    "     3  10000001    3542206.0      0.4     47.7      while len(l) > 0:\n",
    "     4  10000000    3891184.0      0.4     52.3          result += l.pop()\n",
    "     5         1          1.0      1.0      0.0      return result\n",
    "     "
   ]
  },
  {
   "cell_type": "markdown",
   "metadata": {},
   "source": [
    "Cuello de botella linea 3\n",
    "mejorarlo con try except:\n",
    "ejecutar bucle while siempre. Instruccion except es para que cuando detecta error porque ya no hay mas elementos en la lista, para."
   ]
  },
  {
   "cell_type": "markdown",
   "metadata": {},
   "source": [
    "La linea original se deja comentada. Se puede ver que el cuello de botella del código está en la linea 3, donde se checkea que la longitud de la lista l que entra en la función cada vez que se ejecuta. La optimización del código propuesta es usar un boque try except. La instrucción except se usa para informar a la función que cuando existe un error, pare el proceso. Ese error será cuando ya no existan más elementos en la lista. \n",
    "\n",
    "Se puede ver el resultado del profiling una vez implementada la optimización del código a continuación."
   ]
  },
  {
   "cell_type": "markdown",
   "metadata": {},
   "source": [
    "Timer unit: 1e-06 s\n",
    "\n",
    "Total time: 0.06579 s\n",
    "File: <ipython-input-79-ffed05f3f6b6>\n",
    "Function: accumulate_list_while at line 1\n",
    "\n",
    "Line #      Hits         Time  Per Hit   % Time  Line Contents\n",
    "==============================================================\n",
    "     1                                           def accumulate_list_while(l):\n",
    "     2         1          2.0      2.0      0.0      result = 0\n",
    "     3                                               #while len(l) > 0:\n",
    "     4         1          1.0      1.0      0.0      while True:\n",
    "     5    100001      25608.0      0.3     38.9          try:\n",
    "     6    100001      40177.0      0.4     61.1              result += l.pop()\n",
    "     7         1          1.0      1.0      0.0          except IndexError:\n",
    "     8         1          1.0      1.0      0.0              break\n",
    "     9         1          0.0      0.0      0.0      return result"
   ]
  },
  {
   "cell_type": "markdown",
   "metadata": {},
   "source": [
    "## Ejercicio 3\n",
    "\n",
    "En este ejercicio analizaréis un fragmento de código con el objetivo de detectar las ineficiencias y, después, mejorarlo.\n",
    "\n",
    "1. Utilizando las herramientas de *profiling* que hemos visto en el Notebook de teoría, analizad el siguiente fragmento de código ineficiente y encontrad cual es el cuello de botella. Explicad las ineficiencias que habéis detectado, relacionándolas con los resultados obtenidos en el *profiling*.\n",
    "\n",
    "2. Mejorad el código con el objetivo de reducir el tiempo de ejecución.\n",
    "\n",
    "<span style=\"font-family: Courier New; background-color: #82b74b; color: #000000; padding: 3px; \">NM</span> **(2 puntos)**"
   ]
  },
  {
   "cell_type": "code",
   "execution_count": 90,
   "metadata": {},
   "outputs": [],
   "source": [
    "from random import randint\n",
    "\n",
    "def add_max_random_list_or(iters, n):\n",
    "    l = [0]\n",
    "    for i in range(iters):\n",
    "        r = randint(0, n)\n",
    "        max_l = max(l)\n",
    "\n",
    "        if r > max_l:\n",
    "            l.append(r)\n",
    "        else:\n",
    "            l.append(max_l + 1)\n",
    "\n",
    "    return l\n",
    "\n",
    "output = add_max_random_list(100000, 50)"
   ]
  },
  {
   "cell_type": "code",
   "execution_count": 92,
   "metadata": {},
   "outputs": [],
   "source": [
    "%lprun -f add_max_random_list_or add_max_random_list_or(100, 5)"
   ]
  },
  {
   "cell_type": "markdown",
   "metadata": {},
   "source": [
    "Profiling de la función original:"
   ]
  },
  {
   "cell_type": "markdown",
   "metadata": {},
   "source": [
    "Timer unit: 1e-06 s\n",
    "\n",
    "Total time: 0.001099 s\n",
    "File: <ipython-input-90-95b614e56801>\n",
    "Function: add_max_random_list_or at line 3\n",
    "\n",
    "Line #      Hits         Time  Per Hit   % Time  Line Contents\n",
    "==============================================================\n",
    "     3                                           def add_max_random_list_or(iters, n):\n",
    "     4         1          2.0      2.0      0.2      l = [0]\n",
    "     5       101         51.0      0.5      4.6      for i in range(iters):\n",
    "     6       100        699.0      7.0     63.6          r = randint(0, n)\n",
    "     7       100        206.0      2.1     18.7          max_l = max(l)\n",
    "     8                                           \n",
    "     9       100         62.0      0.6      5.6          if r > max_l:\n",
    "    10         1          1.0      1.0      0.1              l.append(r)\n",
    "    11                                                   else:\n",
    "    12        99         77.0      0.8      7.0              l.append(max_l + 1)\n",
    "    13                                           \n",
    "    14         1          1.0      1.0      0.1      return l"
   ]
  },
  {
   "cell_type": "code",
   "execution_count": 83,
   "metadata": {
    "pycharm": {
     "name": "#%%\n"
    }
   },
   "outputs": [],
   "source": [
    "from random import randint\n",
    "\n",
    "def add_max_random_list(iters, n):\n",
    "    l = [0]\n",
    "    max_l = 0\n",
    "    for i in range(iters):\n",
    "        r = randint(0, n)\n",
    "        if r > max_l:\n",
    "            l.append(r)\n",
    "            max_l = r\n",
    "        else:\n",
    "            l.append(max_l +1)\n",
    "            max_l = max_l +1\n",
    "\n",
    "    return l\n",
    "\n",
    "#add_max_random_list(100000, 50)"
   ]
  },
  {
   "cell_type": "markdown",
   "metadata": {},
   "source": [
    "Para optimizar el código se ha sustituido la función max que itaraba sobre toda la lista para buscar el máximo de dicha lista por una asignación de la variable inicianizandola en 0. Esto afecta a la velocidad de ejecución de la linea 7 en la función original. \n",
    "\n",
    "El profiling de la función con el código optimizado se puede ver a continuación. "
   ]
  },
  {
   "cell_type": "code",
   "execution_count": 93,
   "metadata": {
    "pycharm": {
     "name": "#%%\n"
    }
   },
   "outputs": [],
   "source": [
    "%lprun -f add_max_random_list add_max_random_list(100, 5)"
   ]
  },
  {
   "cell_type": "markdown",
   "metadata": {},
   "source": [
    "Timer unit: 1e-06 s\n",
    "\n",
    "Total time: 0.000951 s\n",
    "File: <ipython-input-83-88ecc76a43ef>\n",
    "Function: add_max_random_list at line 3\n",
    "\n",
    "Line #      Hits         Time  Per Hit   % Time  Line Contents\n",
    "==============================================================\n",
    "     3                                           def add_max_random_list(iters, n):\n",
    "     4         1          2.0      2.0      0.2      l = [0]\n",
    "     5         1          1.0      1.0      0.1      max_l = 0\n",
    "     6       101         49.0      0.5      5.2      for i in range(iters):\n",
    "     7       100        725.0      7.2     76.2          r = randint(0, n)\n",
    "     8       100         57.0      0.6      6.0          if r > max_l:\n",
    "     9         2          2.0      1.0      0.2              l.append(r)\n",
    "    10         2          1.0      0.5      0.1              max_l = r\n",
    "    11                                                   else:\n",
    "    12        98         65.0      0.7      6.8              l.append(max_l +1)\n",
    "    13        98         48.0      0.5      5.0              max_l = max_l +1\n",
    "    14                                           \n",
    "    15         1          1.0      1.0      0.1      return l"
   ]
  },
  {
   "cell_type": "markdown",
   "metadata": {},
   "source": [
    "## Ejercicio 4\n",
    "\n",
    "En una oferta de trabajo de analista de datos para la empresa Uber se nos pide analizar la distribución del uso de su servicio en la ciudad de New York. Para hacerlo, nos han proporcionado un conjunto de datos relativamente grande con datos diarios del uso de sus servicios entre los meses de abril y septiembre del 2014.\n",
    "\n",
    "Se nos pide que encontremos el recuento total de personas que han utilizado sus servicios agrupados por día de la semana, y que mostremos el resultado gráficamente utilizando un diagrama de barras donde en el eje `x` represente el día de la semana, y en el eje `y` represente el valor total de personas que han utilizado el servicio. Podéis encontrar los datos a analizar en el directorio `data`.\n",
    "\n",
    "1. Implementad una solución secuencial al problema planteado por el enunciado.\n",
    "2. Justificad si podéis reducir el tiempo de ejecución utilizando o bien múltiples *threads* o bien múltiples procesos.\n",
    "3. Implementad una solución multiproceso o *multithreaded* que reduzca el tiempo de ejecución (respecto a la solución secuencial).\n",
    "\n",
    "Podéis encontrar los datos originales [aquí](https://github.com/fivethirtyeight/uber-tlc-foil-response/tree/master/uber-trip-data).\n",
    "\n",
    "<span style=\"font-family: Courier New; background-color: #82b74b; color: #000000; padding: 3px; \">NM</span> **(4 puntos)**"
   ]
  },
  {
   "cell_type": "code",
   "execution_count": null,
   "metadata": {},
   "outputs": [],
   "source": [
    "import pandas as pd\n",
    "import glob\n",
    "\n",
    "CSV = \"data/uber-raw-data-*.csv\"\n",
    "csvs = glob.glob(CSV)\n",
    "\n",
    "days = ['Monday', 'Tuesday', 'Wednesday', 'Thursday', 'Friday', 'Saturday', 'Sunday']\n",
    "contador = np.zeros(len(days))\n",
    "for csv in csvs:\n",
    "    df = pd.read_csv(csv)\n",
    "    date_time = df[\"Date/Time\"].values\n",
    "    df['Weekday'] = pd.to_datetime(df['Date/Time']).dt.dayofweek\n",
    "    df_count = df.groupby('Weekday').count()\n",
    "    list_df = df_count[\"Lat\"].values\n",
    "    contador = contador + list_df\n",
    "\n",
    "plt.bar(days, contador)\n"
   ]
  },
  {
   "cell_type": "code",
   "execution_count": null,
   "metadata": {},
   "outputs": [],
   "source": [
    "def count_services(csv):\n",
    "    \"\"\"\n",
    "    Description: counts how many reservations had been done relative to the days of the week. \n",
    "    Input: csv file with data\n",
    "    output: Barplot with the reservation relative to each day of the week. \n",
    "    \"\"\"\n",
    "    print(csv)\n",
    "    df = pd.read_csv(csv)\n",
    "    date_time = df[\"Date/Time\"].values\n",
    "    df['Weekday'] = pd.to_datetime(df['Date/Time']).dt.dayofweek\n",
    "    df_count = df.groupby('Weekday').count()\n",
    "    list_df = df_count[\"Lat\"].values\n",
    "    return list_df\n"
   ]
  },
  {
   "cell_type": "markdown",
   "metadata": {},
   "source": [
    "A continuación, se aplica herramientas de multiprocessing en la que se divide el procesamiento de los 6 datasets necesarios en 6 de los nucleos del procesador. Con esto conseguimos que, en vez de que se procese un dataset detrás de otro, se puedan procesar los seis datasets a la vez y así se incrementa la velocidad de una manera significativa. "
   ]
  },
  {
   "cell_type": "code",
   "execution_count": null,
   "metadata": {},
   "outputs": [],
   "source": [
    "import multiprocessing\n",
    "CSV = \"data/uber-raw-data-*.csv\"\n",
    "csvs = glob.glob(CSV)\n",
    "p = multiprocessing.Pool(6)\n",
    "results = p.map(count_services, csvs)\n",
    "\n"
   ]
  },
  {
   "cell_type": "code",
   "execution_count": null,
   "metadata": {},
   "outputs": [],
   "source": [
    "results"
   ]
  },
  {
   "cell_type": "code",
   "execution_count": 96,
   "metadata": {},
   "outputs": [
    {
     "data": {
      "text/plain": [
       "<BarContainer object of 7 artists>"
      ]
     },
     "execution_count": 96,
     "metadata": {},
     "output_type": "execute_result"
    },
    {
     "data": {
      "image/png": "[encoded data removed]",
      "text/plain": [
       "<Figure size 432x288 with 1 Axes>"
      ]
     },
     "metadata": {
      "needs_background": "light"
     },
     "output_type": "display_data"
    }
   ],
   "source": [
    "contador_2 = np.sum(results, axis=0)\n",
    "plt.bar(days, contador_2)"
   ]
  },
  {
   "cell_type": "markdown",
   "metadata": {},
   "source": [
    "Aqui se observa como se obtiene el mismo resultado que el barplot obtenido al principio. "
   ]
  }
 ],
 "metadata": {
  "kernelspec": {
   "display_name": "Python 3",
   "language": "python",
   "name": "python3"
  },
  "language_info": {
   "codemirror_mode": {
    "name": "ipython",
    "version": 3
   },
   "file_extension": ".py",
   "mimetype": "text/x-python",
   "name": "python",
   "nbconvert_exporter": "python",
   "pygments_lexer": "ipython3",
   "version": "3.7.4"
  }
 },
 "nbformat": 4,
 "nbformat_minor": 2
}
