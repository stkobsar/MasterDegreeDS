{
 "cells": [
  {
   "cell_type": "markdown",
   "metadata": {},
   "source": [
    "<div style=\"width: 100%; clear: both;\">\n",
    "    <div style=\"float: left; width: 50%;\">\n",
    "       <img src=\"http://www.uoc.edu/portal/_resources/common/imatges/marca_UOC/UOC_Masterbrand.jpg\", align=\"left\">\n",
    "    </div>\n",
    "</div>\n",
    "\n",
    "<div style=\"float: right; width: 50%;\">\n",
    "    <p style=\"margin: 0; padding-top: 22px; text-align:right;\">22.503 · Programación para la ciencia de datos</p>\n",
    "    <p style=\"margin: 0; text-align:right;\">Grado en Ciencia de Datos Aplicada</p>\n",
    "    <p style=\"margin: 0; text-align:right; padding-button: 100px;\">Estudios de Informática, Multimedia y Telecomunicación</p>\n",
    "</div>\n",
    "\n",
    "</div>\n",
    "<div style=\"width: 100%; clear: both;\">\n",
    "<div style=\"width:100%;\">&nbsp;</div>"
   ]
  },
  {
   "cell_type": "markdown",
   "metadata": {},
   "source": [
    "Programación para la ciencia de datos - PEC2\n",
    "============================\n",
    "\n",
    "En este Notebook encontraréis un conjunto de ejercicios que suponen la segunda actividad de evaluación continua (PEC) de la asignatura.\n",
    "\n",
    "Para cada ejercicio, tened en cuenta que: \n",
    "* **Es necesario añadir comentarios** de vuestro código, que expliquen como habéis implementado la solución del problema planteado.\n",
    "* **Es imprescindible** citar las referencias que habéis consultado para realizar la actividad.\n",
    "* Se valorará que el código proporcionado solucione el problema propuesto y también la calidad del código (comentarios, legibilidad, claridad, uso de las estructuras de datos adecuadas, buena nomenclatura de las variables y funciones, seguimiento del PEP8, etc. ).\n",
    "\n",
    "Veréis que cada una de las actividades tiene asociada una puntuación, que indica el peso que tiene esa actividad sobre la nota de la PEC. Adicionalmente, hay una puntuación asociada a aspectos globales de la PEC (*docstring*, modularidad y estilo), que se evaluaran sobre la totalidad del código entregado. \n",
    "\n",
    "Además, veréis que todas las actividades tienen una etiqueta, que indica los recursos necesarios para llevarla a término. Hay tres posibles etiquetas: \n",
    "\n",
    "* <span style=\"font-family: Courier New; background-color: #82b74b; color: #000000; padding: 3px; \">SM</span> **Solo materiales**: las herramientas necesarias para realizar la actividad se pueden encontrar en los materiales de la asignatura (consideraremos también los materiales de la asignatura Fundamentos de Programación, así como las lecturas obligatorias de material externo que se indiquen en los notebooks).\n",
    "\n",
    "* <span style=\"font-family: Courier New; background-color: #ffcc5c; color: #000000; padding: 3px; \">EG</span> **Consulta externa guiada**: la actividad puede requerir el uso de herramientas que no se encuentren en los materiales de la asignatura, pero el enunciado contiene indicaciones de dónde o cómo encontrar la información adicional necesaria para resolver la actividad.\n",
    "\n",
    "* <span style=\"font-family: Courier New; background-color: #f2ae72; color: #000000; padding: 3px; \">EI</span> **Consulta externa independiente**: la actividad puede requerir el uso de herramientas que no se encuentren en los materiales de la asignatura, y el enunciado puede no incluir la descripción de dónde o cómo encontrar esta información adicional. Será necesario que el estudiante busque esta información usando los recursos explicados en la asignatura.\n",
    "\n",
    "Es importante notar que estas etiquetas no indican el nivel de dificultad del ejercicio, sino únicamente la necesidad de consulta de documentación externa para su resolución. Además, recordad que las **etiquetas son informativas**, pero podréis consultar referencias externas siempre que queráis (aunque no se indique explícitamente) o puede que podáis hacer una actividad sin consultar ningún tipo de documentación. Por ejemplo, para resolver una actividad que solo requiera los materiales de la asignatura, podéis consultar referencias externas si queréis, ¡ya sea tanto para ayudaros en su resolución como para ampliar conocimiento! \n",
    "\n",
    "---\n"
   ]
  },
  {
   "cell_type": "markdown",
   "metadata": {},
   "source": [
    "**Importante**: Además de la puntuación de cada ejercicio, que valora la calidad de la solución que proponéis y los resultados obtenidos, en esta PEC se valoran 3 aspectos adicionales, transversales a todas las actividades: \n",
    "\n",
    "* **Documentación** (**0.5*f puntos**): Todas las funciones de los ejercicios de esta PEC deberán estar correctamente documentadas utilizando *docstrings* (en el formato que prefiráis). \n",
    "\n",
    "* **Modularidad** (**1*f puntos**): Se valorará la modularidad del código (la correcta estructuración del código en funciones). \n",
    "\n",
    "* **Estilo** (**0.5*f puntos**): El código tiene que seguir la guía de estilo de Python (PEP8), exceptuando los casos donde hacerlo complique la legibilidad del código.\n",
    "\n",
    "Donde $f$ es la fracción de la PEC realizada. Es decir, la nota de estos aspectos transversales será proporcional a la parte de la PEC realizada.\n",
    "\n",
    "Así, los aspectos transversales tendrán una puntuación máxima de 2 puntos si se entregan todos los ejercicios de la PEC. En caso contrario, la nota de aspectos transversales se multiplicará por la fracción de la PEC entregada. Por ejemplo, si los aspectos transversales están puntuados con un 2 pero solo hay la mitad de la PEC entregada, la nota de aspectos transversales será $2*0.5=1$."
   ]
  },
  {
   "cell_type": "markdown",
   "metadata": {},
   "source": [
    "# Ejercicio 1\n",
    "\n",
    "Analizad los siguientes fragmentos de código, indicad qué operación realiza cada función y qué resultados se obtendría en las correspondientes llamadas, razonadamente. \n",
    "\n",
    "<span style=\"font-family: Courier New; background-color: #82b74b; color: #000000; padding: 3px; \">SM</span> **(1 punto)**\n"
   ]
  },
  {
   "cell_type": "code",
   "execution_count": 9,
   "metadata": {
    "pycharm": {
     "name": "#%%\n"
    }
   },
   "outputs": [],
   "source": [
    "# Ejercicio 1.1\n",
    "\n",
    "def foo(**kwargs):\n",
    "    \"\"\"\n",
    "    Description: This function return de sum of values inserted by the user only if they are integers.\n",
    "    \n",
    "    Arguments: integers inserted by the user\n",
    "    \n",
    "    Return: sum of values\n",
    "    \n",
    "    \"\"\"\n",
    "    values = [v for k, v in kwargs.items()]\n",
    "    if values and all(isinstance(x, int) for x in values):\n",
    "        return sum(values)"
   ]
  },
  {
   "cell_type": "code",
   "execution_count": 10,
   "metadata": {},
   "outputs": [
    {
     "name": "stdout",
     "output_type": "stream",
     "text": [
      "42\n",
      "None\n",
      "None\n"
     ]
    }
   ],
   "source": [
    "foo(x=40, y=2)\n",
    "foo()\n",
    "foo(x=30, y=20, z=1.2)"
   ]
  },
  {
   "cell_type": "markdown",
   "metadata": {},
   "source": [
    "Respuesta:\n",
    "\n",
    "Esta función suma todos los argumentos introducidos al llamarla, siempre y cuando se cumpla la condición de que todos lo argumentos sean enteros. Por tanto, la primera llamada dará 42; la segunda da None porque no se ha introducido ningún argumento; y la tercera también será None porque el tercer argumento no es un int. "
   ]
  },
  {
   "cell_type": "code",
   "execution_count": 30,
   "metadata": {
    "pycharm": {
     "name": "#%%\n"
    }
   },
   "outputs": [],
   "source": [
    "# Ejercicio 1.2\n",
    "\n",
    "y = 3\n",
    "\n",
    "def foo2(x, *args, **kwargs):\n",
    "    \"\"\"\n",
    "    Description: This function returns the sum of x and y or z values. The values are inserted by the user through the arguments. \n",
    "    \n",
    "    Arguments: uses positional arguments as args and kwargs. x has to be inserted in the first place or indicating the value by an = (i.e x = 5)\n",
    "    \n",
    "    Return: sum x + z\n",
    "    \n",
    "    \"\"\"\n",
    "    z = args[0] if args else y\n",
    "    return x + z"
   ]
  },
  {
   "cell_type": "code",
   "execution_count": 31,
   "metadata": {},
   "outputs": [
    {
     "name": "stdout",
     "output_type": "stream",
     "text": [
      "6\n",
      "5\n",
      "12\n"
     ]
    }
   ],
   "source": [
    "print(foo2(3))\n",
    "print(foo2(2, y=1))\n",
    "print(foo2(5, 7, y=1))"
   ]
  },
  {
   "cell_type": "markdown",
   "metadata": {},
   "source": [
    "Respuesta:\n",
    "\n",
    "Esta función devuelve la suma de los valores x y z. El valor x es el que se introduce en primera posición o el que se define con x = (valor). El valor de z será el primer elemento de la variable args, pero si esta está vacia, el valor será el de y, que en este caso está definido como y=3.  \n",
    "\n",
    "La primera llamada devuelve 6 porque se suma x + y, con x=3; la segunda llamada devuelve 5 porque se suma x + y porque la variable args está vacía; y la tercera llamada da 12 porque se suma x + z ya que args[0] = 7. "
   ]
  },
  {
   "cell_type": "markdown",
   "metadata": {},
   "source": [
    "# Ejercicio 2\n",
    "\n",
    "Queremos crear una o varias funciones que nos permitan extraer las direcciones IPv4 de artículos de texto para hacer un estudio de las direcciones más referenciadas en distintos blogs.\n",
    "\n",
    "La función debe recibir como parámetro el nombre del fichero de texto que contiene el artículo del cual queremos extraer todas las direcciones, y devolver una lista con todas las direcciones encontradas. **Utilizad las funciones map y filter para resolver el problema.**\n",
    "\n",
    "Las direcciones IPv4 siguen el formato *dotted quad*, es decir, consisten en 4 números (0-255) separado por puntos. Tened en cuenta que algunas direcciones pueden ir acompañadas de una máscara, por ejemplo: 192.168.1.30/16.\n",
    "\n",
    "Nos hemos descargado un artículo sobre IPv4 de Wikipedia para poder probar nuestro código (`data/ipv4_wiki.txt`). Dad el resultado de ejecutar la función sobre ese archivo.\n",
    "\n",
    "<span style=\"font-family: Courier New; background-color: #82b74b; color: #000000; padding: 3px; \">SM</span> **(2 puntos)**"
   ]
  },
  {
   "cell_type": "code",
   "execution_count": 23,
   "metadata": {},
   "outputs": [
    {
     "name": "stdout",
     "output_type": "stream",
     "text": [
      "[['172.16.254.1', '192.168.1.15', '255.255.255.0'], ['192.0.2.1', '255.255.255.0', '192.0.2.1'], ['172.16.254.1'], ['192.168.0.0', '192.168.0.255', '192.168.0.0'], ['169.254.0.0'], ['255.255.255.255', '192.0.2.0', '192.0.2.255'], ['224.0.0.0', '239.255.255.255']]\n"
     ]
    }
   ],
   "source": [
    "import re\n",
    "\n",
    "def extract_ip(file_name):\n",
    "    \"\"\"\n",
    "    Description: this function extract the IPv4 number of a given .txt file\n",
    "    Arguments: the name of the file\n",
    "    Returns: a list of IPs numbers\n",
    "    \"\"\"\n",
    "    #Leer un archivo\n",
    "    with open(file_name, \"r\") as f:\n",
    "        #lista de lineas\n",
    "        lines = f.readlines()\n",
    "        #Filtrado solo las lineas que tiene ip\n",
    "        filtered_lines = list(filter(filter_lines, lines))\n",
    "        #Funcion que saque las ips\n",
    "        ips = list(map(extract_ip_line, filtered_lines))\n",
    "        return ips\n",
    "        \n",
    "def filter_lines(element):\n",
    "    \"\"\"\n",
    "    Description: This function get's the lines of the document which have an IP address.\n",
    "    Argument: lines of the file\n",
    "    Return: All the lines which have an IP address.\n",
    "    \"\"\"\n",
    "    pattern = r'\\d{1,3}\\.\\d{1,3}\\.\\d{1,3}\\.\\d{1,3}'\n",
    "    return len(re.findall(pattern, element)) > 0\n",
    "\n",
    "def extract_ip_line(element):\n",
    "    \"\"\"\n",
    "    Description: This function extract the IP address from a line of a .txt file\n",
    "    Argument: single line of a file\n",
    "    Return: IP address\n",
    "    \"\"\"\n",
    "    pattern = r'\\d{1,3}\\.\\d{1,3}\\.\\d{1,3}\\.\\d{1,3}'\n",
    "    return re.findall(pattern, element)\n",
    "\n",
    "\n",
    "ips = extract_ip(\"data/ipv4_wiki.txt\")\n",
    "\n",
    "print(ips)\n",
    "    "
   ]
  },
  {
   "cell_type": "markdown",
   "metadata": {},
   "source": [
    "# Ejercicio 3\n",
    "\n",
    "Queréis generar un pequeño script para ordenar datos generados para un proyecto del que formáis parte. Los datos se encuentran todos juntos en una misma carpeta, pero los queréis separar en distintas carpetas en función de cuando fueron generadas. La estructura que queréis conseguir es la siguiente: \n",
    "\n",
    "- Habrá una carpeta con el nombre del proyecto que contendrá el resto de carpetas.\n",
    "- Dentro de esa carpeta del proyecto habrá una carpeta con cada año del cual tengamos datos. \n",
    "- Dentro de cada carpeta de año habrá una con cada mes del cual tengamos datos.\n",
    "- Dentro de cada carpeta de mes habrá una con cada día (si hay datos de ese día).\n",
    "- Dentro de cada carpeta de cada día habrá los ficheros generados ese día.\n",
    "- Los ficheros mantendrán su nombre original.\n",
    "\n",
    "Los datos del proyecto se encuentran en la carpeta `bulk_project_data` y tienen información de cuando fueron generados en el nombre del fichero:\n",
    "\n",
    "`DD-MM-YYYY.csv`\n",
    "\n",
    "Donde `DD` corresponde al día, con dos dígitos, `MM` corresponde al mes, con dos dígitos, y `YYYY` corresponde al año, con 4 dígitos. \n",
    "\n",
    "La carpeta del proyecto tendrá que estar guardada en la carpeta de usuario del usuario que ejecute el script (`~`), es decir, `/home/nombre_usuario`.\n",
    "\n",
    "**Pista: buscad información de la función expanduser de la librería os.path**\n",
    "\n",
    "Para resolver el problema tendréis que generar una función que recibirá dos parámetros:\n",
    "- La ruta de la carpeta con los datos a ordenar.\n",
    "- El nombre de la carpeta del proyecto donde se guardarán los datos.\n",
    "\n",
    "El segundo parámetro será opcional, y tendrá como valor por defecto `project_data`.\n",
    "\n",
    "Ejemplo de estructura:\n",
    "```\n",
    "project_folder\n",
    "    2018\n",
    "       01\n",
    "           01\n",
    "               file1.csv\n",
    "               file2.csv\n",
    "           02\n",
    "                ...\n",
    "       ...\n",
    "    2019\n",
    "        ...\n",
    "    2020\n",
    "        ...\n",
    "```\n",
    "\n",
    "<span style=\"font-family: Courier New; background-color: #82b74b; color: #000000; padding: 3px; \">SM</span> **(2 puntos)**\n"
   ]
  },
  {
   "cell_type": "code",
   "execution_count": 2,
   "metadata": {},
   "outputs": [],
   "source": [
    "import os\n",
    "import glob\n",
    "import shutil\n",
    "\n",
    "\n",
    "project_folder = \"project_folder\"\n",
    "csv_pattern = \"bulk_project_data/*.csv\"\n",
    "\n",
    "if not os.path.exists(project_folder):\n",
    "    os.mkdir(project_folder)\n",
    "\n",
    "csvs = glob.glob(csv_pattern)\n",
    "\n",
    "for name in csvs:\n",
    "    month = name[-11:-9]\n",
    "    year = name[-8:-4]\n",
    "    day = name[-14:-12]\n",
    "    path = os.path.join(project_folder, year, month, day)\n",
    "    if not os.path.exists(path):\n",
    "        os.makedirs(path)\n",
    "    shutil.copy(name, path)\n",
    "    "
   ]
  },
  {
   "cell_type": "code",
   "execution_count": 3,
   "metadata": {},
   "outputs": [
    {
     "name": "stdout",
     "output_type": "stream",
     "text": [
      "07-01-2018.csv\r\n"
     ]
    }
   ],
   "source": [
    "!ls project_folder/2018/01/07\n"
   ]
  },
  {
   "cell_type": "markdown",
   "metadata": {},
   "source": [
    "# Ejercicio 4\n",
    "\n",
    "En el notebook de teoría hemos visto como de fácil es cargar ficheros csv con pandas, y la gran variedad de opciones que nos permite. En este ejercicio crearemos una versión reducida de la función `read_csv`.\n",
    "\n",
    "Cread una función `custom_read_csv` que nos permita cargar datos de un archivo `csv` y guardarlos en un diccionario. La función nos deberá permitir seleccionar el tipo de separador de datos que queremos utilizar (tomaremos la coma como valor por defecto) y si existe algún valor que tiene que ser tomado como nulo (o NaN). Los valores nulos los representaremos como `None`.\n",
    "\n",
    "Finalmente, el valor de la llave del diccionario corresponderá con el número de la línea que estamos leyendo, empezando por `0` (y omitiendo la cabecera).\n",
    "\n",
    "Dad el resultado de ejecutar la llamada a la función `custom_read_csv` con el archivo `data/data_marvel-wikia-data.csv` que hemos visto en el notebook de teoría y `-` como `nan_value`.\n",
    "\n",
    "**Podéis asumir que los archivos csv tienen un formato correcto, es decir, el número de columnas por cada fila es correcto y la cabecera existe**.\n",
    "\n",
    "**Ejemplo:**\n",
    "\n",
    "Dadas las siguientes líneas de un fichero:\n",
    "\n",
    "    value1, value2, value3, ..., valuen\n",
    "    \n",
    "    1, 2, 3, ..., n\n",
    "    \n",
    "    45, 7, NaN, ..., 68\n",
    "    \n",
    "    42, NaN, 0, ..., -1\n",
    "\n",
    "Y la llamada a la función:\n",
    "\n",
    "    custom_read_csv(file_path, ',', 'NaN')\n",
    "\n",
    "Tendríamos que obtener el diccionario:\n",
    "\n",
    "```\n",
    "{\n",
    "\"0\": {\"value1\": 1, \"value2\": 2, \"value3\": 3, ..., \"valuen\": n},\n",
    "\"1\": {\"value1\": 45, \"value2\": 7, \"value3\": None, ..., \"valuen\": 68},\n",
    "\"2\": {\"value1\": 42, \"value2\": None, \"value3\": 0, ..., \"valuen\": -1}\n",
    "}\n",
    "\n",
    "```\n",
    "\n",
    "<span style=\"font-family: Courier New; background-color: #82b74b; color: #000000; padding: 3px; \">SM</span> **(2 puntos)**\n"
   ]
  },
  {
   "cell_type": "code",
   "execution_count": 81,
   "metadata": {},
   "outputs": [
    {
     "name": "stdout",
     "output_type": "stream",
     "text": [
      "{0: {'page_id': 1678, 'name': 'Spider-Man (Peter Parker)', 'urlslug': '\\\\/Spider-Man_(Peter_Parker)', 'ID': 'Secret Identity', 'ALIGN': 'Good Characters', 'EYE': 'Hazel Eyes', 'HAIR': 'Brown Hair', 'SEX': 'Male Characters', 'GSM': 'dontknow', 'ALIVE': 'Living Characters', 'APPEARANCES': 4043.0, 'FIRST APPEARANCE': 'Aug-62', 'Year': 1.962}, 1: {'page_id': 7139, 'name': 'Captain America (Steven Rogers)', 'urlslug': '\\\\/Captain_America_(Steven_Rogers)', 'ID': 'Public Identity', 'ALIGN': 'Good Characters', 'EYE': 'Blue Eyes', 'HAIR': 'White Hair', 'SEX': 'Male Characters', 'GSM': None, 'ALIVE': 'Living Characters', 'APPEARANCES': 3360.0, 'FIRST APPEARANCE': 'Mar-41', 'Year': 1.9409999999999998}, 2: {'page_id': 64786, 'name': 'Wolverine (James \\\\\"Logan\\\\\" Howlett)', 'urlslug': '\\\\/Wolverine_(James_%22Logan%22_Howlett)', 'ID': 'Public Identity', 'ALIGN': 'Neutral Characters', 'EYE': 'Blue Eyes', 'HAIR': 'Black Hair', 'SEX': 'Male Characters', 'GSM': 'dontknow', 'ALIVE': 'Living Characters', 'APPEARANCES': 3061.0, 'FIRST APPEARANCE': 'Oct-74', 'Year': 1.974}, 3: {'page_id': 1868, 'name': 'Iron Man (Anthony \\\\\"Tony\\\\\" Stark)', 'urlslug': '\\\\/Iron_Man_(Anthony_%22Tony%22_Stark)', 'ID': 'Public Identity', 'ALIGN': 'Good Characters', 'EYE': 'Blue Eyes', 'HAIR': 'Black Hair', 'SEX': 'Male Characters', 'GSM': None, 'ALIVE': 'Living Characters', 'APPEARANCES': 2961.0, 'FIRST APPEARANCE': 'Mar-63', 'Year': 1.963}, 4: {'page_id': 2460, 'name': 'Thor (Thor Odinson)', 'urlslug': '\\\\/Thor_(Thor_Odinson)', 'ID': 'No Dual Identity', 'ALIGN': 'Good Characters', 'EYE': 'Blue Eyes', 'HAIR': 'Blond Hair', 'SEX': 'Male Characters', 'GSM': None, 'ALIVE': 'Living Characters', 'APPEARANCES': 2258.0, 'FIRST APPEARANCE': 'Nov-50', 'Year': 1.95}, 5: {'page_id': 2458, 'name': 'Benjamin Grimm (Earth-616)', 'urlslug': '\\\\/Benjamin_Grimm_(Earth-616)', 'ID': 'Public Identity', 'ALIGN': 'Good Characters', 'EYE': 'Blue Eyes', 'HAIR': 'No Hair', 'SEX': 'Male Characters', 'GSM': None, 'ALIVE': 'Living Characters', 'APPEARANCES': 2255.0, 'FIRST APPEARANCE': 'Nov-61', 'Year': 1.9609999999999999}, 6: {'page_id': 2166, 'name': 'Reed Richards (Earth-616)', 'urlslug': '\\\\/Reed_Richards_(Earth-616)', 'ID': 'Public Identity', 'ALIGN': 'Good Characters', 'EYE': 'Brown Eyes', 'HAIR': 'Brown Hair', 'SEX': 'Male Characters', 'GSM': 'dontknow', 'ALIVE': 'Living Characters', 'APPEARANCES': 2072.0, 'FIRST APPEARANCE': 'Nov-61', 'Year': 1.9609999999999999}, 7: {'page_id': 1833, 'name': 'Hulk (Robert Bruce Banner)', 'urlslug': '\\\\/Hulk_(Robert_Bruce_Banner)', 'ID': 'Public Identity', 'ALIGN': 'Good Characters', 'EYE': 'Brown Eyes', 'HAIR': 'Brown Hair', 'SEX': 'Male Characters', 'GSM': None, 'ALIVE': 'Living Characters', 'APPEARANCES': 2017.0, 'FIRST APPEARANCE': 'May-62', 'Year': 1.962}, 8: {'page_id': 29481, 'name': 'Scott Summers (Earth-616)', 'urlslug': '\\\\/Scott_Summers_(Earth-616)', 'ID': 'Public Identity', 'ALIGN': 'Neutral Characters', 'EYE': 'Brown Eyes', 'HAIR': 'Brown Hair', 'SEX': 'Male Characters', 'GSM': None, 'ALIVE': 'Living Characters', 'APPEARANCES': 1955.0, 'FIRST APPEARANCE': 'Sep-63', 'Year': 1.963}, 9: {'page_id': 1837, 'name': 'Jonathan Storm (Earth-616)', 'urlslug': '\\\\/Jonathan_Storm_(Earth-616)', 'ID': 'Public Identity', 'ALIGN': 'Good Characters', 'EYE': 'Blue Eyes', 'HAIR': 'Blond Hair', 'SEX': 'Male Characters', 'GSM': None, 'ALIVE': 'Living Characters', 'APPEARANCES': 1934.0, 'FIRST APPEARANCE': 'Nov-61', 'Year': 1.9609999999999999}, 10: {'page_id': 15725, 'name': 'Henry McCoy (Earth-616)', 'urlslug': '\\\\/Henry_McCoy_(Earth-616)', 'ID': 'Public Identity', 'ALIGN': 'Good Characters', 'EYE': 'Blue Eyes', 'HAIR': 'Blue Hair', 'SEX': 'Male Characters', 'GSM': None, 'ALIVE': 'Living Characters', 'APPEARANCES': 1825.0, 'FIRST APPEARANCE': 'Sep-63', 'Year': 1.963}, 11: {'page_id': 1863, 'name': 'Susan Storm (Earth-616)', 'urlslug': '\\\\/Susan_Storm_(Earth-616)', 'ID': 'Public Identity', 'ALIGN': 'Good Characters', 'EYE': 'Blue Eyes', 'HAIR': 'Blond Hair', 'SEX': 'Female Characters', 'GSM': None, 'ALIVE': 'Living Characters', 'APPEARANCES': 1713.0, 'FIRST APPEARANCE': 'Nov-61', 'Year': 1.9609999999999999}, 12: {'page_id': 7823, 'name': 'Namor McKenzie (Earth-616)', 'urlslug': '\\\\/Namor_McKenzie_(Earth-616)', 'ID': 'No Dual Identity', 'ALIGN': 'Neutral Characters', 'EYE': 'Green Eyes', 'HAIR': 'Black Hair', 'SEX': 'Male Characters', 'GSM': None, 'ALIVE': 'Living Characters', 'APPEARANCES': None, 'FIRST APPEARANCE': 'Nov-61', 'Year': 1.528}, 13: {'page_id': 2614, 'name': 'Ororo Munroe (Earth-616)', 'urlslug': '\\\\/Ororo_Munroe_(Earth-616)', 'ID': 'Public Identity', 'ALIGN': 'Good Characters', 'EYE': 'Blue Eyes', 'HAIR': 'White Hair', 'SEX': 'Female Characters', 'GSM': None, 'ALIVE': 'Living Characters', 'APPEARANCES': 1512.0, 'FIRST APPEARANCE': 'May-75', 'Year': 1.975}, 14: {'page_id': 1803, 'name': 'Clinton Barton (Earth-616)', 'urlslug': '\\\\/Clinton_Barton_(Earth-616)', 'ID': 'Public Identity', 'ALIGN': 'Good Characters', 'EYE': 'Blue Eyes', 'HAIR': 'Blond Hair', 'SEX': 'Male Characters', 'GSM': None, 'ALIVE': 'Living Characters', 'APPEARANCES': 1394.0, 'FIRST APPEARANCE': 'Sep-64', 'Year': 1.964}, 15: {'page_id': 1396, 'name': 'Matthew Murdock (Earth-616)', 'urlslug': '\\\\/Matthew_Murdock_(Earth-616)', 'ID': 'Public Identity', 'ALIGN': 'Good Characters', 'EYE': 'Blue Eyes', 'HAIR': 'Red Hair', 'SEX': 'Male Characters', 'GSM': None, 'ALIVE': 'Living Characters', 'APPEARANCES': 1338.0, 'FIRST APPEARANCE': 'Apr-64', 'Year': 1.964}, 16: {'page_id': 55534, 'name': 'Stephen Strange (Earth-616)', 'urlslug': '\\\\/Stephen_Strange_(Earth-616)', 'ID': 'Public Identity', 'ALIGN': 'Good Characters', 'EYE': 'Grey Eyes', 'HAIR': 'Black Hair', 'SEX': 'Male Characters', 'GSM': None, 'ALIVE': 'Living Characters', 'APPEARANCES': 1307.0, 'FIRST APPEARANCE': 'Jul-63', 'Year': 1.963}, 17: {'page_id': 1978, 'name': 'Mary Jane Watson (Earth-616)', 'urlslug': '\\\\/Mary_Jane_Watson_(Earth-616)', 'ID': 'No Dual Identity', 'ALIGN': 'Good Characters', 'EYE': 'Green Eyes', 'HAIR': 'Red Hair', 'SEX': 'Female Characters', 'GSM': None, 'ALIVE': 'Living Characters', 'APPEARANCES': 1304.0, 'FIRST APPEARANCE': 'Jun-65', 'Year': 1.965}, 18: {'page_id': 1872, 'name': 'John Jonah Jameson (Earth-616)', 'urlslug': '\\\\/John_Jonah_Jameson_(Earth-616)', 'ID': 'No Dual Identity', 'ALIGN': 'Neutral Characters', 'EYE': 'Blue Eyes', 'HAIR': 'Black Hair', 'SEX': 'Male Characters', 'GSM': None, 'ALIVE': 'Living Characters', 'APPEARANCES': 1266.0, 'FIRST APPEARANCE': 'Mar-63', 'Year': 1.963}, 19: {'page_id': 35350, 'name': 'Robert Drake (Earth-616)', 'urlslug': '\\\\/Robert_Drake_(Earth-616)', 'ID': 'Secret Identity', 'ALIGN': 'Good Characters', 'EYE': 'Brown Eyes', 'HAIR': 'Brown Hair', 'SEX': 'Male Characters', 'GSM': None, 'ALIVE': 'Living Characters', 'APPEARANCES': 1265.0, 'FIRST APPEARANCE': 'Sep-63', 'Year': 1.963}, 20: {'page_id': 1557, 'name': 'Henry Pym (Earth-616)', 'urlslug': '\\\\/Henry_Pym_(Earth-616)', 'ID': 'Public Identity', 'ALIGN': 'Good Characters', 'EYE': 'Blue Eyes', 'HAIR': 'Blond Hair', 'SEX': 'Male Characters', 'GSM': None, 'ALIVE': 'Living Characters', 'APPEARANCES': 1237.0, 'FIRST APPEARANCE': 'Jan-62', 'Year': 1.962}, 21: {'page_id': 65255, 'name': 'Charles Xavier (Earth-616)', 'urlslug': '\\\\/Charles_Xavier_(Earth-616)', 'ID': 'Public Identity', 'ALIGN': 'Good Characters', 'EYE': 'Blue Eyes', 'HAIR': 'Bald', 'SEX': 'Male Characters', 'GSM': None, 'ALIVE': 'Deceased Characters', 'APPEARANCES': 1233.0, 'FIRST APPEARANCE': 'Sep-63', 'Year': 1.963}, 22: {'page_id': 1073, 'name': 'Warren Worthington III (Earth-616)', 'urlslug': '\\\\/Warren_Worthington_III_(Earth-616)', 'ID': 'Public Identity', 'ALIGN': 'Good Characters', 'EYE': 'Blue Eyes', 'HAIR': 'Blond Hair', 'SEX': 'Male Characters', 'GSM': None, 'ALIVE': 'Living Characters', 'APPEARANCES': 1230.0, 'FIRST APPEARANCE': 'Sep-63', 'Year': 1.963}, 23: {'page_id': 1346, 'name': 'Piotr Rasputin (Earth-616)', 'urlslug': '\\\\/Piotr_Rasputin_(Earth-616)', 'ID': 'Secret Identity', 'ALIGN': 'Good Characters', 'EYE': 'Blue Eyes', 'HAIR': 'Black Hair', 'SEX': 'Male Characters', 'GSM': None, 'ALIVE': 'Living Characters', 'APPEARANCES': 1162.0, 'FIRST APPEARANCE': 'May-75', 'Year': 1.975}, 24: {'page_id': 2512, 'name': 'Wanda Maximoff (Earth-616)', 'urlslug': '\\\\/Wanda_Maximoff_(Earth-616)', 'ID': 'Public Identity', 'ALIGN': 'Good Characters', 'EYE': 'Green Eyes', 'HAIR': 'Brown Hair', 'SEX': 'Female Characters', 'GSM': None, 'ALIVE': 'Living Characters', 'APPEARANCES': 1161.0, 'FIRST APPEARANCE': 'Mar-64', 'Year': 1.964}, 25: {'page_id': 1671, 'name': 'Nicholas Fury (Earth-616)', 'urlslug': '\\\\/Nicholas_Fury_(Earth-616)', 'ID': 'No Dual Identity', 'ALIGN': 'Neutral Characters', 'EYE': 'Brown Eyes', 'HAIR': 'Brown Hair', 'SEX': 'Male Characters', 'GSM': None, 'ALIVE': 'Living Characters', 'APPEARANCES': 1137.0, 'FIRST APPEARANCE': 'May-63', 'Year': 1.963}, 26: {'page_id': 1976, 'name': 'Janet van Dyne (Earth-616)', 'urlslug': '\\\\/Janet_van_Dyne_(Earth-616)', 'ID': 'Public Identity', 'ALIGN': 'Good Characters', 'EYE': 'Blue Eyes', 'HAIR': 'Auburn Hair', 'SEX': 'Female Characters', 'GSM': None, 'ALIVE': 'Living Characters', 'APPEARANCES': 1120.0, 'FIRST APPEARANCE': 'Jun-63', 'Year': 1.963}, 27: {'page_id': 65219, 'name': 'Jean Grey (Earth-616)', 'urlslug': '\\\\/Jean_Grey_(Earth-616)', 'ID': 'Public Identity', 'ALIGN': 'Good Characters', 'EYE': 'Green Eyes', 'HAIR': 'Red Hair', 'SEX': 'Female Characters', 'GSM': None, 'ALIVE': 'Deceased Characters', 'APPEARANCES': 1107.0, 'FIRST APPEARANCE': 'Sep-63', 'Year': 1.963}, 28: {'page_id': 6545, 'name': 'Natalia Romanova (Earth-616)', 'urlslug': '\\\\/Natalia_Romanova_(Earth-616)', 'ID': 'Public Identity', 'ALIGN': 'Good Characters', 'EYE': 'Green Eyes', 'HAIR': 'Red Hair', 'SEX': 'Female Characters', 'GSM': 'Bisexual Characters', 'ALIVE': 'Living Characters', 'APPEARANCES': 1050.0, 'FIRST APPEARANCE': 'Apr-64', 'Year': 1.964}, 29: {'page_id': 2223, 'name': 'Kurt Wagner (Earth-616)', 'urlslug': '\\\\/Kurt_Wagner_(Earth-616)', 'ID': 'Secret Identity', 'ALIGN': 'Good Characters', 'EYE': 'Yellow Eyes', 'HAIR': 'Blue Hair', 'SEX': 'Male Characters', 'GSM': None, 'ALIVE': 'Living Characters', 'APPEARANCES': 1047.0, 'FIRST APPEARANCE': 'May-75', 'Year': 1.975}, 30: {'page_id': 9999, 'name': '-', 'urlslug': '-', 'ID': '-', 'ALIGN': '-', 'EYE': '-', 'HAIR': '-', 'SEX': '-', 'GSM': None, 'ALIVE': '-', 'APPEARANCES': 0.0, 'FIRST APPEARANCE': '-0', 'Year': 0.0}}\n"
     ]
    }
   ],
   "source": [
    "import pandas as pd\n",
    "\n",
    "\n",
    "def custom_read_csv(csv, separator=\",\"):\n",
    "    \"\"\"\n",
    "    Description: this function reads a csv file and converts it to a dictionary. It also allows the user to choose the type of separator used in the dictionary. \n",
    "    Arguments: csv file and type of separator (default: \",\")\n",
    "    Return: dictionary\n",
    "    \"\"\"\n",
    "    df = pd.read_csv(csv, sep=separator)\n",
    "    df = df.where(pd.notnull(df), None)\n",
    "    print(df.to_dict(orient=\"index\"))\n",
    "    \n",
    "custom_read_csv(\"data/data_marvel-wikia-data.csv\")"
   ]
  },
  {
   "cell_type": "markdown",
   "metadata": {},
   "source": [
    "# Ejercicio 5\n",
    "\n",
    "Cread una función que, dado un diccionario y un nombre de un fichero, guarde el diccionario en disco. La función deberá permitir escoger el tipo de formato que queremos utilizar para guardar el diccionario (texto o pickle), y si queremos comprimir el archivo de salida en zip. \n",
    "\n",
    "De tal manera que podremos tener cuatro tipos de salida:\n",
    "- Archivo txt.\n",
    "- Arxivo pkl.\n",
    "- Arxivo zip conteniendo un txt.\n",
    "- Arxivo zip conteniendo un pkl.\n",
    "\n",
    "Por defecto la función no comprimirá en zip.\n",
    "\n",
    "<span style=\"font-family: Courier New; background-color: #82b74b; color: #000000; padding: 3px; \">SM</span> **(1 punto)**"
   ]
  },
  {
   "cell_type": "code",
   "execution_count": 8,
   "metadata": {},
   "outputs": [],
   "source": [
    "import json\n",
    "import pickle\n",
    "import zipfile\n",
    "\n",
    "dict = {\"Stephi\":  27, \"Dani\": 26}\n",
    "\n",
    "\n",
    "def dictionary_pec(dict, name, format=\"txt\", zip=False):\n",
    "    \"\"\"\n",
    "    Description: This function allows the user to convert a dictionary into .txt ot .pkl file. Furthermore, it's possible to compress the file into a .zip format. \n",
    "    Arguments: dictionary, name of the file, format(default .txt) and zip as a boolean argument.\n",
    "    Return: dictionary converted in the choosen format\n",
    "    \"\"\"\n",
    "    if format == \"txt\":\n",
    "        with open(f'{name}.txt', 'w') as file:\n",
    "             file.write(json.dumps(dict))\n",
    "        if zip:\n",
    "            zipfile.ZipFile(f'{name}_txt.zip', mode='w').write(f\"{name}.txt\")\n",
    "\n",
    "    elif format == \"pkl\": \n",
    "        output = open(f'{name}.pkl', 'wb')\n",
    "        pickle.dump(dict, output)\n",
    "        output.close()\n",
    "        if zip:\n",
    "            zipfile.ZipFile(f'{name}_pkl.zip', mode='w').write(f\"{name}.pkl\")\n",
    "    else:\n",
    "        print(\"Choose between format=[txt/pkl]\")\n",
    "\n",
    "            \n",
    "dictionary_pec(dict, \"ages\", format=\"txt\", zip=True)"
   ]
  }
 ],
 "metadata": {
  "kernelspec": {
   "display_name": "Python 3",
   "language": "python",
   "name": "python3"
  },
  "language_info": {
   "codemirror_mode": {
    "name": "ipython",
    "version": 3
   },
   "file_extension": ".py",
   "mimetype": "text/x-python",
   "name": "python",
   "nbconvert_exporter": "python",
   "pygments_lexer": "ipython3",
   "version": "3.7.4"
  },
  "pycharm": {
   "stem_cell": {
    "cell_type": "raw",
    "metadata": {
     "collapsed": false
    },
    "source": []
   }
  }
 },
 "nbformat": 4,
 "nbformat_minor": 2
}
